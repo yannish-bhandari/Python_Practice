{
 "cells": [
  {
   "cell_type": "markdown",
   "id": "b21f9de0-1fa6-437d-b780-110e3fe0a909",
   "metadata": {},
   "source": [
    "# ***Exercise 1: Twitter (X) data***\n",
    "\n",
    "The file `twitter_data.json` contains a subset of real tweets obtained from http://covid19research.site/geo-tagged_twitter_datasets/, with full metadata as retrieved by the Twitter API. You can load it as a list of dictionaries using the code below.\n",
    "\n",
    "```python\n",
    "import json\n",
    "\n",
    "with open(\"data/twitter_data.json\") as data:\n",
    "    data = json.load(data)\n",
    "```\n",
    "\n",
    "Answer the following questions\n",
    "1. Write a function `print_tweet` that prints the ID and the tweet itsetf (stored in `text` key). Iterate over all tweets and print their content.\n",
    "```python\n",
    "def print_tweet(tweet: dict) -> None\n",
    "```\n",
    "2. Write a function `has_hastags` that checks if the tweet has any hashtag\n",
    "```python\n",
    "def has_hashtags(tweet: dict) -> bool\n",
    "```\n",
    "3. Build a function `get_hashtags` that receives a tweet and returns a set with all hashtags in the tweet. Use the function `has_hashtags` to check first if the tweet has any. Then iterate over all tweets and get the total set of unique hashtags. *Hint: hashtags are stored in `entities` key*\n",
    " ```python\n",
    " def get_hashtags(tweet: dict) -> set\n",
    " ```"
   ]
  },
  {
   "cell_type": "code",
   "execution_count": 1,
   "id": "1bfbf7b3-399b-46cd-bb89-4f204e20b525",
   "metadata": {},
   "outputs": [],
   "source": [
    "import json\n",
    "\n",
    "with open(\"data/twitter_data.json\") as data:\n",
    "    data = json.load(data)"
   ]
  },
  {
   "cell_type": "code",
   "execution_count": 2,
   "id": "15b3e3c8-0d66-47ba-8d23-6e2d46753376",
   "metadata": {},
   "outputs": [
    {
     "name": "stdout",
     "output_type": "stream",
     "text": [
      "1252840795737997317 -> Tennis a la Balboa.\n",
      "\n",
      "#balboaisland #newportbeach #tennis #covid_19 #coronavirus #orangecounty #california… https://t.co/px1GCH1bgZ\n",
      "1256259052461592580 -> #Repost bandcamp\n",
      "• • • • • •\n",
      "To keep supporting musicians during the Covid-19 pandemic, we are waiving our revenue… https://t.co/W7mJY3QPH0\n",
      "1256459430129885184 -> Things to Do (Inside) in L.A. #ThisWeekend https://t.co/DnsuwtVXbb via @LAMag\n",
      "#la #LosAngeles #activities #lockdown… https://t.co/QvFjrEAfFj\n",
      "1256459484521615362 -> Many of San Franciscians are unable to rent today. Where is our State Senator @Scott_Wiener? What is he during for… https://t.co/0WmXryP7vm\n",
      "1258334628345044992 -> #COVID19 vs #Protesters https://t.co/UT7oW2KcGU\n",
      "1253472356476940290 -> Sunlight shown to kill COVID virus faster....this lady was on to something. https://t.co/Yz1AzmR03d\n",
      "1253472297144299520 -> I think I’m going to venture out into these streets today and COVID responsibly shoot these LA streets\n",
      "1254774730529243136 -> hoje acaba minha quarentena. fui convocada pra voltar ao hospital depois de 45 dias em casa. hoje também tenho pess… https://t.co/Q0comhlAEq\n",
      "1258172892077912064 -> CoVid coming at 2020 like https://t.co/iLHv2SrW5B\n"
     ]
    }
   ],
   "source": [
    "# 1. print tweets\n",
    "def print_tweet(tweet):\n",
    "    print(f\"{tweet['id']} -> {tweet['text']}\")\n",
    "    \n",
    "for tweet in data:\n",
    "    print_tweet(tweet)"
   ]
  },
  {
   "cell_type": "code",
   "execution_count": 3,
   "id": "07aad9dd-de4e-4eea-9388-09f659dae9aa",
   "metadata": {},
   "outputs": [
    {
     "name": "stdout",
     "output_type": "stream",
     "text": [
      "1252840795737997317 -> True\n",
      "1256259052461592580 -> True\n",
      "1256459430129885184 -> True\n",
      "1256459484521615362 -> False\n",
      "1258334628345044992 -> True\n",
      "1253472356476940290 -> False\n",
      "1253472297144299520 -> False\n",
      "1254774730529243136 -> False\n",
      "1258172892077912064 -> False\n"
     ]
    }
   ],
   "source": [
    "# 2. check hashtags\n",
    "\n",
    "def has_hashtags(tweet):\n",
    "    if tweet[\"entities\"][\"hashtags\"]:\n",
    "        return True\n",
    "    else:\n",
    "        return False\n",
    "    \n",
    "for tweet in data:\n",
    "    print(f\"{tweet['id']} -> {has_hashtags(tweet)}\")"
   ]
  },
  {
   "cell_type": "code",
   "execution_count": 6,
   "id": "5c0f848b-96c7-4f71-a855-127a601c1d1a",
   "metadata": {},
   "outputs": [],
   "source": [
    "# 3. get hashtags\n",
    "\n",
    "def get_hashtags(tweet):\n",
    "    if has_hashtags(tweet):\n",
    "        hashtags = {ht[\"text\"] for ht in tweet[\"entities\"][\"hashtags\"]}\n",
    "    else:\n",
    "        hashtags = set()\n",
    "        \n",
    "    return hashtags\n",
    "\n",
    "# now apply it to all tweets\n",
    "all_ht = set()\n",
    "for tweet in data:\n",
    "    all_ht |= get_hashtags(tweet)"
   ]
  },
  {
   "cell_type": "code",
   "execution_count": 7,
   "id": "926d40b9-0ad4-41b7-9ace-54e15c728481",
   "metadata": {},
   "outputs": [
    {
     "data": {
      "text/plain": [
       "{'COVID19',\n",
       " 'LosAngeles',\n",
       " 'Protesters',\n",
       " 'Repost',\n",
       " 'ThisWeekend',\n",
       " 'activities',\n",
       " 'balboaisland',\n",
       " 'california',\n",
       " 'coronavirus',\n",
       " 'covid_19',\n",
       " 'la',\n",
       " 'lockdown',\n",
       " 'newportbeach',\n",
       " 'orangecounty',\n",
       " 'tennis'}"
      ]
     },
     "execution_count": 7,
     "metadata": {},
     "output_type": "execute_result"
    }
   ],
   "source": [
    "all_ht"
   ]
  }
 ],
 "metadata": {
  "kernelspec": {
   "display_name": "Python 3 (ipykernel)",
   "language": "python",
   "name": "python3"
  },
  "language_info": {
   "codemirror_mode": {
    "name": "ipython",
    "version": 3
   },
   "file_extension": ".py",
   "mimetype": "text/x-python",
   "name": "python",
   "nbconvert_exporter": "python",
   "pygments_lexer": "ipython3",
   "version": "3.10.11"
  },
  "toc-autonumbering": false,
  "toc-showmarkdowntxt": false
 },
 "nbformat": 4,
 "nbformat_minor": 5
}
