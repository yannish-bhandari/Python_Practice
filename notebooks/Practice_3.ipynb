{
 "cells": [
  {
   "cell_type": "markdown",
   "id": "877b812f-4ca1-47bc-8b8a-ba32902fd12e",
   "metadata": {},
   "source": [
    "# Exercise 1"
   ]
  },
  {
   "cell_type": "markdown",
   "id": "69935eff-cdc3-42d6-84a5-c960974463a7",
   "metadata": {},
   "source": [
    "Get the transformed version of each string, and store it in a new column with the provided list:\n",
    "\n",
    "| Original | Transformed |\n",
    "| --- | --- |\n",
    "| `\"Tim O'Reilly\"` | `\"tim o'reilly\"` |\n",
    "| `\"Tim O'Reilly\"` | `\"Tom O'Reolly\"` |\n",
    "| `\"Tim O'Reilly\"` | `\"T1m 0'R31lly\"` |\n",
    "| `\"Tim O'Reilly\"` | `\"tIM o'rEILLY\"` |\n",
    "| `\"Tim O'Reilly\"` | `\"----Tim O'Reilly----\"` (20 chars) |\n",
    "| `\"Tim O'Reilly\"` | `\"TIM O'REILLY        \"` (20 chars) |"
   ]
  },
  {
   "cell_type": "code",
   "execution_count": 6,
   "id": "3c25673a",
   "metadata": {},
   "outputs": [
    {
     "name": "stdout",
     "output_type": "stream",
     "text": [
      "tim o'reilly\n",
      "Tom O'Reolly\n",
      "T1m 0'R31lly\n",
      "tIM o'rEILLY\n",
      "----Tim O'Reilly----\n",
      "    Tim O'Reilly    \n"
     ]
    }
   ],
   "source": [
    "Name = \"Tim O'Reilly\"\n",
    "\n",
    "print(Name.lower())\n",
    "\n",
    "print(Name.replace('i','o'))\n",
    "\n",
    "print(Name.replace('i','1').replace('e','3').replace('O','0'))\n",
    "\n",
    "print(Name.swapcase())\n",
    "\n",
    "name_dash = Name.center(20,\"-\")\n",
    "print(name_dash)\n",
    "\n",
    "name_space = \"{:^20}\".format(Name)\n",
    "print(name_space)\n",
    "   "
   ]
  },
  {
   "cell_type": "markdown",
   "id": "c694c989-de48-4aed-9b25-556a0e10e8c8",
   "metadata": {},
   "source": [
    "# Exercise 2\n",
    "Give the following text `b=\"Batman!\"` obtain the following substrings only with slicing operations\n",
    "\n",
    "1. `atman`\n",
    "2. `!`\n",
    "3. `Bta`\n",
    "3. `!namtaB`\n",
    "4. `!mB`"
   ]
  },
  {
   "cell_type": "code",
   "execution_count": 7,
   "id": "46a92744",
   "metadata": {},
   "outputs": [
    {
     "name": "stdout",
     "output_type": "stream",
     "text": [
      "atman\n",
      "!\n",
      "Bta\n",
      "!namtaB\n",
      "!mB\n"
     ]
    }
   ],
   "source": [
    "b = \"Batman!\"\n",
    "\n",
    "print(b [1:6])\n",
    "\n",
    "print(b [6])\n",
    "\n",
    "print(b [0:6:2])\n",
    "\n",
    "print(b [::-1])\n",
    "\n",
    "print(b [::-3])\n"
   ]
  }
 ],
 "metadata": {
  "kernelspec": {
   "display_name": "Python 3 (ipykernel)",
   "language": "python",
   "name": "python3"
  },
  "language_info": {
   "codemirror_mode": {
    "name": "ipython",
    "version": 3
   },
   "file_extension": ".py",
   "mimetype": "text/x-python",
   "name": "python",
   "nbconvert_exporter": "python",
   "pygments_lexer": "ipython3",
   "version": "3.11.7"
  },
  "toc-autonumbering": false,
  "toc-showmarkdowntxt": false
 },
 "nbformat": 4,
 "nbformat_minor": 5
}
