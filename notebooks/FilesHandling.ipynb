{
 "cells": [
  {
   "cell_type": "markdown",
   "id": "7b067f78",
   "metadata": {},
   "source": [
    "# ***Exercise 1: The Movie Database analysis***\n",
    "The file `data/tmdb_movies.json` contains a lot of useful information about a ton of movies extracted from The Movie Database (https://www.themoviedb.org/). The JSON file composed by a list of movies with the following information:\n",
    "\n",
    "```\n",
    "    {\n",
    "        budget: Cost (in $),\n",
    "        genres: A list of movie genres,\n",
    "        homepage: Movie homepage URL,\n",
    "        id: Movie ID in this database,\n",
    "        keywords: Keywords associated with the movie,\n",
    "        original_language: Language code representing the language in which the movie was created,\n",
    "        original_title: Original movie title,\n",
    "        overview: Brief description about the movie,\n",
    "        popularity: Popularity score,\n",
    "        production_companies: List of companies that produced the movie,\n",
    "        production_countries: List of countries in which the movie was produced,\n",
    "        release_date: Movie release date,\n",
    "        revenue: Revenue (in $),\n",
    "        runtime: Moviel length (in minutes),\n",
    "        spoken_languages: Languages spoken in the movie,\n",
    "        status: Release status,\n",
    "        tagline: Tagline,\n",
    "        title: Title,\n",
    "        vote_average: Average voting score,\n",
    "        vote_count: Number of votes\n",
    "    }\n",
    "```\n",
    "\n",
    "Answer the following questions\n",
    "1. Import the JSON file and count the number of movies\n",
    "2. Add a new key to the dict called `year`, and store the release year\n",
    "3. Write a function that prints the following information of each movie `{year}: {original_title}`\n",
    "```python\n",
    "    def print_movies(movies: list)\n",
    "```\n",
    "4. Write a function that given a year returns those movies released after that year (included). How many movies have been released after 2015?\n",
    "```python\n",
    "    def movies_by_year(movies: list, year: int) -> list\n",
    "```\n",
    "\n",
    "5. Write a function that given a list of keywords returns all related movies with those keywords\n",
    "```python\n",
    "    def movies_by_keywords(movies: list, keywords: set) -> list\n",
    "```\n",
    "\n",
    "6. How many movies did `Twentieth Century Fox Film Corporation` participate as producer\n",
    "7. Get the average rating of all `Fantasy` movies released after 2015 (included)\n",
    "8. What is the all times most expensive `space_travel` movie?\n",
    "9. What is the country in which more `romance` movies have been produced?"
   ]
  },
  {
   "cell_type": "code",
   "execution_count": 38,
   "id": "39ed9d8f-fcf7-4c6c-9f29-ae4317639f1d",
   "metadata": {},
   "outputs": [],
   "source": [
    "import json"
   ]
  },
  {
   "cell_type": "markdown",
   "id": "708c9388-bad1-4250-bc4b-81eeb4787db5",
   "metadata": {},
   "source": [
    "#### 1. Import the JSON file and count the number of movies"
   ]
  },
  {
   "cell_type": "code",
   "execution_count": 54,
   "id": "b31a2c3f-5daf-4f1b-b280-ac10ba1d3a53",
   "metadata": {},
   "outputs": [],
   "source": [
    "# import the json file\n",
    "with open(\"data/tmdb_movies.json\") as file:\n",
    "    movies = json.load(file)"
   ]
  },
  {
   "cell_type": "code",
   "execution_count": 57,
   "id": "89e011ef-cdbf-4c44-807b-d1ad7d31f2ea",
   "metadata": {},
   "outputs": [
    {
     "name": "stdout",
     "output_type": "stream",
     "text": [
      "This file has 4800 movies\n"
     ]
    }
   ],
   "source": [
    "print(f\"This file has {len(movies)} movies\")"
   ]
  },
  {
   "cell_type": "code",
   "execution_count": 58,
   "id": "d31323e0-8b6b-46cc-8aab-1e79be117959",
   "metadata": {},
   "outputs": [
    {
     "data": {
      "text/plain": [
       "{'budget': 237000000,\n",
       " 'genres': [{'id': 28, 'name': 'Action'},\n",
       "  {'id': 12, 'name': 'Adventure'},\n",
       "  {'id': 14, 'name': 'Fantasy'},\n",
       "  {'id': 878, 'name': 'Science Fiction'}],\n",
       " 'homepage': 'http://www.avatarmovie.com/',\n",
       " 'id': 19995,\n",
       " 'keywords': [{'id': 1463, 'name': 'culture clash'},\n",
       "  {'id': 2964, 'name': 'future'},\n",
       "  {'id': 3386, 'name': 'space war'},\n",
       "  {'id': 3388, 'name': 'space colony'},\n",
       "  {'id': 3679, 'name': 'society'},\n",
       "  {'id': 3801, 'name': 'space travel'},\n",
       "  {'id': 9685, 'name': 'futuristic'},\n",
       "  {'id': 9840, 'name': 'romance'},\n",
       "  {'id': 9882, 'name': 'space'},\n",
       "  {'id': 9951, 'name': 'alien'},\n",
       "  {'id': 10148, 'name': 'tribe'},\n",
       "  {'id': 10158, 'name': 'alien planet'},\n",
       "  {'id': 10987, 'name': 'cgi'},\n",
       "  {'id': 11399, 'name': 'marine'},\n",
       "  {'id': 13065, 'name': 'soldier'},\n",
       "  {'id': 14643, 'name': 'battle'},\n",
       "  {'id': 14720, 'name': 'love affair'},\n",
       "  {'id': 165431, 'name': 'anti war'},\n",
       "  {'id': 193554, 'name': 'power relations'},\n",
       "  {'id': 206690, 'name': 'mind and soul'},\n",
       "  {'id': 209714, 'name': '3d'}],\n",
       " 'original_language': 'en',\n",
       " 'original_title': 'Avatar',\n",
       " 'overview': 'In the 22nd century, a paraplegic Marine is dispatched to the moon Pandora on a unique mission, but becomes torn between following orders and protecting an alien civilization.',\n",
       " 'popularity': 150.437577,\n",
       " 'production_companies': [{'name': 'Ingenious Film Partners', 'id': 289},\n",
       "  {'name': 'Twentieth Century Fox Film Corporation', 'id': 306},\n",
       "  {'name': 'Dune Entertainment', 'id': 444},\n",
       "  {'name': 'Lightstorm Entertainment', 'id': 574}],\n",
       " 'production_countries': [{'iso_3166_1': 'US',\n",
       "   'name': 'United States of America'},\n",
       "  {'iso_3166_1': 'GB', 'name': 'United Kingdom'}],\n",
       " 'release_date': '2009-12-10T00:00:00.000Z',\n",
       " 'revenue': 2787965087,\n",
       " 'runtime': 162.0,\n",
       " 'spoken_languages': [{'iso_639_1': 'en', 'name': 'English'},\n",
       "  {'iso_639_1': 'es', 'name': 'Español'}],\n",
       " 'status': 'Released',\n",
       " 'tagline': 'Enter the World of Pandora.',\n",
       " 'title': 'Avatar',\n",
       " 'vote_average': 7.2,\n",
       " 'vote_count': 11800}"
      ]
     },
     "execution_count": 58,
     "metadata": {},
     "output_type": "execute_result"
    }
   ],
   "source": [
    "movies[0]"
   ]
  },
  {
   "cell_type": "markdown",
   "id": "850afa20-9ba7-4c84-a6f9-c0608199dec1",
   "metadata": {},
   "source": [
    "#### 2. Add a new key to the dict called year, and store the release year"
   ]
  },
  {
   "cell_type": "code",
   "execution_count": 59,
   "id": "239ebc07-4c03-4f1a-aef0-2821127d067c",
   "metadata": {},
   "outputs": [],
   "source": [
    "# option 1 - pick the last 4 characters of the \"release data\" string\n",
    "\n",
    "for movie in movies:\n",
    "    year = movie[\"release_date\"][:4]\n",
    "    movie[\"year\"] = year"
   ]
  },
  {
   "cell_type": "code",
   "execution_count": 83,
   "id": "317ffe10-8ca9-4d0b-8ae2-dd5e483a6197",
   "metadata": {},
   "outputs": [],
   "source": [
    "# option 2 - use the datetime module to parse the date and extract the year\n",
    "\n",
    "import datetime\n",
    "\n",
    "for movie in movies:\n",
    "    date = datetime.datetime.strptime(movie[\"release_date\"], \"%Y-%m-%dT%H:%M:%S.%fZ\")\n",
    "    movie[\"year\"] = date.year"
   ]
  },
  {
   "cell_type": "markdown",
   "id": "db4d002f-114a-4879-b594-cf18fc609bb0",
   "metadata": {},
   "source": [
    "#### 3. Write a function that prints the following information of each movie `{year}: {original_title}`"
   ]
  },
  {
   "cell_type": "code",
   "execution_count": 8,
   "id": "1e4fa732-14f5-4386-99bd-03186580eced",
   "metadata": {},
   "outputs": [],
   "source": [
    "def print_movies(movies):\n",
    "    for movie in movies:\n",
    "        print(f\"{movie['year']}: {movie['original_title']}\")"
   ]
  },
  {
   "cell_type": "code",
   "execution_count": 9,
   "id": "5f68a8a8-893e-4d6f-9d66-5222206bfd2b",
   "metadata": {},
   "outputs": [
    {
     "name": "stdout",
     "output_type": "stream",
     "text": [
      "2009: Avatar\n",
      "2007: Pirates of the Caribbean: At World's End\n",
      "2015: Spectre\n",
      "2012: The Dark Knight Rises\n",
      "2012: John Carter\n",
      "2007: Spider-Man 3\n",
      "2010: Tangled\n",
      "2015: Avengers: Age of Ultron\n",
      "2009: Harry Potter and the Half-Blood Prince\n",
      "2016: Batman v Superman: Dawn of Justice\n"
     ]
    }
   ],
   "source": [
    "print_movies(movies[:10])"
   ]
  },
  {
   "cell_type": "markdown",
   "id": "be27e663-c8d8-4ce6-8f52-d73aa0d5672d",
   "metadata": {},
   "source": [
    "#### 4. Write a function that given a year returns those movies released after that year (included). How many movies have been released after 2015?"
   ]
  },
  {
   "cell_type": "code",
   "execution_count": 10,
   "id": "adf36c48-fdfe-4fc9-985d-b69a48757aff",
   "metadata": {},
   "outputs": [],
   "source": [
    "def movies_by_year(movies, year):\n",
    "    year_movies = []\n",
    "    for movie in movies:\n",
    "        if int(movie[\"year\"]) >= year:  # we check if the year is greater tha or equal to the year provided (first transform it to integer)\n",
    "            year_movies.append(movie)\n",
    "    \n",
    "    return year_movies"
   ]
  },
  {
   "cell_type": "code",
   "execution_count": 11,
   "id": "3737d99d-01de-4b41-880f-f5ce60eb4a6e",
   "metadata": {},
   "outputs": [],
   "source": [
    "movies_after_2015 = movies_by_year(movies, 2016)"
   ]
  },
  {
   "cell_type": "code",
   "execution_count": 12,
   "id": "ac6444ef-73ea-4aa0-8450-0203f6177ab2",
   "metadata": {},
   "outputs": [
    {
     "name": "stdout",
     "output_type": "stream",
     "text": [
      "2016: Batman v Superman: Dawn of Justice\n",
      "2016: Captain America: Civil War\n",
      "2016: Star Trek Beyond\n",
      "2016: The Legend of Tarzan\n",
      "2016: X-Men: Apocalypse\n",
      "2016: Suicide Squad\n",
      "2016: The Jungle Book\n",
      "2016: Independence Day: Resurgence\n",
      "2016: シン・ゴジラ\n",
      "2016: Alice Through the Looking Glass\n"
     ]
    }
   ],
   "source": [
    "print_movies(movies_after_2015[:10])"
   ]
  },
  {
   "cell_type": "code",
   "execution_count": 77,
   "id": "722fc23e-0fbd-44ab-b622-c6b3f6eb5259",
   "metadata": {},
   "outputs": [],
   "source": [
    "# other implementation using the \"filter\" built-in function\n",
    "\n",
    "year = 2015\n",
    "movies_after_2015 = filter(lambda x: int(x[\"year\"]) >= year, movies)"
   ]
  },
  {
   "cell_type": "code",
   "execution_count": 78,
   "id": "672bfdc6-9035-4172-9c96-bba4633dd449",
   "metadata": {},
   "outputs": [
    {
     "name": "stdout",
     "output_type": "stream",
     "text": [
      "2015: Spectre\n",
      "2015: Avengers: Age of Ultron\n",
      "2016: Batman v Superman: Dawn of Justice\n",
      "2016: Captain America: Civil War\n",
      "2015: Jurassic World\n",
      "2015: Furious 7\n",
      "2015: The Good Dinosaur\n",
      "2016: Star Trek Beyond\n",
      "2015: Jupiter Ascending\n",
      "2016: The Legend of Tarzan\n"
     ]
    }
   ],
   "source": [
    "print_movies(list(movies_after_2015)[:10])"
   ]
  },
  {
   "cell_type": "markdown",
   "id": "380dccc3-7fc7-4380-ba86-b75342753f58",
   "metadata": {},
   "source": [
    "#### 5. Write a function that given a list of keywords returns all related movies with those keywords"
   ]
  },
  {
   "cell_type": "code",
   "execution_count": 13,
   "id": "32e8ef6b-3510-4c31-9775-7f7f95b6f36d",
   "metadata": {},
   "outputs": [],
   "source": [
    "def movies_by_keywords(movies, keywords):\n",
    "    keywords = set(keywords)\n",
    "    kw_movies = []\n",
    "    for movie in movies:\n",
    "        kws = [m[\"name\"] for m in movie[\"keywords\"]]\n",
    "        kws = set(kws)\n",
    "        \n",
    "        if keywords.issubset(kws):\n",
    "            kw_movies.append(movie)\n",
    "        \n",
    "    return kw_movies"
   ]
  },
  {
   "cell_type": "code",
   "execution_count": 14,
   "id": "1fb17f8f-b545-40f8-9ad9-d0a68a5a7dd7",
   "metadata": {},
   "outputs": [],
   "source": [
    "# other implementation, without the list comprehension\n",
    "\n",
    "def movies_by_keywords(movies, keywords):\n",
    "    kw_movies = []\n",
    "    for movie in movies:\n",
    "        kws = []\n",
    "        for m in movie[\"keywords\"]:\n",
    "            kws.append(m[\"name\"])\n",
    "        \n",
    "        if keywords.issubset(kws):\n",
    "            kw_movies.append(movie)\n",
    "            \n",
    "    return kw_movies"
   ]
  },
  {
   "cell_type": "code",
   "execution_count": 15,
   "id": "533a05ca-0ff6-4828-9693-339fc7ea53ce",
   "metadata": {},
   "outputs": [],
   "source": [
    "# other implementation, with a list that stores if the kw is present or not\n",
    "\n",
    "def movies_by_keywords(movies, keywords):\n",
    "    kw_movies = []\n",
    "    for movie in movies:\n",
    "        kws = [m[\"name\"] for m in movie[\"keywords\"]]\n",
    "        \n",
    "        kw_included = []\n",
    "        for k in keywords:\n",
    "            if k in kws:\n",
    "                kw_included.append(True)\n",
    "            else:\n",
    "                kw_included.append(False)\n",
    "                \n",
    "        if all(kw_included): #this means all keywords are included\n",
    "            kw_movies.append(movie)\n",
    "            \n",
    "    return kw_movies"
   ]
  },
  {
   "cell_type": "code",
   "execution_count": 51,
   "id": "ad05f4f2-d3df-4d7a-847c-c2f58a4d5214",
   "metadata": {},
   "outputs": [],
   "source": [
    "# other implementation, with a counter\n",
    "\n",
    "def movies_by_keywords(movies, keywords):\n",
    "    kw_movies = []\n",
    "    for movie in movies:\n",
    "        kws = [m[\"name\"] for m in movie[\"keywords\"]]\n",
    "        \n",
    "        counter = 0\n",
    "        for k in keywords:\n",
    "            if k in kws:\n",
    "                counter += 1\n",
    "                \n",
    "        if counter == len(keywords): #this means all keywords are included\n",
    "            kw_movies.append(movie)\n",
    "            \n",
    "    return kw_movies"
   ]
  },
  {
   "cell_type": "code",
   "execution_count": 65,
   "id": "f5af4f56-509b-408a-849b-9551c58fa6d5",
   "metadata": {},
   "outputs": [],
   "source": [
    "# other implementation, with filters\n",
    "\n",
    "def movies_by_keywords(movies, keywords):\n",
    "    kw_movies = list(filter(lambda x: set(keywords).issubset([kw[\"name\"] for kw in x[\"keywords\"]]), movies))\n",
    "    return kw_movies"
   ]
  },
  {
   "cell_type": "code",
   "execution_count": 52,
   "id": "7131b3df-b9b0-42d9-b28f-afe8bc1322e1",
   "metadata": {},
   "outputs": [],
   "source": [
    "kw_movies = movies_by_keywords(movies, [\"space war\"])"
   ]
  },
  {
   "cell_type": "code",
   "execution_count": 18,
   "id": "f0a32f3a-0302-43a6-aa54-edcd109bd591",
   "metadata": {},
   "outputs": [
    {
     "name": "stdout",
     "output_type": "stream",
     "text": [
      "2009: Avatar\n",
      "1984: The Ice Pirates\n"
     ]
    }
   ],
   "source": [
    "print_movies(kw_movies)"
   ]
  },
  {
   "cell_type": "markdown",
   "id": "9f76d99e-866b-487c-9744-31bbad414aaf",
   "metadata": {},
   "source": [
    "#### 6. How many movies did `Twentieth Century Fox Film Corporation` participate as producer"
   ]
  },
  {
   "cell_type": "code",
   "execution_count": 19,
   "id": "23252f6c-832c-46e9-9610-e8c6025ba9c6",
   "metadata": {},
   "outputs": [],
   "source": [
    "def movies_by_production_company(movies, company):\n",
    "    production_movies = []\n",
    "    for movie in movies:\n",
    "        production_companies = set([m[\"name\"] for m in movie[\"production_companies\"]])\n",
    "        \n",
    "        if company in production_companies:\n",
    "            production_movies.append(movie)\n",
    "            \n",
    "    return production_movies"
   ]
  },
  {
   "cell_type": "code",
   "execution_count": 20,
   "id": "361df472-b32e-4bb4-ad7f-da78cb66907b",
   "metadata": {},
   "outputs": [],
   "source": [
    "tcf_movies = movies_by_production_company(movies, \"Twentieth Century Fox Film Corporation\")"
   ]
  },
  {
   "cell_type": "code",
   "execution_count": 22,
   "id": "8117b77b-fe2d-4765-be68-52f3301a454f",
   "metadata": {},
   "outputs": [
    {
     "name": "stdout",
     "output_type": "stream",
     "text": [
      "2009: Avatar\n",
      "1997: Titanic\n",
      "2006: X-Men: The Last Stand\n",
      "2014: X-Men: Days of Future Past\n",
      "2016: X-Men: Apocalypse\n",
      "2016: Independence Day: Resurgence\n",
      "2011: X-Men: First Class\n",
      "2009: Night at the Museum: Battle of the Smithsonian\n",
      "2009: X-Men Origins: Wolverine\n",
      "2016: Kung Fu Panda 3\n"
     ]
    }
   ],
   "source": [
    "print_movies(tcf_movies[:10])"
   ]
  },
  {
   "cell_type": "markdown",
   "id": "8de2c929-0efc-410a-8112-a5e87ccd8a85",
   "metadata": {},
   "source": [
    "#### 7. Get the average rating of all `Fantasy` movies released after 2015 (included)"
   ]
  },
  {
   "cell_type": "code",
   "execution_count": 23,
   "id": "50a2a14f-f524-4d20-ac79-12ff59968e2f",
   "metadata": {},
   "outputs": [],
   "source": [
    "# first, let's implement a function to filter movies by genre\n",
    "\n",
    "def movies_by_genre(movies, genre):\n",
    "    genre_movies = []\n",
    "    for movie in movies:\n",
    "        genres = set([m[\"name\"] for m in movie[\"genres\"]])\n",
    "        \n",
    "        if genre in genres:\n",
    "            genre_movies.append(movie)\n",
    "            \n",
    "    return genre_movies"
   ]
  },
  {
   "cell_type": "code",
   "execution_count": 24,
   "id": "42ce3659-4e38-4ad9-b36f-6ae5ccfdca6d",
   "metadata": {},
   "outputs": [],
   "source": [
    "# sequential calling\n",
    "movies_2015 = movies_by_year(movies, 2015)\n",
    "my_movies = movies_by_genre(movies_2015, \"Fantasy\")"
   ]
  },
  {
   "cell_type": "code",
   "execution_count": 25,
   "id": "a41fa424-0a6e-4ce1-ba9f-02be13ab72f2",
   "metadata": {},
   "outputs": [],
   "source": [
    "# the same, but in just one line\n",
    "my_movies = movies_by_year(movies_by_genre(movies, \"Fantasy\"), 2015)"
   ]
  },
  {
   "cell_type": "code",
   "execution_count": 26,
   "id": "45f50df0-6f62-432b-82ba-f8282da09f5e",
   "metadata": {},
   "outputs": [],
   "source": [
    "# extract all the ratings\n",
    "ratings = [m[\"vote_average\"] for m in my_movies]"
   ]
  },
  {
   "cell_type": "code",
   "execution_count": 27,
   "id": "abd330f3-d037-4ef5-83b5-d8939cebf2fe",
   "metadata": {},
   "outputs": [
    {
     "name": "stdout",
     "output_type": "stream",
     "text": [
      "The average rating of Fantasy movies released after 2015 is 6.1\n"
     ]
    }
   ],
   "source": [
    "# calculate hte average\n",
    "avg_rating = sum(ratings)/len(ratings)\n",
    "print(f\"The average rating of Fantasy movies released after 2015 is {round(avg_rating,2)}\")"
   ]
  },
  {
   "cell_type": "markdown",
   "id": "b91be0f4-aecf-4b2d-bc3b-ab0f7965b9c8",
   "metadata": {},
   "source": [
    "#### 8. What is the all times most expensive `space travel` movie?"
   ]
  },
  {
   "cell_type": "code",
   "execution_count": 29,
   "id": "eb1089a1-25bb-4f5b-8ee5-1e330fed9788",
   "metadata": {},
   "outputs": [],
   "source": [
    "st_movies = movies_by_keywords(movies, [\"space travel\"])"
   ]
  },
  {
   "cell_type": "code",
   "execution_count": 30,
   "id": "a7ae1d47-8c0a-4cb1-82be-40f33c8c372e",
   "metadata": {},
   "outputs": [
    {
     "name": "stdout",
     "output_type": "stream",
     "text": [
      "The most expensive space travel movie is John Carter\n"
     ]
    }
   ],
   "source": [
    "most_expensive = sorted(st_movies, key=lambda x: x[\"budget\"], reverse=True)[0]\n",
    "print(f\"The most expensive space travel movie is {most_expensive['original_title']}\")"
   ]
  },
  {
   "cell_type": "code",
   "execution_count": 31,
   "id": "9306d204-2654-4dc4-870d-8943db7286db",
   "metadata": {},
   "outputs": [
    {
     "name": "stdout",
     "output_type": "stream",
     "text": [
      "The most expensive space travel movie is John Carter\n"
     ]
    }
   ],
   "source": [
    "# the same, but with the max function\n",
    "\n",
    "most_expensive = max(st_movies, key=lambda x: x[\"budget\"])\n",
    "print(f\"The most expensive space travel movie is {most_expensive['original_title']}\")"
   ]
  },
  {
   "cell_type": "markdown",
   "id": "0d8fc9e0-4efc-48a4-ac65-4c0fcdfa2680",
   "metadata": {},
   "source": [
    "#### 9. What is the country in which more `romance` movies have been produced?"
   ]
  },
  {
   "cell_type": "code",
   "execution_count": 87,
   "id": "303bbb1f-3bb5-4f93-a703-b662c84a8be2",
   "metadata": {},
   "outputs": [],
   "source": [
    "romance_movies = movies_by_keywords(movies, [\"romance\"])"
   ]
  },
  {
   "cell_type": "code",
   "execution_count": 88,
   "id": "de93e169-57c1-4407-979b-115eb3fb9752",
   "metadata": {},
   "outputs": [],
   "source": [
    "countries = []\n",
    "for movie in romance_movies:\n",
    "    production_countries = [m[\"name\"] for m in movie[\"production_countries\"]]\n",
    "    countries.extend(production_countries)"
   ]
  },
  {
   "cell_type": "code",
   "execution_count": 34,
   "id": "5ae88b69-2ebb-43b7-bad3-6273864b3876",
   "metadata": {},
   "outputs": [],
   "source": [
    "unique_countries = set(countries)"
   ]
  },
  {
   "cell_type": "code",
   "execution_count": 35,
   "id": "2e9bf9a1-04f4-4cc1-a34e-cd2674a2c92b",
   "metadata": {},
   "outputs": [
    {
     "name": "stdout",
     "output_type": "stream",
     "text": [
      "South Africa: 1\n",
      "Italy: 2\n",
      "Czech Republic: 1\n",
      "United States of America: 18\n",
      "United Kingdom: 4\n",
      "Spain: 1\n",
      "Germany: 2\n",
      "France: 3\n"
     ]
    }
   ],
   "source": [
    "for country in unique_countries:\n",
    "    count = countries.count(country)\n",
    "    print(f\"{country}: {count}\")"
   ]
  },
  {
   "cell_type": "markdown",
   "id": "e1d23001",
   "metadata": {},
   "source": [
    "# ***Exercise 2: Twitter data and the OS***\n",
    "\n",
    "We will work with Twitter data again\n",
    "\n",
    " 1. Using the `os` module, create a folder called `TWEETS` in the root directory\n",
    " 2. For each tweet in `twitter_data.json` create a subfolder inside `TWEETS` with the tweet creation date as the folder name\n",
    " 3. Save all tweets (in json format) in its corresponding folder according to the creation date. Use the tweet ID as the file name.\n",
    "\n",
    "_NOTE: You cannot use the file system explorer to create folders, you have to use the `os` module instead_"
   ]
  },
  {
   "cell_type": "code",
   "execution_count": 4,
   "id": "fa221654-ad35-4c23-b823-cbcd27d66ff8",
   "metadata": {},
   "outputs": [],
   "source": [
    "import os \n",
    "import json"
   ]
  },
  {
   "cell_type": "code",
   "execution_count": 2,
   "id": "2a2d4b12-0b23-4f2b-9451-fc3355ab2ce7",
   "metadata": {},
   "outputs": [],
   "source": [
    "# 1. Using the os module, create a folder called TWEETS in the root directory\n",
    "os.mkdir(\"TWEETS\")"
   ]
  },
  {
   "cell_type": "code",
   "execution_count": 5,
   "id": "bbffd7ed-fe7a-4092-929e-0183ad63dee4",
   "metadata": {},
   "outputs": [],
   "source": [
    "# 2. For each tweet in twitter_data.json create a subfolder inside TWEETS with the tweet creation date as the folder name\n",
    "# 3. Save all tweets (in json format) in its corresponding folder according to the creation date. Use the tweet ID as the file name.\n",
    "\n",
    "# load twitter data\n",
    "with open(\"data/twitter_data.json\") as file:\n",
    "    twitter = json.load(file)\n",
    "    \n",
    "for tw in twitter:\n",
    "    creation_date = tw[\"created_at\"][:10]\n",
    "    \n",
    "    # create the folders\n",
    "    path = os.path.join(\"TWEETS\",creation_date)\n",
    "    os.makedirs(path, exist_ok=True)\n",
    "    \n",
    "    # save the files\n",
    "    name = tw[\"id\"] # get the id (this will be the file name)\n",
    "    filepath = os.path.join(path,f\"{name}.json\")\n",
    "    with open(filepath, \"w\") as file:\n",
    "        json.dump(tw, file)"
   ]
  }
 ],
 "metadata": {
  "kernelspec": {
   "display_name": "Python 3 (ipykernel)",
   "language": "python",
   "name": "python3"
  },
  "language_info": {
   "codemirror_mode": {
    "name": "ipython",
    "version": 3
   },
   "file_extension": ".py",
   "mimetype": "text/x-python",
   "name": "python",
   "nbconvert_exporter": "python",
   "pygments_lexer": "ipython3",
   "version": "3.11.5"
  },
  "toc-autonumbering": false,
  "toc-showmarkdowntxt": false
 },
 "nbformat": 4,
 "nbformat_minor": 5
}
