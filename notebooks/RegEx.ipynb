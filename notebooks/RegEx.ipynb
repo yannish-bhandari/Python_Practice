{
 "cells": [
  {
   "cell_type": "markdown",
   "id": "bece38ea-e04a-46db-aad2-bd0bcea751ae",
   "metadata": {},
   "source": [
    "## Exercise 01\n",
    "\n",
    "Build a valid regular expresion for date and time format _(`YYYY-MM-DDTHH:MM:SS`)_ \n",
    "\n",
    "*NOTE: Take this as an exercise just to practice with regex. Validating datetimes with regex is a complex, confusing and unnecessary task. We can use other python libraries like pandas for that*"
   ]
  },
  {
   "cell_type": "code",
   "execution_count": 1,
   "id": "3734c2c9-8ebb-4123-90e5-9988758a10f4",
   "metadata": {},
   "outputs": [],
   "source": [
    "import re\n",
    "import pandas as pd"
   ]
  },
  {
   "cell_type": "code",
   "execution_count": 2,
   "id": "0ebe0d44-cbb3-462c-ad2d-2df9c308d8e0",
   "metadata": {},
   "outputs": [],
   "source": [
    "# In this exercise we don't validate all aspects of a date (like leap years).\n",
    "# We also don't take into account the current month to validate the day of month (all month can have 31 days)\n",
    "\n",
    "# simple regex - doesn't take into account a leap year and days of month\n",
    "dateregex = r\"\\d{4}-(0[1-9]|(1[0-2]))-((0[1-9])|([1-2]\\d)|(3[01]))\"\n",
    "\n",
    "# more complex regex - doesn't take into account a leap year\n",
    "dateregex = r\"\\d{4}-(((01|03|05|07|08|10|12)-((0[1-9])|([1-2]\\d)|(3[01])))|((04|06|09|11)-((0[1-9])|([1-2]\\d)|(30)))|(02-((0[1-9])|([1-2]\\d))))\" \n",
    "timeregex = r\"(([01]\\d)|(2[0-3])):([0-5]\\d):([0-5]\\d)\"\n",
    "\n",
    "# build the regex expression by concatenating the date and time regex\n",
    "expr = dateregex+\"T\"+timeregex"
   ]
  },
  {
   "cell_type": "code",
   "execution_count": 3,
   "id": "bdab9b78-36a9-4dc0-ac0e-7cc248baa83a",
   "metadata": {},
   "outputs": [],
   "source": [
    "regex = re.compile(expr)"
   ]
  },
  {
   "cell_type": "code",
   "execution_count": 4,
   "id": "70b08eb8-6c0e-4d39-a69f-45ca5d17cb58",
   "metadata": {},
   "outputs": [],
   "source": [
    "# test the regex with a list of dates\n",
    "test = pd.Series([\n",
    "    \"2025-12-09T12:12:00\", # OK\n",
    "    \"2025-00-09T12:12:00\", # KO\n",
    "    \"2025-13-09T00:12:00\", # KO\n",
    "    \"2025-12-32T00:12:00\", # KO\n",
    "    \"2025-12-09T24:12:00\", # KO\n",
    "    \"2025-12-09T00:61:00\", # KO\n",
    "    \"2025-12-09T00:12:63\", # KO\n",
    "    \"1025-02-30T00:12:00\"  # KO, but not contemplated\n",
    "], name=\"date\")"
   ]
  },
  {
   "cell_type": "code",
   "execution_count": 5,
   "id": "2d559ae6-23af-4d2a-96b2-fc3f6c2a5f6d",
   "metadata": {},
   "outputs": [],
   "source": [
    "match = test.str.match(expr)\n",
    "match.name = \"match\""
   ]
  },
  {
   "cell_type": "markdown",
   "id": "f23cf3a3",
   "metadata": {},
   "source": [
    "Let's build a DataFrame to show the results"
   ]
  },
  {
   "cell_type": "code",
   "execution_count": 6,
   "id": "b6330ddb",
   "metadata": {},
   "outputs": [
    {
     "data": {
      "text/html": [
       "<div>\n",
       "<style scoped>\n",
       "    .dataframe tbody tr th:only-of-type {\n",
       "        vertical-align: middle;\n",
       "    }\n",
       "\n",
       "    .dataframe tbody tr th {\n",
       "        vertical-align: top;\n",
       "    }\n",
       "\n",
       "    .dataframe thead th {\n",
       "        text-align: right;\n",
       "    }\n",
       "</style>\n",
       "<table border=\"1\" class=\"dataframe\">\n",
       "  <thead>\n",
       "    <tr style=\"text-align: right;\">\n",
       "      <th></th>\n",
       "      <th>date</th>\n",
       "      <th>match</th>\n",
       "    </tr>\n",
       "  </thead>\n",
       "  <tbody>\n",
       "    <tr>\n",
       "      <th>0</th>\n",
       "      <td>2025-12-09T12:12:00</td>\n",
       "      <td>True</td>\n",
       "    </tr>\n",
       "    <tr>\n",
       "      <th>1</th>\n",
       "      <td>2025-00-09T12:12:00</td>\n",
       "      <td>False</td>\n",
       "    </tr>\n",
       "    <tr>\n",
       "      <th>2</th>\n",
       "      <td>2025-13-09T00:12:00</td>\n",
       "      <td>False</td>\n",
       "    </tr>\n",
       "    <tr>\n",
       "      <th>3</th>\n",
       "      <td>2025-12-32T00:12:00</td>\n",
       "      <td>False</td>\n",
       "    </tr>\n",
       "    <tr>\n",
       "      <th>4</th>\n",
       "      <td>2025-12-09T24:12:00</td>\n",
       "      <td>False</td>\n",
       "    </tr>\n",
       "    <tr>\n",
       "      <th>5</th>\n",
       "      <td>2025-12-09T00:61:00</td>\n",
       "      <td>False</td>\n",
       "    </tr>\n",
       "    <tr>\n",
       "      <th>6</th>\n",
       "      <td>2025-12-09T00:12:63</td>\n",
       "      <td>False</td>\n",
       "    </tr>\n",
       "    <tr>\n",
       "      <th>7</th>\n",
       "      <td>1025-02-30T00:12:00</td>\n",
       "      <td>False</td>\n",
       "    </tr>\n",
       "  </tbody>\n",
       "</table>\n",
       "</div>"
      ],
      "text/plain": [
       "                  date  match\n",
       "0  2025-12-09T12:12:00   True\n",
       "1  2025-00-09T12:12:00  False\n",
       "2  2025-13-09T00:12:00  False\n",
       "3  2025-12-32T00:12:00  False\n",
       "4  2025-12-09T24:12:00  False\n",
       "5  2025-12-09T00:61:00  False\n",
       "6  2025-12-09T00:12:63  False\n",
       "7  1025-02-30T00:12:00  False"
      ]
     },
     "execution_count": 6,
     "metadata": {},
     "output_type": "execute_result"
    }
   ],
   "source": [
    "results = pd.concat([test, match], axis=1)\n",
    "results"
   ]
  },
  {
   "cell_type": "markdown",
   "id": "03d77350-e397-4107-9b52-6d008ee076e7",
   "metadata": {},
   "source": [
    "## Exercise 02\n",
    "\n",
    "Load the JSON file `recipeitems-latest.json` containing several recipies. Store data into a pandas DataFrame and work with the `ingredients` column.\n",
    "\n",
    "Answer the following questions\n",
    " 1. How many recipes are in the table?\n",
    " 2. Get all \"spicy\" recipies. (Just look for spicy word) \n",
    " 3. Get all recipies containing at lest a cup of flour (any kind of flour)\n",
    " 4. Get all recipies containing more than 300ml of whole milk "
   ]
  },
  {
   "cell_type": "code",
   "execution_count": 7,
   "id": "9b925043-4607-4ebe-8e1e-77897da080b6",
   "metadata": {},
   "outputs": [],
   "source": [
    "import re\n",
    "import pandas as pd"
   ]
  },
  {
   "cell_type": "code",
   "execution_count": 8,
   "id": "9fbf83d3-dea3-4b98-80d3-1cbaadfd94f1",
   "metadata": {},
   "outputs": [
    {
     "data": {
      "text/html": [
       "<div>\n",
       "<style scoped>\n",
       "    .dataframe tbody tr th:only-of-type {\n",
       "        vertical-align: middle;\n",
       "    }\n",
       "\n",
       "    .dataframe tbody tr th {\n",
       "        vertical-align: top;\n",
       "    }\n",
       "\n",
       "    .dataframe thead th {\n",
       "        text-align: right;\n",
       "    }\n",
       "</style>\n",
       "<table border=\"1\" class=\"dataframe\">\n",
       "  <thead>\n",
       "    <tr style=\"text-align: right;\">\n",
       "      <th></th>\n",
       "      <th>_id</th>\n",
       "      <th>name</th>\n",
       "      <th>ingredients</th>\n",
       "      <th>url</th>\n",
       "      <th>image</th>\n",
       "      <th>ts</th>\n",
       "      <th>cookTime</th>\n",
       "      <th>source</th>\n",
       "      <th>recipeYield</th>\n",
       "      <th>datePublished</th>\n",
       "      <th>prepTime</th>\n",
       "      <th>description</th>\n",
       "      <th>totalTime</th>\n",
       "      <th>creator</th>\n",
       "      <th>recipeCategory</th>\n",
       "      <th>dateModified</th>\n",
       "      <th>recipeInstructions</th>\n",
       "    </tr>\n",
       "  </thead>\n",
       "  <tbody>\n",
       "    <tr>\n",
       "      <th>0</th>\n",
       "      <td>{'$oid': '5160756b96cc62079cc2db15'}</td>\n",
       "      <td>Drop Biscuits and Sausage Gravy</td>\n",
       "      <td>Biscuits\\n3 cups All-purpose Flour\\n2 Tablespo...</td>\n",
       "      <td>http://thepioneerwoman.com/cooking/2013/03/dro...</td>\n",
       "      <td>http://static.thepioneerwoman.com/cooking/file...</td>\n",
       "      <td>{'$date': 1365276011104}</td>\n",
       "      <td>PT30M</td>\n",
       "      <td>thepioneerwoman</td>\n",
       "      <td>12</td>\n",
       "      <td>2013-03-11</td>\n",
       "      <td>PT10M</td>\n",
       "      <td>Late Saturday afternoon, after Marlboro Man ha...</td>\n",
       "      <td>NaN</td>\n",
       "      <td>NaN</td>\n",
       "      <td>NaN</td>\n",
       "      <td>NaN</td>\n",
       "      <td>NaN</td>\n",
       "    </tr>\n",
       "  </tbody>\n",
       "</table>\n",
       "</div>"
      ],
      "text/plain": [
       "                                    _id                             name  \\\n",
       "0  {'$oid': '5160756b96cc62079cc2db15'}  Drop Biscuits and Sausage Gravy   \n",
       "\n",
       "                                         ingredients  \\\n",
       "0  Biscuits\\n3 cups All-purpose Flour\\n2 Tablespo...   \n",
       "\n",
       "                                                 url  \\\n",
       "0  http://thepioneerwoman.com/cooking/2013/03/dro...   \n",
       "\n",
       "                                               image  \\\n",
       "0  http://static.thepioneerwoman.com/cooking/file...   \n",
       "\n",
       "                         ts cookTime           source recipeYield  \\\n",
       "0  {'$date': 1365276011104}    PT30M  thepioneerwoman          12   \n",
       "\n",
       "  datePublished prepTime                                        description  \\\n",
       "0    2013-03-11    PT10M  Late Saturday afternoon, after Marlboro Man ha...   \n",
       "\n",
       "  totalTime creator recipeCategory dateModified recipeInstructions  \n",
       "0       NaN     NaN            NaN          NaN                NaN  "
      ]
     },
     "execution_count": 8,
     "metadata": {},
     "output_type": "execute_result"
    }
   ],
   "source": [
    "recipes = pd.read_json('data/recipeitems-latest.zip')\n",
    "recipes.head(1)"
   ]
  },
  {
   "cell_type": "code",
   "execution_count": 9,
   "id": "5b1b7274-ce51-40d4-b8b6-e2146d81dd71",
   "metadata": {},
   "outputs": [
    {
     "name": "stdout",
     "output_type": "stream",
     "text": [
      "<class 'pandas.core.frame.DataFrame'>\n",
      "RangeIndex: 173278 entries, 0 to 173277\n",
      "Data columns (total 17 columns):\n",
      " #   Column              Non-Null Count   Dtype \n",
      "---  ------              --------------   ----- \n",
      " 0   _id                 173278 non-null  object\n",
      " 1   name                173278 non-null  object\n",
      " 2   ingredients         173278 non-null  object\n",
      " 3   url                 173278 non-null  object\n",
      " 4   image               158278 non-null  object\n",
      " 5   ts                  173278 non-null  object\n",
      " 6   cookTime            117936 non-null  object\n",
      " 7   source              173278 non-null  object\n",
      " 8   recipeYield         165628 non-null  object\n",
      " 9   datePublished       78110 non-null   object\n",
      " 10  prepTime            130186 non-null  object\n",
      " 11  description         158068 non-null  object\n",
      " 12  totalTime           1570 non-null    object\n",
      " 13  creator             395 non-null     object\n",
      " 14  recipeCategory      388 non-null     object\n",
      " 15  dateModified        161 non-null     object\n",
      " 16  recipeInstructions  4 non-null       object\n",
      "dtypes: object(17)\n",
      "memory usage: 22.5+ MB\n"
     ]
    }
   ],
   "source": [
    "recipes.info()"
   ]
  },
  {
   "cell_type": "markdown",
   "id": "795448cd-1826-49d6-8033-05cf0223e4e8",
   "metadata": {},
   "source": [
    "#### How many recipes are in the table?"
   ]
  },
  {
   "cell_type": "code",
   "execution_count": 10,
   "id": "a171fe7a-f916-4e2c-a410-6084742a7b12",
   "metadata": {},
   "outputs": [
    {
     "data": {
      "text/plain": [
       "173278"
      ]
     },
     "execution_count": 10,
     "metadata": {},
     "output_type": "execute_result"
    }
   ],
   "source": [
    "len(recipes)"
   ]
  },
  {
   "cell_type": "markdown",
   "id": "654ee6af-f403-4f8b-a76e-5e6017873a79",
   "metadata": {},
   "source": [
    "#### Get all \"spicy\" recipies. (Just look for spicy word)"
   ]
  },
  {
   "cell_type": "code",
   "execution_count": 11,
   "id": "8b1e6ea3",
   "metadata": {},
   "outputs": [],
   "source": [
    "regex = r\"[Ss]picy\""
   ]
  },
  {
   "cell_type": "code",
   "execution_count": 12,
   "id": "f124db73-624d-452e-bbab-8584f972766e",
   "metadata": {},
   "outputs": [
    {
     "data": {
      "text/plain": [
       "0         False\n",
       "1          True\n",
       "2         False\n",
       "3         False\n",
       "4         False\n",
       "          ...  \n",
       "173273    False\n",
       "173274    False\n",
       "173275    False\n",
       "173276    False\n",
       "173277    False\n",
       "Name: ingredients, Length: 173278, dtype: bool"
      ]
     },
     "execution_count": 12,
     "metadata": {},
     "output_type": "execute_result"
    }
   ],
   "source": [
    "recipes.ingredients.str.contains(r\"[Ss]picy\")"
   ]
  },
  {
   "cell_type": "code",
   "execution_count": 13,
   "id": "887dcecc-3233-4f7c-93dd-72a05dc8c439",
   "metadata": {},
   "outputs": [
    {
     "data": {
      "text/plain": [
       "(602, 17)"
      ]
     },
     "execution_count": 13,
     "metadata": {},
     "output_type": "execute_result"
    }
   ],
   "source": [
    "recipes[recipes.ingredients.str.contains(r\"[Ss]picy\")].shape"
   ]
  },
  {
   "cell_type": "markdown",
   "id": "e8998a8b-2d5a-4710-8943-31b54ebd5e2d",
   "metadata": {},
   "source": [
    "#### Get all recipies containing at least a cup of flour (any kind of flour)"
   ]
  },
  {
   "cell_type": "code",
   "execution_count": 14,
   "id": "ca1e6cfe-f74a-4dcc-87cd-5e0a48094ff4",
   "metadata": {},
   "outputs": [
    {
     "data": {
      "text/plain": [
       "(16624, 17)"
      ]
     },
     "execution_count": 14,
     "metadata": {},
     "output_type": "execute_result"
    }
   ],
   "source": [
    "recipes[recipes.ingredients.str.contains(r\"\\d cups?.*[Ff]lour\")].shape"
   ]
  },
  {
   "cell_type": "code",
   "execution_count": 15,
   "id": "886a97d8-a3b7-44de-8ddd-12e08d243866",
   "metadata": {},
   "outputs": [
    {
     "data": {
      "text/plain": [
       "0         Biscuits\\n3 cups All-purpose Flour\\n2 Tablespo...\n",
       "3         Biscuits\\n3 cups All-purpose Flour\\n2 Tablespo...\n",
       "12        Tart Dough:\\n1 cup all-purpose flour\\n1/8 tsp ...\n",
       "13        2 cups / 475 ml whole milk\\n2 tablespoons unsa...\n",
       "20        6 tbsp unsalted butter, at room temperature\\n1...\n",
       "                                ...                        \n",
       "173206    1 cup FOR THE MUFFINS:\\n1 cup White Whole Whea...\n",
       "173219    2 cups FOR THE CAKE:\\n2 cups All-purpose Flour...\n",
       "173238    1 Tablespoon Coconut Oil\\n1 cup Almond Flour\\n...\n",
       "173241    1 cup Plus 1 Tablespoon All-purpose Flour\\n½ t...\n",
       "173276    Two 16 ounce cans Old El Paso Refried Beans\\n4...\n",
       "Name: ingredients, Length: 16624, dtype: object"
      ]
     },
     "execution_count": 15,
     "metadata": {},
     "output_type": "execute_result"
    }
   ],
   "source": [
    "recipes[recipes.ingredients.str.contains(r\"\\d cups?.*[Ff]lour\")].ingredients"
   ]
  },
  {
   "cell_type": "markdown",
   "id": "c21148e8-f60d-4ba2-945c-2dfac7532be1",
   "metadata": {},
   "source": [
    "#### Get all recipies containing more than 300ml of whole milk"
   ]
  },
  {
   "cell_type": "code",
   "execution_count": 21,
   "id": "56e72169-50b6-4e20-8b10-ca7fde575574",
   "metadata": {},
   "outputs": [],
   "source": [
    "ml = recipes.ingredients.str.extract(r\"(\\d+)ml.*[Ww]hole [Mm]ilk\", expand=False).dropna().astype(int)\n",
    "ml = ml[ml>300]"
   ]
  },
  {
   "cell_type": "code",
   "execution_count": 22,
   "id": "f19a8aaf-ffb3-4071-bcb5-7643cb2fefa5",
   "metadata": {},
   "outputs": [
    {
     "name": "stdout",
     "output_type": "stream",
     "text": [
      "300g/10½oz plain flour\n",
      "200g/7oz salted butter\n",
      "150ml/5fl oz ice cold water \n",
      "squeeze lemon juice\n",
      "1 free-range egg\n",
      "110g/4oz butter\n",
      "157g/5½oz plain flour\n",
      "4 large free-range eggs\n",
      "1 tbsp flavourless oil\n",
      "2 tsp sugar\n",
      "4 large free-range eggs\n",
      "100g/3½oz caster sugar\n",
      "1 vanilla pod\n",
      "50g/1¾oz cornflour\n",
      "500ml/17fl oz whole milk\n",
      "25g/1oz unsalted butter\n",
      "12 passion fruit\n",
      "150g/5¼oz golden caster sugar\n",
      "2 large free-range eggs\n",
      "2 large free-range egg yolks\n",
      "100g/3½oz unsalted butter\n",
      "500ml/17fl oz double cream\n",
      "1 vanilla pod\n",
      "6 tbsp icing sugar\n",
      "200g/7oz caster sugar\n",
      "100g/3½oz milk chocolate\n",
      "50g/1¾oz double cream\n",
      "400g/14oz strawberries\n",
      "150g/5½oz caster sugar\n",
      "2 sheets of gold leaf\n"
     ]
    }
   ],
   "source": [
    "print(recipes.loc[ml.index].ingredients.iloc[9])"
   ]
  },
  {
   "cell_type": "markdown",
   "id": "7a52391e-a238-4924-820c-8adad64b391a",
   "metadata": {},
   "source": [
    "## Exiercise 03: Recipe recommender\n",
    "Note: Exercise extracted from https://jakevdp.github.io/PythonDataScienceHandbook/03.10-working-with-strings.html#A-simple-recipe-recommender"
   ]
  },
  {
   "cell_type": "markdown",
   "id": "b520c86c-3589-434a-a2cb-2331059bc5bb",
   "metadata": {},
   "source": [
    "Let's define the following spices list\n",
    "```python\n",
    "spice_list = ['salt', 'pepper', 'oregano', 'sage', 'parsley',\n",
    "              'rosemary', 'tarragon', 'thyme', 'paprika', 'cumin']\n",
    "``` \n",
    "\n",
    "**Build a function that, given a list of spices (ex. `[pepper, paprika]`), returns the list of recipes containing these ingredients.**"
   ]
  },
  {
   "cell_type": "code",
   "execution_count": 1,
   "id": "0399e019-dbab-49ee-9a02-22a1dfa46eef",
   "metadata": {},
   "outputs": [],
   "source": [
    "spices = [\"pepper\", \"paprika\"]"
   ]
  },
  {
   "cell_type": "code",
   "execution_count": 30,
   "id": "a96ddd64-3130-4b6d-9601-26129af0d66e",
   "metadata": {},
   "outputs": [],
   "source": [
    "# fast function without regex\n",
    "def recipe_recommender(spices):\n",
    "    masks = []\n",
    "    for spice in spices:\n",
    "        mask = recipes.ingredients.str.contains(fr\"\\b{spice}\\b\", case=False)\n",
    "        masks.append(mask)\n",
    "    \n",
    "    masks = pd.concat(masks, axis=1)\n",
    "    rec_recipes = recipes[masks.all(axis=1)]\n",
    "    \n",
    "    return rec_recipes"
   ]
  },
  {
   "cell_type": "code",
   "execution_count": 31,
   "id": "9a667083-c71b-4511-affb-749392408b6f",
   "metadata": {},
   "outputs": [
    {
     "name": "stdout",
     "output_type": "stream",
     "text": [
      "CPU times: user 1.19 s, sys: 57 µs, total: 1.19 s\n",
      "Wall time: 1.18 s\n"
     ]
    }
   ],
   "source": [
    "%%time\n",
    "\n",
    "rec_f = recipe_recommender_fast([\"pepper\",\"paprika\"])"
   ]
  },
  {
   "cell_type": "code",
   "execution_count": 43,
   "id": "4f3be6bf-0413-4cbe-adca-2db8eadd52db",
   "metadata": {},
   "outputs": [
    {
     "name": "stdout",
     "output_type": "stream",
     "text": [
      "<class 'pandas.core.frame.DataFrame'>\n",
      "Int64Index: 3104 entries, 44 to 173275\n",
      "Data columns (total 17 columns):\n",
      " #   Column              Non-Null Count  Dtype \n",
      "---  ------              --------------  ----- \n",
      " 0   _id                 3104 non-null   object\n",
      " 1   name                3104 non-null   object\n",
      " 2   ingredients         3104 non-null   object\n",
      " 3   url                 3104 non-null   object\n",
      " 4   image               2656 non-null   object\n",
      " 5   ts                  3104 non-null   object\n",
      " 6   cookTime            1938 non-null   object\n",
      " 7   source              3104 non-null   object\n",
      " 8   recipeYield         2865 non-null   object\n",
      " 9   datePublished       789 non-null    object\n",
      " 10  prepTime            2116 non-null   object\n",
      " 11  description         2641 non-null   object\n",
      " 12  totalTime           38 non-null     object\n",
      " 13  creator             20 non-null     object\n",
      " 14  recipeCategory      20 non-null     object\n",
      " 15  dateModified        11 non-null     object\n",
      " 16  recipeInstructions  0 non-null      object\n",
      "dtypes: object(17)\n",
      "memory usage: 436.5+ KB\n"
     ]
    }
   ],
   "source": [
    "rec_f.head()"
   ]
  }
 ],
 "metadata": {
  "kernelspec": {
   "display_name": "base",
   "language": "python",
   "name": "python3"
  },
  "language_info": {
   "codemirror_mode": {
    "name": "ipython",
    "version": 3
   },
   "file_extension": ".py",
   "mimetype": "text/x-python",
   "name": "python",
   "nbconvert_exporter": "python",
   "pygments_lexer": "ipython3",
   "version": "3.11.7"
  }
 },
 "nbformat": 4,
 "nbformat_minor": 5
}
