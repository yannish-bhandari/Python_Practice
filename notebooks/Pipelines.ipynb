{
 "cells": [
  {
   "cell_type": "code",
   "execution_count": 2,
   "id": "586ac5f8-ffd7-4234-b5bf-7a570de6ccff",
   "metadata": {},
   "outputs": [],
   "source": [
    "from sklearn.pipeline import Pipeline\n",
    "from sklearn.compose import ColumnTransformer"
   ]
  },
  {
   "cell_type": "code",
   "execution_count": 3,
   "id": "92e7ebe5-20bc-410b-9d36-d32af2d2a20e",
   "metadata": {},
   "outputs": [],
   "source": [
    "import numpy as np\n",
    "import pandas as pd\n",
    "\n",
    "import plotly.express as px\n",
    "import plotly.graph_objects as go\n",
    "import plotly.figure_factory as ff\n",
    "from plotly.subplots import make_subplots\n",
    "\n",
    "\n",
    "from sklearn.model_selection import train_test_split\n",
    "from sklearn.preprocessing import OneHotEncoder, StandardScaler, OrdinalEncoder\n",
    "from sklearn.linear_model import LogisticRegression\n",
    "from sklearn.model_selection import RandomizedSearchCV\n",
    "from sklearn.feature_selection import SelectKBest, f_classif\n",
    "\n",
    "from sklearn.metrics import make_scorer, precision_score, recall_score, f1_score, roc_auc_score, roc_curve\n",
    "\n",
    "from itertools import product"
   ]
  },
  {
   "cell_type": "markdown",
   "id": "1b335f80-d37e-4b7a-af1e-73a14acc1282",
   "metadata": {},
   "source": [
    "### **Load Data**"
   ]
  },
  {
   "cell_type": "code",
   "execution_count": 4,
   "id": "fd612402-b871-456d-893d-80726c1b1b52",
   "metadata": {},
   "outputs": [],
   "source": [
    "data = pd.read_csv(\"data/adult.csv.zip\")"
   ]
  },
  {
   "cell_type": "code",
   "execution_count": 5,
   "id": "10eee817-c1b9-4591-aba5-2c5073583cc6",
   "metadata": {},
   "outputs": [
    {
     "name": "stdout",
     "output_type": "stream",
     "text": [
      "<class 'pandas.core.frame.DataFrame'>\n",
      "RangeIndex: 48842 entries, 0 to 48841\n",
      "Data columns (total 15 columns):\n",
      " #   Column           Non-Null Count  Dtype \n",
      "---  ------           --------------  ----- \n",
      " 0   age              48842 non-null  int64 \n",
      " 1   workclass        48842 non-null  object\n",
      " 2   fnlwgt           48842 non-null  int64 \n",
      " 3   education        48842 non-null  object\n",
      " 4   educational-num  48842 non-null  int64 \n",
      " 5   marital-status   48842 non-null  object\n",
      " 6   occupation       48842 non-null  object\n",
      " 7   relationship     48842 non-null  object\n",
      " 8   race             48842 non-null  object\n",
      " 9   gender           48842 non-null  object\n",
      " 10  capital-gain     48842 non-null  int64 \n",
      " 11  capital-loss     48842 non-null  int64 \n",
      " 12  hours-per-week   48842 non-null  int64 \n",
      " 13  native-country   48842 non-null  object\n",
      " 14  income           48842 non-null  object\n",
      "dtypes: int64(6), object(9)\n",
      "memory usage: 5.6+ MB\n"
     ]
    }
   ],
   "source": [
    "data.info(show_counts=True)"
   ]
  },
  {
   "cell_type": "code",
   "execution_count": 6,
   "id": "3ab942d9-49d6-4f17-a95d-7d1dfeae8005",
   "metadata": {},
   "outputs": [
    {
     "data": {
      "text/html": [
       "<div>\n",
       "<style scoped>\n",
       "    .dataframe tbody tr th:only-of-type {\n",
       "        vertical-align: middle;\n",
       "    }\n",
       "\n",
       "    .dataframe tbody tr th {\n",
       "        vertical-align: top;\n",
       "    }\n",
       "\n",
       "    .dataframe thead th {\n",
       "        text-align: right;\n",
       "    }\n",
       "</style>\n",
       "<table border=\"1\" class=\"dataframe\">\n",
       "  <thead>\n",
       "    <tr style=\"text-align: right;\">\n",
       "      <th></th>\n",
       "      <th>age</th>\n",
       "      <th>workclass</th>\n",
       "      <th>fnlwgt</th>\n",
       "      <th>education</th>\n",
       "      <th>educational-num</th>\n",
       "      <th>marital-status</th>\n",
       "      <th>occupation</th>\n",
       "      <th>relationship</th>\n",
       "      <th>race</th>\n",
       "      <th>gender</th>\n",
       "      <th>capital-gain</th>\n",
       "      <th>capital-loss</th>\n",
       "      <th>hours-per-week</th>\n",
       "      <th>native-country</th>\n",
       "      <th>income</th>\n",
       "    </tr>\n",
       "  </thead>\n",
       "  <tbody>\n",
       "    <tr>\n",
       "      <th>0</th>\n",
       "      <td>25</td>\n",
       "      <td>Private</td>\n",
       "      <td>226802</td>\n",
       "      <td>11th</td>\n",
       "      <td>7</td>\n",
       "      <td>Never-married</td>\n",
       "      <td>Machine-op-inspct</td>\n",
       "      <td>Own-child</td>\n",
       "      <td>Black</td>\n",
       "      <td>Male</td>\n",
       "      <td>0</td>\n",
       "      <td>0</td>\n",
       "      <td>40</td>\n",
       "      <td>United-States</td>\n",
       "      <td>&lt;=50K</td>\n",
       "    </tr>\n",
       "    <tr>\n",
       "      <th>1</th>\n",
       "      <td>38</td>\n",
       "      <td>Private</td>\n",
       "      <td>89814</td>\n",
       "      <td>HS-grad</td>\n",
       "      <td>9</td>\n",
       "      <td>Married-civ-spouse</td>\n",
       "      <td>Farming-fishing</td>\n",
       "      <td>Husband</td>\n",
       "      <td>White</td>\n",
       "      <td>Male</td>\n",
       "      <td>0</td>\n",
       "      <td>0</td>\n",
       "      <td>50</td>\n",
       "      <td>United-States</td>\n",
       "      <td>&lt;=50K</td>\n",
       "    </tr>\n",
       "    <tr>\n",
       "      <th>2</th>\n",
       "      <td>28</td>\n",
       "      <td>Local-gov</td>\n",
       "      <td>336951</td>\n",
       "      <td>Assoc-acdm</td>\n",
       "      <td>12</td>\n",
       "      <td>Married-civ-spouse</td>\n",
       "      <td>Protective-serv</td>\n",
       "      <td>Husband</td>\n",
       "      <td>White</td>\n",
       "      <td>Male</td>\n",
       "      <td>0</td>\n",
       "      <td>0</td>\n",
       "      <td>40</td>\n",
       "      <td>United-States</td>\n",
       "      <td>&gt;50K</td>\n",
       "    </tr>\n",
       "    <tr>\n",
       "      <th>3</th>\n",
       "      <td>44</td>\n",
       "      <td>Private</td>\n",
       "      <td>160323</td>\n",
       "      <td>Some-college</td>\n",
       "      <td>10</td>\n",
       "      <td>Married-civ-spouse</td>\n",
       "      <td>Machine-op-inspct</td>\n",
       "      <td>Husband</td>\n",
       "      <td>Black</td>\n",
       "      <td>Male</td>\n",
       "      <td>7688</td>\n",
       "      <td>0</td>\n",
       "      <td>40</td>\n",
       "      <td>United-States</td>\n",
       "      <td>&gt;50K</td>\n",
       "    </tr>\n",
       "    <tr>\n",
       "      <th>4</th>\n",
       "      <td>18</td>\n",
       "      <td>?</td>\n",
       "      <td>103497</td>\n",
       "      <td>Some-college</td>\n",
       "      <td>10</td>\n",
       "      <td>Never-married</td>\n",
       "      <td>?</td>\n",
       "      <td>Own-child</td>\n",
       "      <td>White</td>\n",
       "      <td>Female</td>\n",
       "      <td>0</td>\n",
       "      <td>0</td>\n",
       "      <td>30</td>\n",
       "      <td>United-States</td>\n",
       "      <td>&lt;=50K</td>\n",
       "    </tr>\n",
       "  </tbody>\n",
       "</table>\n",
       "</div>"
      ],
      "text/plain": [
       "   age  workclass  fnlwgt     education  educational-num      marital-status  \\\n",
       "0   25    Private  226802          11th                7       Never-married   \n",
       "1   38    Private   89814       HS-grad                9  Married-civ-spouse   \n",
       "2   28  Local-gov  336951    Assoc-acdm               12  Married-civ-spouse   \n",
       "3   44    Private  160323  Some-college               10  Married-civ-spouse   \n",
       "4   18          ?  103497  Some-college               10       Never-married   \n",
       "\n",
       "          occupation relationship   race  gender  capital-gain  capital-loss  \\\n",
       "0  Machine-op-inspct    Own-child  Black    Male             0             0   \n",
       "1    Farming-fishing      Husband  White    Male             0             0   \n",
       "2    Protective-serv      Husband  White    Male             0             0   \n",
       "3  Machine-op-inspct      Husband  Black    Male          7688             0   \n",
       "4                  ?    Own-child  White  Female             0             0   \n",
       "\n",
       "   hours-per-week native-country income  \n",
       "0              40  United-States  <=50K  \n",
       "1              50  United-States  <=50K  \n",
       "2              40  United-States   >50K  \n",
       "3              40  United-States   >50K  \n",
       "4              30  United-States  <=50K  "
      ]
     },
     "execution_count": 6,
     "metadata": {},
     "output_type": "execute_result"
    }
   ],
   "source": [
    "data.head()"
   ]
  },
  {
   "cell_type": "markdown",
   "id": "3a80b6f0-f1bd-4362-b0b1-da6def39fe02",
   "metadata": {},
   "source": [
    "## **Data Quality**\n",
    "\n",
    "In this part, let's check 2 things:\n",
    " - Missing values -> No missing values in this problem\n",
    " - Data types -> Some data types need to be changed\n",
    "    - `capital_gain` -> `float`\n",
    "    - `capital_loss` -> `float`\n",
    "    - `age` -> `float`"
   ]
  },
  {
   "cell_type": "code",
   "execution_count": 7,
   "id": "1453b91d-666a-4a00-a333-10c2b5c6ef30",
   "metadata": {},
   "outputs": [],
   "source": [
    "data = data.astype({\n",
    "    \"fnlwgt\": float,\n",
    "    \"capital-gain\": float,\n",
    "    \"capital-loss\": float,\n",
    "    \"hours-per-week\": float,\n",
    "    \"age\": float\n",
    "})"
   ]
  },
  {
   "cell_type": "code",
   "execution_count": 8,
   "id": "a94ed401-c1e0-47e9-b9f0-b5e5585efec2",
   "metadata": {},
   "outputs": [
    {
     "name": "stdout",
     "output_type": "stream",
     "text": [
      "<class 'pandas.core.frame.DataFrame'>\n",
      "RangeIndex: 48842 entries, 0 to 48841\n",
      "Data columns (total 15 columns):\n",
      " #   Column           Non-Null Count  Dtype  \n",
      "---  ------           --------------  -----  \n",
      " 0   age              48842 non-null  float64\n",
      " 1   workclass        48842 non-null  object \n",
      " 2   fnlwgt           48842 non-null  float64\n",
      " 3   education        48842 non-null  object \n",
      " 4   educational-num  48842 non-null  int64  \n",
      " 5   marital-status   48842 non-null  object \n",
      " 6   occupation       48842 non-null  object \n",
      " 7   relationship     48842 non-null  object \n",
      " 8   race             48842 non-null  object \n",
      " 9   gender           48842 non-null  object \n",
      " 10  capital-gain     48842 non-null  float64\n",
      " 11  capital-loss     48842 non-null  float64\n",
      " 12  hours-per-week   48842 non-null  float64\n",
      " 13  native-country   48842 non-null  object \n",
      " 14  income           48842 non-null  object \n",
      "dtypes: float64(5), int64(1), object(9)\n",
      "memory usage: 5.6+ MB\n"
     ]
    }
   ],
   "source": [
    "data.info()"
   ]
  },
  {
   "cell_type": "markdown",
   "id": "45098e9b-d2b6-4eee-99b3-f067c56aa7eb",
   "metadata": {},
   "source": [
    "## **Exercise:** Build the following pipeline\n",
    "\n",
    "1. Preprocessing\n",
    "   1. OHE to all columns except `workclass`\n",
    "   2. OrdinalEncoder for `workclass`\n",
    "   3. StandardScaler for all resulting columns + numerical ones\n",
    "2. Feature Selection technique (SelectKBest)\n",
    "3. Model training"
   ]
  },
  {
   "cell_type": "markdown",
   "id": "9cefcf2f-cf93-49fb-a484-6982dd246c23",
   "metadata": {},
   "source": [
    "**How to build the pipeline**\n",
    "\n",
    "1. Pipeline - `final`\n",
    "   1. Pipeline - `preprocessing`\n",
    "      1. ColumnTransformer - `cat_preprocessing`\n",
    "         1. OneHotEncoder\n",
    "         1. OrdinalEncoder\n",
    "      1. StandardScaler\n",
    "   1. Feature Selection\n",
    "   1. Logistic Regression"
   ]
  },
  {
   "cell_type": "markdown",
   "id": "51af8fbf-1a2d-43eb-b2bf-ed20089327e0",
   "metadata": {},
   "source": [
    "### **Prepare data**"
   ]
  },
  {
   "cell_type": "code",
   "execution_count": 9,
   "id": "c84c3aa3-1798-432c-8c60-0a492d8e0f7d",
   "metadata": {},
   "outputs": [],
   "source": [
    "X = data.drop(columns=[\"income\"])\n",
    "y = data[\"income\"]\n",
    "\n",
    "X_train, X_test, y_train, y_test = train_test_split(X, y, test_size=0.3, random_state=99)"
   ]
  },
  {
   "cell_type": "code",
   "execution_count": 10,
   "id": "2dddc478-225a-49ab-b046-687dfb8b64c3",
   "metadata": {},
   "outputs": [],
   "source": [
    "# Let's define our final pipeline\n",
    "\n",
    "steps = []"
   ]
  },
  {
   "cell_type": "markdown",
   "id": "25c059f6-1d4b-4565-90c8-aef62282208a",
   "metadata": {},
   "source": [
    "### **Preprocessing**"
   ]
  },
  {
   "cell_type": "markdown",
   "id": "dbb292eb-21c6-4d43-90a1-8852b65d1e5a",
   "metadata": {},
   "source": [
    "1. Build a **ColumnTransformer** for the Categorical variables"
   ]
  },
  {
   "cell_type": "code",
   "execution_count": 11,
   "id": "5b46ab31-aeb9-4485-bad1-c12450c932e6",
   "metadata": {},
   "outputs": [],
   "source": [
    "categorical_columns = X.select_dtypes([\"O\",\"int\"]).columns"
   ]
  },
  {
   "cell_type": "code",
   "execution_count": 12,
   "id": "1711a7f2-5e06-4f4b-af76-60764ecfc821",
   "metadata": {},
   "outputs": [],
   "source": [
    "cat_preprocessing = ColumnTransformer(\n",
    "    [\n",
    "        (\n",
    "            \"ohe\",\n",
    "            OneHotEncoder(sparse_output=False),\n",
    "            categorical_columns.drop(\"workclass\")\n",
    "        ),\n",
    "        (\n",
    "            \"ordinal\",\n",
    "            OrdinalEncoder(),\n",
    "            [\"workclass\"]\n",
    "        )\n",
    "    ],\n",
    "    remainder=\"passthrough\"  # this can be \"drop\", \"passthrough\", or another Estimator\n",
    ")"
   ]
  },
  {
   "cell_type": "markdown",
   "id": "61b0ea2f-d32f-4b6b-bbfd-317ce4c0b8a3",
   "metadata": {},
   "source": [
    "2. Build a **Pipeline** to scale all resulting features"
   ]
  },
  {
   "cell_type": "code",
   "execution_count": 13,
   "id": "d5b82a44-1a5d-435b-8b86-0ddaf558db51",
   "metadata": {},
   "outputs": [],
   "source": [
    "preprocessing = Pipeline([\n",
    "    (\"cat_preprocessing\", cat_preprocessing),\n",
    "    (\"scaler\", StandardScaler())\n",
    "])"
   ]
  },
  {
   "cell_type": "markdown",
   "id": "d07560c3-174b-4df5-978f-5da947991f06",
   "metadata": {},
   "source": [
    "Add the preprocessing step to the final pipeline"
   ]
  },
  {
   "cell_type": "code",
   "execution_count": 14,
   "id": "202b615b-01e0-42df-b83d-7b923d8ab5ca",
   "metadata": {},
   "outputs": [],
   "source": [
    "steps.append((\"preprocessing\", preprocessing))"
   ]
  },
  {
   "cell_type": "markdown",
   "id": "f475ea97-1f8f-4fcb-813f-3745524547e0",
   "metadata": {},
   "source": [
    "### **Feature Selection**"
   ]
  },
  {
   "cell_type": "code",
   "execution_count": 15,
   "id": "ca3323eb-2d23-4ff4-b88d-8db1e9d28658",
   "metadata": {},
   "outputs": [],
   "source": [
    "fs = SelectKBest(score_func=f_classif, k=10)"
   ]
  },
  {
   "cell_type": "markdown",
   "id": "6410a709-c403-4983-8050-3d5b481ee943",
   "metadata": {},
   "source": [
    "Add the feature selection step to the final pipeline"
   ]
  },
  {
   "cell_type": "code",
   "execution_count": 16,
   "id": "f9459145-2779-4835-a7f0-c070597e9a0e",
   "metadata": {},
   "outputs": [],
   "source": [
    "steps.append((\"feature_selection\", fs))"
   ]
  },
  {
   "cell_type": "markdown",
   "id": "6ac2c54f-fd52-4aa3-ac4b-20b3f53aeb0c",
   "metadata": {},
   "source": [
    "### **Model**"
   ]
  },
  {
   "cell_type": "code",
   "execution_count": 17,
   "id": "5e7376ee-f6ab-4ba6-8c62-076bb072580d",
   "metadata": {},
   "outputs": [],
   "source": [
    "lr = LogisticRegression(solver=\"liblinear\")\n",
    "\n",
    "search_space = {\n",
    "    \"C\": np.logspace(-4,4,1000)\n",
    "}\n",
    "\n",
    "rs = RandomizedSearchCV(lr, search_space)"
   ]
  },
  {
   "cell_type": "markdown",
   "id": "1763e2ba-3aee-494b-992f-28c8bf01c860",
   "metadata": {},
   "source": [
    "Add the model to the pipeline"
   ]
  },
  {
   "cell_type": "code",
   "execution_count": 18,
   "id": "dad3fe4b-443f-4adb-bf49-c81e6a73c84f",
   "metadata": {},
   "outputs": [],
   "source": [
    "steps.append((\"model\", rs))"
   ]
  },
  {
   "cell_type": "markdown",
   "id": "0e78bc86-42f5-44a9-ad67-b1ee1c7a2b44",
   "metadata": {},
   "source": [
    "### **Build the Pipeline**"
   ]
  },
  {
   "cell_type": "code",
   "execution_count": 20,
   "id": "ddec47b6-fc0a-4d5c-88fd-5a3293ee0ca5",
   "metadata": {},
   "outputs": [],
   "source": [
    "final = Pipeline(\n",
    "    steps=steps\n",
    ")"
   ]
  },
  {
   "cell_type": "code",
   "execution_count": 21,
   "id": "6d65eaa4-a701-46ba-9c97-43bcb8fed26e",
   "metadata": {},
   "outputs": [
    {
     "data": {
      "text/html": [
       "<style>#sk-container-id-1 {color: black;background-color: white;}#sk-container-id-1 pre{padding: 0;}#sk-container-id-1 div.sk-toggleable {background-color: white;}#sk-container-id-1 label.sk-toggleable__label {cursor: pointer;display: block;width: 100%;margin-bottom: 0;padding: 0.3em;box-sizing: border-box;text-align: center;}#sk-container-id-1 label.sk-toggleable__label-arrow:before {content: \"▸\";float: left;margin-right: 0.25em;color: #696969;}#sk-container-id-1 label.sk-toggleable__label-arrow:hover:before {color: black;}#sk-container-id-1 div.sk-estimator:hover label.sk-toggleable__label-arrow:before {color: black;}#sk-container-id-1 div.sk-toggleable__content {max-height: 0;max-width: 0;overflow: hidden;text-align: left;background-color: #f0f8ff;}#sk-container-id-1 div.sk-toggleable__content pre {margin: 0.2em;color: black;border-radius: 0.25em;background-color: #f0f8ff;}#sk-container-id-1 input.sk-toggleable__control:checked~div.sk-toggleable__content {max-height: 200px;max-width: 100%;overflow: auto;}#sk-container-id-1 input.sk-toggleable__control:checked~label.sk-toggleable__label-arrow:before {content: \"▾\";}#sk-container-id-1 div.sk-estimator input.sk-toggleable__control:checked~label.sk-toggleable__label {background-color: #d4ebff;}#sk-container-id-1 div.sk-label input.sk-toggleable__control:checked~label.sk-toggleable__label {background-color: #d4ebff;}#sk-container-id-1 input.sk-hidden--visually {border: 0;clip: rect(1px 1px 1px 1px);clip: rect(1px, 1px, 1px, 1px);height: 1px;margin: -1px;overflow: hidden;padding: 0;position: absolute;width: 1px;}#sk-container-id-1 div.sk-estimator {font-family: monospace;background-color: #f0f8ff;border: 1px dotted black;border-radius: 0.25em;box-sizing: border-box;margin-bottom: 0.5em;}#sk-container-id-1 div.sk-estimator:hover {background-color: #d4ebff;}#sk-container-id-1 div.sk-parallel-item::after {content: \"\";width: 100%;border-bottom: 1px solid gray;flex-grow: 1;}#sk-container-id-1 div.sk-label:hover label.sk-toggleable__label {background-color: #d4ebff;}#sk-container-id-1 div.sk-serial::before {content: \"\";position: absolute;border-left: 1px solid gray;box-sizing: border-box;top: 0;bottom: 0;left: 50%;z-index: 0;}#sk-container-id-1 div.sk-serial {display: flex;flex-direction: column;align-items: center;background-color: white;padding-right: 0.2em;padding-left: 0.2em;position: relative;}#sk-container-id-1 div.sk-item {position: relative;z-index: 1;}#sk-container-id-1 div.sk-parallel {display: flex;align-items: stretch;justify-content: center;background-color: white;position: relative;}#sk-container-id-1 div.sk-item::before, #sk-container-id-1 div.sk-parallel-item::before {content: \"\";position: absolute;border-left: 1px solid gray;box-sizing: border-box;top: 0;bottom: 0;left: 50%;z-index: -1;}#sk-container-id-1 div.sk-parallel-item {display: flex;flex-direction: column;z-index: 1;position: relative;background-color: white;}#sk-container-id-1 div.sk-parallel-item:first-child::after {align-self: flex-end;width: 50%;}#sk-container-id-1 div.sk-parallel-item:last-child::after {align-self: flex-start;width: 50%;}#sk-container-id-1 div.sk-parallel-item:only-child::after {width: 0;}#sk-container-id-1 div.sk-dashed-wrapped {border: 1px dashed gray;margin: 0 0.4em 0.5em 0.4em;box-sizing: border-box;padding-bottom: 0.4em;background-color: white;}#sk-container-id-1 div.sk-label label {font-family: monospace;font-weight: bold;display: inline-block;line-height: 1.2em;}#sk-container-id-1 div.sk-label-container {text-align: center;}#sk-container-id-1 div.sk-container {/* jupyter's `normalize.less` sets `[hidden] { display: none; }` but bootstrap.min.css set `[hidden] { display: none !important; }` so we also need the `!important` here to be able to override the default hidden behavior on the sphinx rendered scikit-learn.org. See: https://github.com/scikit-learn/scikit-learn/issues/21755 */display: inline-block !important;position: relative;}#sk-container-id-1 div.sk-text-repr-fallback {display: none;}</style><div id=\"sk-container-id-1\" class=\"sk-top-container\"><div class=\"sk-text-repr-fallback\"><pre>Pipeline(steps=[(&#x27;preprocessing&#x27;,\n",
       "                 Pipeline(steps=[(&#x27;cat_preprocessing&#x27;,\n",
       "                                  ColumnTransformer(remainder=&#x27;passthrough&#x27;,\n",
       "                                                    transformers=[(&#x27;ohe&#x27;,\n",
       "                                                                   OneHotEncoder(sparse_output=False),\n",
       "                                                                   Index([&#x27;education&#x27;, &#x27;educational-num&#x27;, &#x27;marital-status&#x27;, &#x27;occupation&#x27;,\n",
       "       &#x27;relationship&#x27;, &#x27;race&#x27;, &#x27;gender&#x27;, &#x27;native-country&#x27;],\n",
       "      dtype=&#x27;object&#x27;)),\n",
       "                                                                  (&#x27;ordinal&#x27;,\n",
       "                                                                   OrdinalEncoder(),\n",
       "                                                                   [&#x27;workclass&#x27;])])),\n",
       "                                 (&#x27;s...\n",
       "       6.54358602e+03, 6.66536327e+03, 6.78940681e+03, 6.91575883e+03,\n",
       "       7.04446228e+03, 7.17556092e+03, 7.30909933e+03, 7.44512291e+03,\n",
       "       7.58367791e+03, 7.72481145e+03, 7.86857151e+03, 8.01500696e+03,\n",
       "       8.16416760e+03, 8.31610415e+03, 8.47086827e+03, 8.62851257e+03,\n",
       "       8.78909065e+03, 8.95265713e+03, 9.11926760e+03, 9.28897872e+03,\n",
       "       9.46184819e+03, 9.63793480e+03, 9.81729841e+03, 1.00000000e+04])}))])</pre><b>In a Jupyter environment, please rerun this cell to show the HTML representation or trust the notebook. <br />On GitHub, the HTML representation is unable to render, please try loading this page with nbviewer.org.</b></div><div class=\"sk-container\" hidden><div class=\"sk-item sk-dashed-wrapped\"><div class=\"sk-label-container\"><div class=\"sk-label sk-toggleable\"><input class=\"sk-toggleable__control sk-hidden--visually\" id=\"sk-estimator-id-1\" type=\"checkbox\" ><label for=\"sk-estimator-id-1\" class=\"sk-toggleable__label sk-toggleable__label-arrow\">Pipeline</label><div class=\"sk-toggleable__content\"><pre>Pipeline(steps=[(&#x27;preprocessing&#x27;,\n",
       "                 Pipeline(steps=[(&#x27;cat_preprocessing&#x27;,\n",
       "                                  ColumnTransformer(remainder=&#x27;passthrough&#x27;,\n",
       "                                                    transformers=[(&#x27;ohe&#x27;,\n",
       "                                                                   OneHotEncoder(sparse_output=False),\n",
       "                                                                   Index([&#x27;education&#x27;, &#x27;educational-num&#x27;, &#x27;marital-status&#x27;, &#x27;occupation&#x27;,\n",
       "       &#x27;relationship&#x27;, &#x27;race&#x27;, &#x27;gender&#x27;, &#x27;native-country&#x27;],\n",
       "      dtype=&#x27;object&#x27;)),\n",
       "                                                                  (&#x27;ordinal&#x27;,\n",
       "                                                                   OrdinalEncoder(),\n",
       "                                                                   [&#x27;workclass&#x27;])])),\n",
       "                                 (&#x27;s...\n",
       "       6.54358602e+03, 6.66536327e+03, 6.78940681e+03, 6.91575883e+03,\n",
       "       7.04446228e+03, 7.17556092e+03, 7.30909933e+03, 7.44512291e+03,\n",
       "       7.58367791e+03, 7.72481145e+03, 7.86857151e+03, 8.01500696e+03,\n",
       "       8.16416760e+03, 8.31610415e+03, 8.47086827e+03, 8.62851257e+03,\n",
       "       8.78909065e+03, 8.95265713e+03, 9.11926760e+03, 9.28897872e+03,\n",
       "       9.46184819e+03, 9.63793480e+03, 9.81729841e+03, 1.00000000e+04])}))])</pre></div></div></div><div class=\"sk-serial\"><div class=\"sk-item\"><div class=\"sk-label-container\"><div class=\"sk-label sk-toggleable\"><input class=\"sk-toggleable__control sk-hidden--visually\" id=\"sk-estimator-id-2\" type=\"checkbox\" ><label for=\"sk-estimator-id-2\" class=\"sk-toggleable__label sk-toggleable__label-arrow\">preprocessing: Pipeline</label><div class=\"sk-toggleable__content\"><pre>Pipeline(steps=[(&#x27;cat_preprocessing&#x27;,\n",
       "                 ColumnTransformer(remainder=&#x27;passthrough&#x27;,\n",
       "                                   transformers=[(&#x27;ohe&#x27;,\n",
       "                                                  OneHotEncoder(sparse_output=False),\n",
       "                                                  Index([&#x27;education&#x27;, &#x27;educational-num&#x27;, &#x27;marital-status&#x27;, &#x27;occupation&#x27;,\n",
       "       &#x27;relationship&#x27;, &#x27;race&#x27;, &#x27;gender&#x27;, &#x27;native-country&#x27;],\n",
       "      dtype=&#x27;object&#x27;)),\n",
       "                                                 (&#x27;ordinal&#x27;, OrdinalEncoder(),\n",
       "                                                  [&#x27;workclass&#x27;])])),\n",
       "                (&#x27;scaler&#x27;, StandardScaler())])</pre></div></div></div><div class=\"sk-serial\"><div class=\"sk-item sk-dashed-wrapped\"><div class=\"sk-label-container\"><div class=\"sk-label sk-toggleable\"><input class=\"sk-toggleable__control sk-hidden--visually\" id=\"sk-estimator-id-3\" type=\"checkbox\" ><label for=\"sk-estimator-id-3\" class=\"sk-toggleable__label sk-toggleable__label-arrow\">cat_preprocessing: ColumnTransformer</label><div class=\"sk-toggleable__content\"><pre>ColumnTransformer(remainder=&#x27;passthrough&#x27;,\n",
       "                  transformers=[(&#x27;ohe&#x27;, OneHotEncoder(sparse_output=False),\n",
       "                                 Index([&#x27;education&#x27;, &#x27;educational-num&#x27;, &#x27;marital-status&#x27;, &#x27;occupation&#x27;,\n",
       "       &#x27;relationship&#x27;, &#x27;race&#x27;, &#x27;gender&#x27;, &#x27;native-country&#x27;],\n",
       "      dtype=&#x27;object&#x27;)),\n",
       "                                (&#x27;ordinal&#x27;, OrdinalEncoder(), [&#x27;workclass&#x27;])])</pre></div></div></div><div class=\"sk-parallel\"><div class=\"sk-parallel-item\"><div class=\"sk-item\"><div class=\"sk-label-container\"><div class=\"sk-label sk-toggleable\"><input class=\"sk-toggleable__control sk-hidden--visually\" id=\"sk-estimator-id-4\" type=\"checkbox\" ><label for=\"sk-estimator-id-4\" class=\"sk-toggleable__label sk-toggleable__label-arrow\">ohe</label><div class=\"sk-toggleable__content\"><pre>Index([&#x27;education&#x27;, &#x27;educational-num&#x27;, &#x27;marital-status&#x27;, &#x27;occupation&#x27;,\n",
       "       &#x27;relationship&#x27;, &#x27;race&#x27;, &#x27;gender&#x27;, &#x27;native-country&#x27;],\n",
       "      dtype=&#x27;object&#x27;)</pre></div></div></div><div class=\"sk-serial\"><div class=\"sk-item\"><div class=\"sk-estimator sk-toggleable\"><input class=\"sk-toggleable__control sk-hidden--visually\" id=\"sk-estimator-id-5\" type=\"checkbox\" ><label for=\"sk-estimator-id-5\" class=\"sk-toggleable__label sk-toggleable__label-arrow\">OneHotEncoder</label><div class=\"sk-toggleable__content\"><pre>OneHotEncoder(sparse_output=False)</pre></div></div></div></div></div></div><div class=\"sk-parallel-item\"><div class=\"sk-item\"><div class=\"sk-label-container\"><div class=\"sk-label sk-toggleable\"><input class=\"sk-toggleable__control sk-hidden--visually\" id=\"sk-estimator-id-6\" type=\"checkbox\" ><label for=\"sk-estimator-id-6\" class=\"sk-toggleable__label sk-toggleable__label-arrow\">ordinal</label><div class=\"sk-toggleable__content\"><pre>[&#x27;workclass&#x27;]</pre></div></div></div><div class=\"sk-serial\"><div class=\"sk-item\"><div class=\"sk-estimator sk-toggleable\"><input class=\"sk-toggleable__control sk-hidden--visually\" id=\"sk-estimator-id-7\" type=\"checkbox\" ><label for=\"sk-estimator-id-7\" class=\"sk-toggleable__label sk-toggleable__label-arrow\">OrdinalEncoder</label><div class=\"sk-toggleable__content\"><pre>OrdinalEncoder()</pre></div></div></div></div></div></div><div class=\"sk-parallel-item\"><div class=\"sk-item\"><div class=\"sk-label-container\"><div class=\"sk-label sk-toggleable\"><input class=\"sk-toggleable__control sk-hidden--visually\" id=\"sk-estimator-id-8\" type=\"checkbox\" ><label for=\"sk-estimator-id-8\" class=\"sk-toggleable__label sk-toggleable__label-arrow\">remainder</label><div class=\"sk-toggleable__content\"><pre></pre></div></div></div><div class=\"sk-serial\"><div class=\"sk-item\"><div class=\"sk-estimator sk-toggleable\"><input class=\"sk-toggleable__control sk-hidden--visually\" id=\"sk-estimator-id-9\" type=\"checkbox\" ><label for=\"sk-estimator-id-9\" class=\"sk-toggleable__label sk-toggleable__label-arrow\">passthrough</label><div class=\"sk-toggleable__content\"><pre>passthrough</pre></div></div></div></div></div></div></div></div><div class=\"sk-item\"><div class=\"sk-estimator sk-toggleable\"><input class=\"sk-toggleable__control sk-hidden--visually\" id=\"sk-estimator-id-10\" type=\"checkbox\" ><label for=\"sk-estimator-id-10\" class=\"sk-toggleable__label sk-toggleable__label-arrow\">StandardScaler</label><div class=\"sk-toggleable__content\"><pre>StandardScaler()</pre></div></div></div></div></div><div class=\"sk-item\"><div class=\"sk-estimator sk-toggleable\"><input class=\"sk-toggleable__control sk-hidden--visually\" id=\"sk-estimator-id-11\" type=\"checkbox\" ><label for=\"sk-estimator-id-11\" class=\"sk-toggleable__label sk-toggleable__label-arrow\">SelectKBest</label><div class=\"sk-toggleable__content\"><pre>SelectKBest()</pre></div></div></div><div class=\"sk-item sk-dashed-wrapped\"><div class=\"sk-label-container\"><div class=\"sk-label sk-toggleable\"><input class=\"sk-toggleable__control sk-hidden--visually\" id=\"sk-estimator-id-12\" type=\"checkbox\" ><label for=\"sk-estimator-id-12\" class=\"sk-toggleable__label sk-toggleable__label-arrow\">model: RandomizedSearchCV</label><div class=\"sk-toggleable__content\"><pre>RandomizedSearchCV(estimator=LogisticRegression(solver=&#x27;liblinear&#x27;),\n",
       "                   param_distributions={&#x27;C&#x27;: array([1.00000000e-04, 1.01861017e-04, 1.03756668e-04, 1.05687597e-04,\n",
       "       1.07654461e-04, 1.09657929e-04, 1.11698682e-04, 1.13777413e-04,\n",
       "       1.15894830e-04, 1.18051653e-04, 1.20248614e-04, 1.22486461e-04,\n",
       "       1.24765955e-04, 1.27087871e-04, 1.29452998e-04, 1.31862140e-04,\n",
       "       1.34316117...\n",
       "       6.54358602e+03, 6.66536327e+03, 6.78940681e+03, 6.91575883e+03,\n",
       "       7.04446228e+03, 7.17556092e+03, 7.30909933e+03, 7.44512291e+03,\n",
       "       7.58367791e+03, 7.72481145e+03, 7.86857151e+03, 8.01500696e+03,\n",
       "       8.16416760e+03, 8.31610415e+03, 8.47086827e+03, 8.62851257e+03,\n",
       "       8.78909065e+03, 8.95265713e+03, 9.11926760e+03, 9.28897872e+03,\n",
       "       9.46184819e+03, 9.63793480e+03, 9.81729841e+03, 1.00000000e+04])})</pre></div></div></div><div class=\"sk-parallel\"><div class=\"sk-parallel-item\"><div class=\"sk-item\"><div class=\"sk-label-container\"><div class=\"sk-label sk-toggleable\"><input class=\"sk-toggleable__control sk-hidden--visually\" id=\"sk-estimator-id-13\" type=\"checkbox\" ><label for=\"sk-estimator-id-13\" class=\"sk-toggleable__label sk-toggleable__label-arrow\">estimator: LogisticRegression</label><div class=\"sk-toggleable__content\"><pre>LogisticRegression(solver=&#x27;liblinear&#x27;)</pre></div></div></div><div class=\"sk-serial\"><div class=\"sk-item\"><div class=\"sk-estimator sk-toggleable\"><input class=\"sk-toggleable__control sk-hidden--visually\" id=\"sk-estimator-id-14\" type=\"checkbox\" ><label for=\"sk-estimator-id-14\" class=\"sk-toggleable__label sk-toggleable__label-arrow\">LogisticRegression</label><div class=\"sk-toggleable__content\"><pre>LogisticRegression(solver=&#x27;liblinear&#x27;)</pre></div></div></div></div></div></div></div></div></div></div></div></div>"
      ],
      "text/plain": [
       "Pipeline(steps=[('preprocessing',\n",
       "                 Pipeline(steps=[('cat_preprocessing',\n",
       "                                  ColumnTransformer(remainder='passthrough',\n",
       "                                                    transformers=[('ohe',\n",
       "                                                                   OneHotEncoder(sparse_output=False),\n",
       "                                                                   Index(['education', 'educational-num', 'marital-status', 'occupation',\n",
       "       'relationship', 'race', 'gender', 'native-country'],\n",
       "      dtype='object')),\n",
       "                                                                  ('ordinal',\n",
       "                                                                   OrdinalEncoder(),\n",
       "                                                                   ['workclass'])])),\n",
       "                                 ('s...\n",
       "       6.54358602e+03, 6.66536327e+03, 6.78940681e+03, 6.91575883e+03,\n",
       "       7.04446228e+03, 7.17556092e+03, 7.30909933e+03, 7.44512291e+03,\n",
       "       7.58367791e+03, 7.72481145e+03, 7.86857151e+03, 8.01500696e+03,\n",
       "       8.16416760e+03, 8.31610415e+03, 8.47086827e+03, 8.62851257e+03,\n",
       "       8.78909065e+03, 8.95265713e+03, 9.11926760e+03, 9.28897872e+03,\n",
       "       9.46184819e+03, 9.63793480e+03, 9.81729841e+03, 1.00000000e+04])}))])"
      ]
     },
     "execution_count": 21,
     "metadata": {},
     "output_type": "execute_result"
    }
   ],
   "source": [
    "final"
   ]
  },
  {
   "cell_type": "markdown",
   "id": "1d736ecd-3338-439d-bff6-0be15fcb519e",
   "metadata": {},
   "source": [
    "### **Apply the whole process to original data**"
   ]
  },
  {
   "cell_type": "code",
   "execution_count": 22,
   "id": "ad80f01f-788c-4d36-9340-924c9d5d9129",
   "metadata": {},
   "outputs": [
    {
     "name": "stdout",
     "output_type": "stream",
     "text": [
      "CPU times: user 7.95 s, sys: 7.22 s, total: 15.2 s\n",
      "Wall time: 2.12 s\n"
     ]
    },
    {
     "data": {
      "text/html": [
       "<style>#sk-container-id-2 {color: black;background-color: white;}#sk-container-id-2 pre{padding: 0;}#sk-container-id-2 div.sk-toggleable {background-color: white;}#sk-container-id-2 label.sk-toggleable__label {cursor: pointer;display: block;width: 100%;margin-bottom: 0;padding: 0.3em;box-sizing: border-box;text-align: center;}#sk-container-id-2 label.sk-toggleable__label-arrow:before {content: \"▸\";float: left;margin-right: 0.25em;color: #696969;}#sk-container-id-2 label.sk-toggleable__label-arrow:hover:before {color: black;}#sk-container-id-2 div.sk-estimator:hover label.sk-toggleable__label-arrow:before {color: black;}#sk-container-id-2 div.sk-toggleable__content {max-height: 0;max-width: 0;overflow: hidden;text-align: left;background-color: #f0f8ff;}#sk-container-id-2 div.sk-toggleable__content pre {margin: 0.2em;color: black;border-radius: 0.25em;background-color: #f0f8ff;}#sk-container-id-2 input.sk-toggleable__control:checked~div.sk-toggleable__content {max-height: 200px;max-width: 100%;overflow: auto;}#sk-container-id-2 input.sk-toggleable__control:checked~label.sk-toggleable__label-arrow:before {content: \"▾\";}#sk-container-id-2 div.sk-estimator input.sk-toggleable__control:checked~label.sk-toggleable__label {background-color: #d4ebff;}#sk-container-id-2 div.sk-label input.sk-toggleable__control:checked~label.sk-toggleable__label {background-color: #d4ebff;}#sk-container-id-2 input.sk-hidden--visually {border: 0;clip: rect(1px 1px 1px 1px);clip: rect(1px, 1px, 1px, 1px);height: 1px;margin: -1px;overflow: hidden;padding: 0;position: absolute;width: 1px;}#sk-container-id-2 div.sk-estimator {font-family: monospace;background-color: #f0f8ff;border: 1px dotted black;border-radius: 0.25em;box-sizing: border-box;margin-bottom: 0.5em;}#sk-container-id-2 div.sk-estimator:hover {background-color: #d4ebff;}#sk-container-id-2 div.sk-parallel-item::after {content: \"\";width: 100%;border-bottom: 1px solid gray;flex-grow: 1;}#sk-container-id-2 div.sk-label:hover label.sk-toggleable__label {background-color: #d4ebff;}#sk-container-id-2 div.sk-serial::before {content: \"\";position: absolute;border-left: 1px solid gray;box-sizing: border-box;top: 0;bottom: 0;left: 50%;z-index: 0;}#sk-container-id-2 div.sk-serial {display: flex;flex-direction: column;align-items: center;background-color: white;padding-right: 0.2em;padding-left: 0.2em;position: relative;}#sk-container-id-2 div.sk-item {position: relative;z-index: 1;}#sk-container-id-2 div.sk-parallel {display: flex;align-items: stretch;justify-content: center;background-color: white;position: relative;}#sk-container-id-2 div.sk-item::before, #sk-container-id-2 div.sk-parallel-item::before {content: \"\";position: absolute;border-left: 1px solid gray;box-sizing: border-box;top: 0;bottom: 0;left: 50%;z-index: -1;}#sk-container-id-2 div.sk-parallel-item {display: flex;flex-direction: column;z-index: 1;position: relative;background-color: white;}#sk-container-id-2 div.sk-parallel-item:first-child::after {align-self: flex-end;width: 50%;}#sk-container-id-2 div.sk-parallel-item:last-child::after {align-self: flex-start;width: 50%;}#sk-container-id-2 div.sk-parallel-item:only-child::after {width: 0;}#sk-container-id-2 div.sk-dashed-wrapped {border: 1px dashed gray;margin: 0 0.4em 0.5em 0.4em;box-sizing: border-box;padding-bottom: 0.4em;background-color: white;}#sk-container-id-2 div.sk-label label {font-family: monospace;font-weight: bold;display: inline-block;line-height: 1.2em;}#sk-container-id-2 div.sk-label-container {text-align: center;}#sk-container-id-2 div.sk-container {/* jupyter's `normalize.less` sets `[hidden] { display: none; }` but bootstrap.min.css set `[hidden] { display: none !important; }` so we also need the `!important` here to be able to override the default hidden behavior on the sphinx rendered scikit-learn.org. See: https://github.com/scikit-learn/scikit-learn/issues/21755 */display: inline-block !important;position: relative;}#sk-container-id-2 div.sk-text-repr-fallback {display: none;}</style><div id=\"sk-container-id-2\" class=\"sk-top-container\"><div class=\"sk-text-repr-fallback\"><pre>Pipeline(steps=[(&#x27;preprocessing&#x27;,\n",
       "                 Pipeline(steps=[(&#x27;cat_preprocessing&#x27;,\n",
       "                                  ColumnTransformer(remainder=&#x27;passthrough&#x27;,\n",
       "                                                    transformers=[(&#x27;ohe&#x27;,\n",
       "                                                                   OneHotEncoder(sparse_output=False),\n",
       "                                                                   Index([&#x27;education&#x27;, &#x27;educational-num&#x27;, &#x27;marital-status&#x27;, &#x27;occupation&#x27;,\n",
       "       &#x27;relationship&#x27;, &#x27;race&#x27;, &#x27;gender&#x27;, &#x27;native-country&#x27;],\n",
       "      dtype=&#x27;object&#x27;)),\n",
       "                                                                  (&#x27;ordinal&#x27;,\n",
       "                                                                   OrdinalEncoder(),\n",
       "                                                                   [&#x27;workclass&#x27;])])),\n",
       "                                 (&#x27;s...\n",
       "       6.54358602e+03, 6.66536327e+03, 6.78940681e+03, 6.91575883e+03,\n",
       "       7.04446228e+03, 7.17556092e+03, 7.30909933e+03, 7.44512291e+03,\n",
       "       7.58367791e+03, 7.72481145e+03, 7.86857151e+03, 8.01500696e+03,\n",
       "       8.16416760e+03, 8.31610415e+03, 8.47086827e+03, 8.62851257e+03,\n",
       "       8.78909065e+03, 8.95265713e+03, 9.11926760e+03, 9.28897872e+03,\n",
       "       9.46184819e+03, 9.63793480e+03, 9.81729841e+03, 1.00000000e+04])}))])</pre><b>In a Jupyter environment, please rerun this cell to show the HTML representation or trust the notebook. <br />On GitHub, the HTML representation is unable to render, please try loading this page with nbviewer.org.</b></div><div class=\"sk-container\" hidden><div class=\"sk-item sk-dashed-wrapped\"><div class=\"sk-label-container\"><div class=\"sk-label sk-toggleable\"><input class=\"sk-toggleable__control sk-hidden--visually\" id=\"sk-estimator-id-15\" type=\"checkbox\" ><label for=\"sk-estimator-id-15\" class=\"sk-toggleable__label sk-toggleable__label-arrow\">Pipeline</label><div class=\"sk-toggleable__content\"><pre>Pipeline(steps=[(&#x27;preprocessing&#x27;,\n",
       "                 Pipeline(steps=[(&#x27;cat_preprocessing&#x27;,\n",
       "                                  ColumnTransformer(remainder=&#x27;passthrough&#x27;,\n",
       "                                                    transformers=[(&#x27;ohe&#x27;,\n",
       "                                                                   OneHotEncoder(sparse_output=False),\n",
       "                                                                   Index([&#x27;education&#x27;, &#x27;educational-num&#x27;, &#x27;marital-status&#x27;, &#x27;occupation&#x27;,\n",
       "       &#x27;relationship&#x27;, &#x27;race&#x27;, &#x27;gender&#x27;, &#x27;native-country&#x27;],\n",
       "      dtype=&#x27;object&#x27;)),\n",
       "                                                                  (&#x27;ordinal&#x27;,\n",
       "                                                                   OrdinalEncoder(),\n",
       "                                                                   [&#x27;workclass&#x27;])])),\n",
       "                                 (&#x27;s...\n",
       "       6.54358602e+03, 6.66536327e+03, 6.78940681e+03, 6.91575883e+03,\n",
       "       7.04446228e+03, 7.17556092e+03, 7.30909933e+03, 7.44512291e+03,\n",
       "       7.58367791e+03, 7.72481145e+03, 7.86857151e+03, 8.01500696e+03,\n",
       "       8.16416760e+03, 8.31610415e+03, 8.47086827e+03, 8.62851257e+03,\n",
       "       8.78909065e+03, 8.95265713e+03, 9.11926760e+03, 9.28897872e+03,\n",
       "       9.46184819e+03, 9.63793480e+03, 9.81729841e+03, 1.00000000e+04])}))])</pre></div></div></div><div class=\"sk-serial\"><div class=\"sk-item\"><div class=\"sk-label-container\"><div class=\"sk-label sk-toggleable\"><input class=\"sk-toggleable__control sk-hidden--visually\" id=\"sk-estimator-id-16\" type=\"checkbox\" ><label for=\"sk-estimator-id-16\" class=\"sk-toggleable__label sk-toggleable__label-arrow\">preprocessing: Pipeline</label><div class=\"sk-toggleable__content\"><pre>Pipeline(steps=[(&#x27;cat_preprocessing&#x27;,\n",
       "                 ColumnTransformer(remainder=&#x27;passthrough&#x27;,\n",
       "                                   transformers=[(&#x27;ohe&#x27;,\n",
       "                                                  OneHotEncoder(sparse_output=False),\n",
       "                                                  Index([&#x27;education&#x27;, &#x27;educational-num&#x27;, &#x27;marital-status&#x27;, &#x27;occupation&#x27;,\n",
       "       &#x27;relationship&#x27;, &#x27;race&#x27;, &#x27;gender&#x27;, &#x27;native-country&#x27;],\n",
       "      dtype=&#x27;object&#x27;)),\n",
       "                                                 (&#x27;ordinal&#x27;, OrdinalEncoder(),\n",
       "                                                  [&#x27;workclass&#x27;])])),\n",
       "                (&#x27;scaler&#x27;, StandardScaler())])</pre></div></div></div><div class=\"sk-serial\"><div class=\"sk-item sk-dashed-wrapped\"><div class=\"sk-label-container\"><div class=\"sk-label sk-toggleable\"><input class=\"sk-toggleable__control sk-hidden--visually\" id=\"sk-estimator-id-17\" type=\"checkbox\" ><label for=\"sk-estimator-id-17\" class=\"sk-toggleable__label sk-toggleable__label-arrow\">cat_preprocessing: ColumnTransformer</label><div class=\"sk-toggleable__content\"><pre>ColumnTransformer(remainder=&#x27;passthrough&#x27;,\n",
       "                  transformers=[(&#x27;ohe&#x27;, OneHotEncoder(sparse_output=False),\n",
       "                                 Index([&#x27;education&#x27;, &#x27;educational-num&#x27;, &#x27;marital-status&#x27;, &#x27;occupation&#x27;,\n",
       "       &#x27;relationship&#x27;, &#x27;race&#x27;, &#x27;gender&#x27;, &#x27;native-country&#x27;],\n",
       "      dtype=&#x27;object&#x27;)),\n",
       "                                (&#x27;ordinal&#x27;, OrdinalEncoder(), [&#x27;workclass&#x27;])])</pre></div></div></div><div class=\"sk-parallel\"><div class=\"sk-parallel-item\"><div class=\"sk-item\"><div class=\"sk-label-container\"><div class=\"sk-label sk-toggleable\"><input class=\"sk-toggleable__control sk-hidden--visually\" id=\"sk-estimator-id-18\" type=\"checkbox\" ><label for=\"sk-estimator-id-18\" class=\"sk-toggleable__label sk-toggleable__label-arrow\">ohe</label><div class=\"sk-toggleable__content\"><pre>Index([&#x27;education&#x27;, &#x27;educational-num&#x27;, &#x27;marital-status&#x27;, &#x27;occupation&#x27;,\n",
       "       &#x27;relationship&#x27;, &#x27;race&#x27;, &#x27;gender&#x27;, &#x27;native-country&#x27;],\n",
       "      dtype=&#x27;object&#x27;)</pre></div></div></div><div class=\"sk-serial\"><div class=\"sk-item\"><div class=\"sk-estimator sk-toggleable\"><input class=\"sk-toggleable__control sk-hidden--visually\" id=\"sk-estimator-id-19\" type=\"checkbox\" ><label for=\"sk-estimator-id-19\" class=\"sk-toggleable__label sk-toggleable__label-arrow\">OneHotEncoder</label><div class=\"sk-toggleable__content\"><pre>OneHotEncoder(sparse_output=False)</pre></div></div></div></div></div></div><div class=\"sk-parallel-item\"><div class=\"sk-item\"><div class=\"sk-label-container\"><div class=\"sk-label sk-toggleable\"><input class=\"sk-toggleable__control sk-hidden--visually\" id=\"sk-estimator-id-20\" type=\"checkbox\" ><label for=\"sk-estimator-id-20\" class=\"sk-toggleable__label sk-toggleable__label-arrow\">ordinal</label><div class=\"sk-toggleable__content\"><pre>[&#x27;workclass&#x27;]</pre></div></div></div><div class=\"sk-serial\"><div class=\"sk-item\"><div class=\"sk-estimator sk-toggleable\"><input class=\"sk-toggleable__control sk-hidden--visually\" id=\"sk-estimator-id-21\" type=\"checkbox\" ><label for=\"sk-estimator-id-21\" class=\"sk-toggleable__label sk-toggleable__label-arrow\">OrdinalEncoder</label><div class=\"sk-toggleable__content\"><pre>OrdinalEncoder()</pre></div></div></div></div></div></div><div class=\"sk-parallel-item\"><div class=\"sk-item\"><div class=\"sk-label-container\"><div class=\"sk-label sk-toggleable\"><input class=\"sk-toggleable__control sk-hidden--visually\" id=\"sk-estimator-id-22\" type=\"checkbox\" ><label for=\"sk-estimator-id-22\" class=\"sk-toggleable__label sk-toggleable__label-arrow\">remainder</label><div class=\"sk-toggleable__content\"><pre>[&#x27;age&#x27;, &#x27;fnlwgt&#x27;, &#x27;capital-gain&#x27;, &#x27;capital-loss&#x27;, &#x27;hours-per-week&#x27;]</pre></div></div></div><div class=\"sk-serial\"><div class=\"sk-item\"><div class=\"sk-estimator sk-toggleable\"><input class=\"sk-toggleable__control sk-hidden--visually\" id=\"sk-estimator-id-23\" type=\"checkbox\" ><label for=\"sk-estimator-id-23\" class=\"sk-toggleable__label sk-toggleable__label-arrow\">passthrough</label><div class=\"sk-toggleable__content\"><pre>passthrough</pre></div></div></div></div></div></div></div></div><div class=\"sk-item\"><div class=\"sk-estimator sk-toggleable\"><input class=\"sk-toggleable__control sk-hidden--visually\" id=\"sk-estimator-id-24\" type=\"checkbox\" ><label for=\"sk-estimator-id-24\" class=\"sk-toggleable__label sk-toggleable__label-arrow\">StandardScaler</label><div class=\"sk-toggleable__content\"><pre>StandardScaler()</pre></div></div></div></div></div><div class=\"sk-item\"><div class=\"sk-estimator sk-toggleable\"><input class=\"sk-toggleable__control sk-hidden--visually\" id=\"sk-estimator-id-25\" type=\"checkbox\" ><label for=\"sk-estimator-id-25\" class=\"sk-toggleable__label sk-toggleable__label-arrow\">SelectKBest</label><div class=\"sk-toggleable__content\"><pre>SelectKBest()</pre></div></div></div><div class=\"sk-item sk-dashed-wrapped\"><div class=\"sk-label-container\"><div class=\"sk-label sk-toggleable\"><input class=\"sk-toggleable__control sk-hidden--visually\" id=\"sk-estimator-id-26\" type=\"checkbox\" ><label for=\"sk-estimator-id-26\" class=\"sk-toggleable__label sk-toggleable__label-arrow\">model: RandomizedSearchCV</label><div class=\"sk-toggleable__content\"><pre>RandomizedSearchCV(estimator=LogisticRegression(solver=&#x27;liblinear&#x27;),\n",
       "                   param_distributions={&#x27;C&#x27;: array([1.00000000e-04, 1.01861017e-04, 1.03756668e-04, 1.05687597e-04,\n",
       "       1.07654461e-04, 1.09657929e-04, 1.11698682e-04, 1.13777413e-04,\n",
       "       1.15894830e-04, 1.18051653e-04, 1.20248614e-04, 1.22486461e-04,\n",
       "       1.24765955e-04, 1.27087871e-04, 1.29452998e-04, 1.31862140e-04,\n",
       "       1.34316117...\n",
       "       6.54358602e+03, 6.66536327e+03, 6.78940681e+03, 6.91575883e+03,\n",
       "       7.04446228e+03, 7.17556092e+03, 7.30909933e+03, 7.44512291e+03,\n",
       "       7.58367791e+03, 7.72481145e+03, 7.86857151e+03, 8.01500696e+03,\n",
       "       8.16416760e+03, 8.31610415e+03, 8.47086827e+03, 8.62851257e+03,\n",
       "       8.78909065e+03, 8.95265713e+03, 9.11926760e+03, 9.28897872e+03,\n",
       "       9.46184819e+03, 9.63793480e+03, 9.81729841e+03, 1.00000000e+04])})</pre></div></div></div><div class=\"sk-parallel\"><div class=\"sk-parallel-item\"><div class=\"sk-item\"><div class=\"sk-label-container\"><div class=\"sk-label sk-toggleable\"><input class=\"sk-toggleable__control sk-hidden--visually\" id=\"sk-estimator-id-27\" type=\"checkbox\" ><label for=\"sk-estimator-id-27\" class=\"sk-toggleable__label sk-toggleable__label-arrow\">estimator: LogisticRegression</label><div class=\"sk-toggleable__content\"><pre>LogisticRegression(solver=&#x27;liblinear&#x27;)</pre></div></div></div><div class=\"sk-serial\"><div class=\"sk-item\"><div class=\"sk-estimator sk-toggleable\"><input class=\"sk-toggleable__control sk-hidden--visually\" id=\"sk-estimator-id-28\" type=\"checkbox\" ><label for=\"sk-estimator-id-28\" class=\"sk-toggleable__label sk-toggleable__label-arrow\">LogisticRegression</label><div class=\"sk-toggleable__content\"><pre>LogisticRegression(solver=&#x27;liblinear&#x27;)</pre></div></div></div></div></div></div></div></div></div></div></div></div>"
      ],
      "text/plain": [
       "Pipeline(steps=[('preprocessing',\n",
       "                 Pipeline(steps=[('cat_preprocessing',\n",
       "                                  ColumnTransformer(remainder='passthrough',\n",
       "                                                    transformers=[('ohe',\n",
       "                                                                   OneHotEncoder(sparse_output=False),\n",
       "                                                                   Index(['education', 'educational-num', 'marital-status', 'occupation',\n",
       "       'relationship', 'race', 'gender', 'native-country'],\n",
       "      dtype='object')),\n",
       "                                                                  ('ordinal',\n",
       "                                                                   OrdinalEncoder(),\n",
       "                                                                   ['workclass'])])),\n",
       "                                 ('s...\n",
       "       6.54358602e+03, 6.66536327e+03, 6.78940681e+03, 6.91575883e+03,\n",
       "       7.04446228e+03, 7.17556092e+03, 7.30909933e+03, 7.44512291e+03,\n",
       "       7.58367791e+03, 7.72481145e+03, 7.86857151e+03, 8.01500696e+03,\n",
       "       8.16416760e+03, 8.31610415e+03, 8.47086827e+03, 8.62851257e+03,\n",
       "       8.78909065e+03, 8.95265713e+03, 9.11926760e+03, 9.28897872e+03,\n",
       "       9.46184819e+03, 9.63793480e+03, 9.81729841e+03, 1.00000000e+04])}))])"
      ]
     },
     "execution_count": 22,
     "metadata": {},
     "output_type": "execute_result"
    }
   ],
   "source": [
    "%%time\n",
    "\n",
    "final.fit(X_train, y_train)"
   ]
  },
  {
   "cell_type": "markdown",
   "id": "e9f790fa-c04b-4fdb-94b2-60600426d833",
   "metadata": {},
   "source": [
    "### **Evaluate the model**"
   ]
  },
  {
   "cell_type": "markdown",
   "id": "b91640dd-8a93-479b-a68b-05ad9c30da93",
   "metadata": {},
   "source": [
    "#### **Evaluate on training**"
   ]
  },
  {
   "cell_type": "code",
   "execution_count": 108,
   "id": "60a80cf4-188e-4c2f-b8b3-c76f5863c3b1",
   "metadata": {},
   "outputs": [],
   "source": [
    "pred = final.predict(X_train)\n",
    "probas = final.predict_proba(X_train)"
   ]
  },
  {
   "cell_type": "code",
   "execution_count": 109,
   "id": "4e35cab6-b087-40bc-9c1a-26ebf008b4b2",
   "metadata": {},
   "outputs": [],
   "source": [
    "precision_test = precision_score(y_train, pred, pos_label=\">50K\")\n",
    "recall_test = recall_score(y_train, pred, pos_label=\">50K\")\n",
    "f1_test = f1_score(y_train, pred, pos_label=\">50K\")\n",
    "roc_auc_test = roc_auc_score(y_train, probas[:,1])"
   ]
  },
  {
   "cell_type": "code",
   "execution_count": 110,
   "id": "3b7a2c12-3675-4830-bb2d-9223b9bb7600",
   "metadata": {},
   "outputs": [
    {
     "name": "stdout",
     "output_type": "stream",
     "text": [
      "Train Precision: 0.685\n",
      "Train Recall: 0.398\n",
      "Train F1: 0.503\n",
      "Train ROC_AUC: 0.86\n"
     ]
    }
   ],
   "source": [
    "print(f\"Train Precision: {round(precision_test,3)}\")\n",
    "print(f\"Train Recall: {round(recall_test,3)}\")\n",
    "print(f\"Train F1: {round(f1_test,3)}\")\n",
    "print(f\"Train ROC_AUC: {round(roc_auc_test,3)}\")"
   ]
  },
  {
   "cell_type": "markdown",
   "id": "4be62a35-431a-40a0-8d14-d546c6df6152",
   "metadata": {},
   "source": [
    "#### **Evaluate on test**"
   ]
  },
  {
   "cell_type": "code",
   "execution_count": 111,
   "id": "9873619c-4014-4be1-aa1f-c644c8494f56",
   "metadata": {},
   "outputs": [],
   "source": [
    "pred = final.predict(X_test)\n",
    "probas = final.predict_proba(X_test)"
   ]
  },
  {
   "cell_type": "code",
   "execution_count": 112,
   "id": "04f216eb-1277-4feb-8a87-0d6bd4047dd5",
   "metadata": {},
   "outputs": [],
   "source": [
    "precision_test = precision_score(y_test, pred, pos_label=\">50K\")\n",
    "recall_test = recall_score(y_test, pred, pos_label=\">50K\")\n",
    "f1_test = f1_score(y_test, pred, pos_label=\">50K\")\n",
    "roc_auc_test = roc_auc_score(y_test, probas[:,1])"
   ]
  },
  {
   "cell_type": "code",
   "execution_count": 113,
   "id": "3c75cb6e-2ab6-4e21-a704-3555b5e0bcfc",
   "metadata": {},
   "outputs": [
    {
     "name": "stdout",
     "output_type": "stream",
     "text": [
      "Test Precision: 0.69\n",
      "Test Recall: 0.398\n",
      "Test F1: 0.505\n",
      "Test ROC_AUC: 0.861\n"
     ]
    }
   ],
   "source": [
    "print(f\"Test Precision: {round(precision_test,3)}\")\n",
    "print(f\"Test Recall: {round(recall_test,3)}\")\n",
    "print(f\"Test F1: {round(f1_test,3)}\")\n",
    "print(f\"Test ROC_AUC: {round(roc_auc_test,3)}\")"
   ]
  },
  {
   "cell_type": "markdown",
   "id": "47fc1736-082d-4d39-bbd2-1d29cf3dcf0f",
   "metadata": {},
   "source": [
    "## Access the elements inside the Pipeline"
   ]
  },
  {
   "cell_type": "code",
   "execution_count": 119,
   "id": "f1d67571-0447-4f1f-9aa7-23a6665535a5",
   "metadata": {},
   "outputs": [
    {
     "data": {
      "text/plain": [
       "{'preprocessing': Pipeline(steps=[('cat_preprocessing',\n",
       "                  ColumnTransformer(remainder='passthrough',\n",
       "                                    transformers=[('ohe',\n",
       "                                                   OneHotEncoder(sparse_output=False),\n",
       "                                                   Index(['education', 'educational-num', 'marital-status', 'occupation',\n",
       "        'relationship', 'race', 'gender', 'native-country'],\n",
       "       dtype='object')),\n",
       "                                                  ('ordinal', OrdinalEncoder(),\n",
       "                                                   ['workclass'])])),\n",
       "                 ('scaler', StandardScaler())]),\n",
       " 'feature_selection': SelectKBest(),\n",
       " 'model': RandomizedSearchCV(estimator=LogisticRegression(solver='liblinear'),\n",
       "                    param_distributions={'C': array([1.00000000e-04, 1.01861017e-04, 1.03756668e-04, 1.05687597e-04,\n",
       "        1.07654461e-04, 1.09657929e-04, 1.11698682e-04, 1.13777413e-04,\n",
       "        1.15894830e-04, 1.18051653e-04, 1.20248614e-04, 1.22486461e-04,\n",
       "        1.24765955e-04, 1.27087871e-04, 1.29452998e-04, 1.31862140e-04,\n",
       "        1.34316117...\n",
       "        6.54358602e+03, 6.66536327e+03, 6.78940681e+03, 6.91575883e+03,\n",
       "        7.04446228e+03, 7.17556092e+03, 7.30909933e+03, 7.44512291e+03,\n",
       "        7.58367791e+03, 7.72481145e+03, 7.86857151e+03, 8.01500696e+03,\n",
       "        8.16416760e+03, 8.31610415e+03, 8.47086827e+03, 8.62851257e+03,\n",
       "        8.78909065e+03, 8.95265713e+03, 9.11926760e+03, 9.28897872e+03,\n",
       "        9.46184819e+03, 9.63793480e+03, 9.81729841e+03, 1.00000000e+04])})}"
      ]
     },
     "execution_count": 119,
     "metadata": {},
     "output_type": "execute_result"
    }
   ],
   "source": [
    "final.named_steps"
   ]
  }
 ],
 "metadata": {
  "kernelspec": {
   "display_name": "base",
   "language": "python",
   "name": "python3"
  },
  "language_info": {
   "codemirror_mode": {
    "name": "ipython",
    "version": 3
   },
   "file_extension": ".py",
   "mimetype": "text/x-python",
   "name": "python",
   "nbconvert_exporter": "python",
   "pygments_lexer": "ipython3",
   "version": "3.11.7"
  }
 },
 "nbformat": 4,
 "nbformat_minor": 5
}
