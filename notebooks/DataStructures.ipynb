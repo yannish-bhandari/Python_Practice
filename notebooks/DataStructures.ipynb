{
 "cells": [
  {
   "cell_type": "markdown",
   "id": "56a177f8-c37f-4cf3-9e62-229e06c15d5c",
   "metadata": {
    "tags": []
   },
   "source": [
    "# Exercise 1\n",
    "\n",
    "Create this list without conditionals, loops, or hardcoding the values. *Hint: use the `range` built-in funtion*\n",
    "\n",
    "```\n",
    "[49, 0, 47, 0, 45, 0, 43, 0, 41, 0, 39, 0, 37, 0, 35, 0, 33, 0, 31, 0, 29, 0, 27, 0, 25, 0, 23, 0, 21, 0, 19, 0, 17, 0, 15, 0, 13, 0, 11, 0, 9, 0, 7, 0, 5, 0, 3, 0, 1, 0]\n",
    "```"
   ]
  },
  {
   "cell_type": "code",
   "execution_count": 48,
   "id": "527c90c7",
   "metadata": {},
   "outputs": [
    {
     "name": "stdout",
     "output_type": "stream",
     "text": [
      "[49, 0, 47, 0, 45, 0, 43, 0, 41, 0, 39, 0, 37, 0, 35, 0, 33, 0, 31, 0, 29, 0, 27, 0, 25, 0, 23, 0, 21, 0, 19, 0, 17, 0, 15, 0, 13, 0, 11, 0, 9, 0, 7, 0, 5, 0, 3, 0, 1, 0]\n"
     ]
    }
   ],
   "source": [
    "List_X = list(range(50))\n",
    "List_X = List_X [::-1]\n",
    "List_X [1::2] = [0] * 25\n",
    "print(List_X)"
   ]
  },
  {
   "cell_type": "markdown",
   "id": "9127fec9-ac65-4fe8-81dd-9ac5d4ff7edf",
   "metadata": {},
   "source": [
    "# Exercise 2\n",
    "Given the following string variables with data:\n",
    "```python\n",
    "names = 'Braund, Mr. Owen Harris;Cumings, Mrs. John Bradley (Florence Briggs Thayer);Heikkinen, Miss. Laina;Futrelle, Mrs. Jacques Heath (Lily May Peel);Allen, Mr. William Henry;Moran, Mr. James;McCarthy, Mr. Timothy J;Palsson, Master. Gosta Leonard;Johnson, Mrs. Oscar W (Elisabeth Vilhelmina Berg);Nasser, Mrs. Nicholas (Adele Achem);Sandstrom, Miss. Marguerite Rut;Bonnell, Miss. Elizabeth;Saundercock, Mr. William Henry;Andersson, Mr. Anders Johan;Vestrom, Miss. Hulda Amanda Adolfina;Hewlett, Mrs. (Mary D Kingcome) ;Rice, Master. Eugene;Williams, Mr. Charles Eugene;Vander Planke, Mrs. Julius (Emelia Maria Vandemoortele);Masselmani, Mrs. Fatima'\n",
    "sex = 'male;female;female;female;male;male;male;male;female;female;female;female;male;male;female;female;male;male;female;female'\n",
    "ticket = 'A/5 21171;PC 17599;STON/O2. 3101282;113803;373450;330877;17463;349909;347742;237736;PP 9549;113783;A/5. 2151;347082;350406;248706;382652;244373;345763;2649'\n",
    "```\n",
    "\n",
    "Create a new data structure with the following format\n",
    "```python\n",
    "[('id', 'name', 'sex', 'ticket'),\n",
    " (0, 'Braund, Mr. Owen Harris', 'male', 'A/5 21171'),\n",
    " (1, 'Cumings, Mrs. John Bradley (Florence Briggs Thayer)', 'female', 'PC 17599'),\n",
    " (2, 'Heikkinen, Miss. Laina', 'female', 'STON/O2. 3101282'),\n",
    " (3, 'Futrelle, Mrs. Jacques Heath (Lily May Peel)', 'female', '113803'),\n",
    " (4, 'Allen, Mr. William Henry', 'male', '373450'),\n",
    " (5, 'Moran, Mr. James', 'male', '330877'),\n",
    " (6, 'McCarthy, Mr. Timothy J', 'male', '17463'),\n",
    " (7, 'Palsson, Master. Gosta Leonard', 'male', '349909'),\n",
    " (8, 'Johnson, Mrs. Oscar W (Elisabeth Vilhelmina Berg)', 'female', '347742'),\n",
    " (9, 'Nasser, Mrs. Nicholas (Adele Achem)', 'female', '237736'),\n",
    " (10, 'Sandstrom, Miss. Marguerite Rut', 'female', 'PP 9549'),\n",
    " (11, 'Bonnell, Miss. Elizabeth', 'female', '113783'),\n",
    " (12, 'Saundercock, Mr. William Henry', 'male', 'A/5. 2151'),\n",
    " (13, 'Andersson, Mr. Anders Johan', 'male', '347082'),\n",
    " (14, 'Vestrom, Miss. Hulda Amanda Adolfina', 'female', '350406'),\n",
    " (15, 'Hewlett, Mrs. (Mary D Kingcome) ', 'female', '248706'),\n",
    " (16, 'Rice, Master. Eugene', 'male', '382652'),\n",
    " (17, 'Williams, Mr. Charles Eugene', 'male', '244373'),\n",
    " (18, 'Vander Planke, Mrs. Julius (Emelia Maria Vandemoortele)', 'female', '345763'),\n",
    " (19, 'Masselmani, Mrs. Fatima', 'female', '2649')]\n",
    "```"
   ]
  },
  {
   "cell_type": "code",
   "execution_count": 64,
   "id": "24767118",
   "metadata": {},
   "outputs": [],
   "source": [
    "names = 'Braund, Mr. Owen Harris;Cumings, Mrs. John Bradley (Florence Briggs Thayer);Heikkinen, Miss. Laina;Futrelle, Mrs. Jacques Heath (Lily May Peel);Allen, Mr. William Henry;Moran, Mr. James;McCarthy, Mr. Timothy J;Palsson, Master. Gosta Leonard;Johnson, Mrs. Oscar W (Elisabeth Vilhelmina Berg);Nasser, Mrs. Nicholas (Adele Achem);Sandstrom, Miss. Marguerite Rut;Bonnell, Miss. Elizabeth;Saundercock, Mr. William Henry;Andersson, Mr. Anders Johan;Vestrom, Miss. Hulda Amanda Adolfina;Hewlett, Mrs. (Mary D Kingcome) ;Rice, Master. Eugene;Williams, Mr. Charles Eugene;Vander Planke, Mrs. Julius (Emelia Maria Vandemoortele);Masselmani, Mrs. Fatima'\n",
    "sex = 'male;female;female;female;male;male;male;male;female;female;female;female;male;male;female;female;male;male;female;female'\n",
    "ticket = 'A/5 21171;PC 17599;STON/O2. 3101282;113803;373450;330877;17463;349909;347742;237736;PP 9549;113783;A/5. 2151;347082;350406;248706;382652;244373;345763;2649'"
   ]
  },
  {
   "cell_type": "code",
   "execution_count": 65,
   "id": "b8ef3030",
   "metadata": {},
   "outputs": [],
   "source": [
    "split_names = names.split(\";\")\n",
    "split_sex = sex.split(\";\")\n",
    "split_ticket = ticket.split(\";\")"
   ]
  },
  {
   "cell_type": "code",
   "execution_count": 66,
   "id": "e77b7714",
   "metadata": {},
   "outputs": [
    {
     "data": {
      "text/plain": [
       "[0, 1, 2, 3, 4, 5, 6, 7, 8, 9, 10, 11, 12, 13, 14, 15, 16, 17, 18, 19]"
      ]
     },
     "execution_count": 66,
     "metadata": {},
     "output_type": "execute_result"
    }
   ],
   "source": [
    "index = list(range(len(split_names)))\n",
    "index"
   ]
  },
  {
   "cell_type": "code",
   "execution_count": 72,
   "id": "ea4e06a4",
   "metadata": {},
   "outputs": [
    {
     "data": {
      "text/plain": [
       "[('ID', 'Name', 'Sex', 'Ticket'),\n",
       " (0, 'Braund, Mr. Owen Harris', 'male', 'A/5 21171'),\n",
       " (1,\n",
       "  'Cumings, Mrs. John Bradley (Florence Briggs Thayer)',\n",
       "  'female',\n",
       "  'PC 17599'),\n",
       " (2, 'Heikkinen, Miss. Laina', 'female', 'STON/O2. 3101282'),\n",
       " (3, 'Futrelle, Mrs. Jacques Heath (Lily May Peel)', 'female', '113803'),\n",
       " (4, 'Allen, Mr. William Henry', 'male', '373450'),\n",
       " (5, 'Moran, Mr. James', 'male', '330877'),\n",
       " (6, 'McCarthy, Mr. Timothy J', 'male', '17463'),\n",
       " (7, 'Palsson, Master. Gosta Leonard', 'male', '349909'),\n",
       " (8, 'Johnson, Mrs. Oscar W (Elisabeth Vilhelmina Berg)', 'female', '347742'),\n",
       " (9, 'Nasser, Mrs. Nicholas (Adele Achem)', 'female', '237736'),\n",
       " (10, 'Sandstrom, Miss. Marguerite Rut', 'female', 'PP 9549'),\n",
       " (11, 'Bonnell, Miss. Elizabeth', 'female', '113783'),\n",
       " (12, 'Saundercock, Mr. William Henry', 'male', 'A/5. 2151'),\n",
       " (13, 'Andersson, Mr. Anders Johan', 'male', '347082'),\n",
       " (14, 'Vestrom, Miss. Hulda Amanda Adolfina', 'female', '350406'),\n",
       " (15, 'Hewlett, Mrs. (Mary D Kingcome) ', 'female', '248706'),\n",
       " (16, 'Rice, Master. Eugene', 'male', '382652'),\n",
       " (17, 'Williams, Mr. Charles Eugene', 'male', '244373'),\n",
       " (18,\n",
       "  'Vander Planke, Mrs. Julius (Emelia Maria Vandemoortele)',\n",
       "  'female',\n",
       "  '345763'),\n",
       " (19, 'Masselmani, Mrs. Fatima', 'female', '2649')]"
      ]
     },
     "execution_count": 72,
     "metadata": {},
     "output_type": "execute_result"
    }
   ],
   "source": [
    "data = list(zip(index, split_names, split_sex, split_ticket))\n",
    "data.insert(0, (\"ID\", \"Name\", \"Sex\", \"Ticket\"))\n",
    "data"
   ]
  },
  {
   "cell_type": "markdown",
   "id": "e445b5b5-a648-4408-aaab-5108a69c77f3",
   "metadata": {},
   "source": [
    "# Exercise 3"
   ]
  },
  {
   "cell_type": "markdown",
   "id": "1e4002ca-74db-4e17-87c3-8ba67bf1b734",
   "metadata": {},
   "source": [
    "Given this two collections of elements A and B\n",
    "\n",
    "```python\n",
    "A = [10, 20, 30, 40, 50, 60]\n",
    "B = [40, 50, 60, 70, 80, 90]\n",
    "```\n",
    "\n",
    " - Get the elements in both A and B\n",
    " - Get the elements in A, but not in B\n",
    " - Get the elements A or B, but not in both"
   ]
  },
  {
   "cell_type": "code",
   "execution_count": 1,
   "id": "729f23d2",
   "metadata": {},
   "outputs": [
    {
     "name": "stdout",
     "output_type": "stream",
     "text": [
      "{40, 50, 60}\n",
      "{10, 20, 30}\n",
      "{70, 10, 80, 20, 90, 30}\n"
     ]
    }
   ],
   "source": [
    "A = {10, 20, 30, 40, 50, 60}\n",
    "B = {40, 50, 60, 70, 80, 90}\n",
    "\n",
    "S_1 = A & B \n",
    "print (S_1)\n",
    "\n",
    "S_2 = A - B\n",
    "print (S_2)\n",
    "\n",
    "S_3 = A | B \n",
    "S_4 = S_3 - S_1 \n",
    "print (S_4)\n",
    "\n",
    "\n"
   ]
  }
 ],
 "metadata": {
  "kernelspec": {
   "display_name": "Python 3 (ipykernel)",
   "language": "python",
   "name": "python3"
  },
  "language_info": {
   "codemirror_mode": {
    "name": "ipython",
    "version": 3
   },
   "file_extension": ".py",
   "mimetype": "text/x-python",
   "name": "python",
   "nbconvert_exporter": "python",
   "pygments_lexer": "ipython3",
   "version": "3.11.7"
  },
  "toc-autonumbering": false,
  "toc-showmarkdowntxt": false
 },
 "nbformat": 4,
 "nbformat_minor": 5
}
