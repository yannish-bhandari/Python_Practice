{
 "cells": [
  {
   "cell_type": "markdown",
   "id": "9506ec7a-5227-4c22-9c4d-2a31757c91bf",
   "metadata": {},
   "source": [
    "# Exercise 1: Exploratory Analysis over the `Adults` dataset\n",
    "\n",
    "We're going to have our first contact with exploratory data analysis in Pandas. For this exercise, load the `adult.csv` dataset and anser the questions. The Adult dataset is a very well-known study about the income level of individuals given demographical variables.\n",
    "\n",
    "Questions:\n",
    "\n",
    "1. Execute `df.head()` function to see the content of data\n",
    "1. How many people older than 50 have partipated in this study?\n",
    "1. How many `Male` and `Female` individuals have participated in this study? And the proportion?\n",
    "1. What's the proportion of `Male` and `Female` that earn an income of ` >50K`? Is there disparity in terms of income between men and women?\n",
    "1. What's the average age per ocuppation? What's the occupation with younger workers?\n",
    "1. Calculate the distribution of the marital status given people with income `>50K`. What's the most common marital status among them?\n",
    "\n",
    "_NOTE: Use `groupby` aggregations wheneven possible_"
   ]
  },
  {
   "cell_type": "code",
   "execution_count": 1,
   "id": "b505dbe5-9c32-4f84-ba7c-f302e5aebf01",
   "metadata": {},
   "outputs": [],
   "source": [
    "import pandas as pd"
   ]
  },
  {
   "cell_type": "code",
   "execution_count": 2,
   "id": "08d2fcc3-b8f0-4764-b2ac-eb288d8ee3f4",
   "metadata": {},
   "outputs": [],
   "source": [
    "data = pd.read_csv(\"data/adult.csv\")"
   ]
  },
  {
   "cell_type": "markdown",
   "id": "4968230d-c3a6-44fd-bf58-d78fab4c6c52",
   "metadata": {},
   "source": [
    "#### Execute df.head() function to see the content of data"
   ]
  },
  {
   "cell_type": "code",
   "execution_count": 4,
   "id": "1620a733-8f52-48e8-a54b-a847c582521b",
   "metadata": {},
   "outputs": [
    {
     "data": {
      "text/html": [
       "<div>\n",
       "<style scoped>\n",
       "    .dataframe tbody tr th:only-of-type {\n",
       "        vertical-align: middle;\n",
       "    }\n",
       "\n",
       "    .dataframe tbody tr th {\n",
       "        vertical-align: top;\n",
       "    }\n",
       "\n",
       "    .dataframe thead th {\n",
       "        text-align: right;\n",
       "    }\n",
       "</style>\n",
       "<table border=\"1\" class=\"dataframe\">\n",
       "  <thead>\n",
       "    <tr style=\"text-align: right;\">\n",
       "      <th></th>\n",
       "      <th>age</th>\n",
       "      <th>workclass</th>\n",
       "      <th>education</th>\n",
       "      <th>marital-status</th>\n",
       "      <th>occupation</th>\n",
       "      <th>sex</th>\n",
       "      <th>hours-per-week</th>\n",
       "      <th>native-country</th>\n",
       "      <th>income</th>\n",
       "    </tr>\n",
       "  </thead>\n",
       "  <tbody>\n",
       "    <tr>\n",
       "      <th>0</th>\n",
       "      <td>39</td>\n",
       "      <td>State-gov</td>\n",
       "      <td>Bachelors</td>\n",
       "      <td>Never-married</td>\n",
       "      <td>Adm-clerical</td>\n",
       "      <td>Male</td>\n",
       "      <td>40</td>\n",
       "      <td>United-States</td>\n",
       "      <td>&lt;=50K</td>\n",
       "    </tr>\n",
       "    <tr>\n",
       "      <th>1</th>\n",
       "      <td>50</td>\n",
       "      <td>Self-emp-not-inc</td>\n",
       "      <td>Bachelors</td>\n",
       "      <td>Married-civ-spouse</td>\n",
       "      <td>Exec-managerial</td>\n",
       "      <td>Male</td>\n",
       "      <td>13</td>\n",
       "      <td>United-States</td>\n",
       "      <td>&lt;=50K</td>\n",
       "    </tr>\n",
       "    <tr>\n",
       "      <th>2</th>\n",
       "      <td>38</td>\n",
       "      <td>Private</td>\n",
       "      <td>HS-grad</td>\n",
       "      <td>Divorced</td>\n",
       "      <td>Handlers-cleaners</td>\n",
       "      <td>Male</td>\n",
       "      <td>40</td>\n",
       "      <td>United-States</td>\n",
       "      <td>&lt;=50K</td>\n",
       "    </tr>\n",
       "    <tr>\n",
       "      <th>3</th>\n",
       "      <td>53</td>\n",
       "      <td>Private</td>\n",
       "      <td>11th</td>\n",
       "      <td>Married-civ-spouse</td>\n",
       "      <td>Handlers-cleaners</td>\n",
       "      <td>Male</td>\n",
       "      <td>40</td>\n",
       "      <td>United-States</td>\n",
       "      <td>&lt;=50K</td>\n",
       "    </tr>\n",
       "    <tr>\n",
       "      <th>4</th>\n",
       "      <td>28</td>\n",
       "      <td>Private</td>\n",
       "      <td>Bachelors</td>\n",
       "      <td>Married-civ-spouse</td>\n",
       "      <td>Prof-specialty</td>\n",
       "      <td>Female</td>\n",
       "      <td>40</td>\n",
       "      <td>Cuba</td>\n",
       "      <td>&lt;=50K</td>\n",
       "    </tr>\n",
       "  </tbody>\n",
       "</table>\n",
       "</div>"
      ],
      "text/plain": [
       "   age          workclass   education       marital-status  \\\n",
       "0   39          State-gov   Bachelors        Never-married   \n",
       "1   50   Self-emp-not-inc   Bachelors   Married-civ-spouse   \n",
       "2   38            Private     HS-grad             Divorced   \n",
       "3   53            Private        11th   Married-civ-spouse   \n",
       "4   28            Private   Bachelors   Married-civ-spouse   \n",
       "\n",
       "           occupation      sex  hours-per-week  native-country  income  \n",
       "0        Adm-clerical     Male              40   United-States   <=50K  \n",
       "1     Exec-managerial     Male              13   United-States   <=50K  \n",
       "2   Handlers-cleaners     Male              40   United-States   <=50K  \n",
       "3   Handlers-cleaners     Male              40   United-States   <=50K  \n",
       "4      Prof-specialty   Female              40            Cuba   <=50K  "
      ]
     },
     "execution_count": 4,
     "metadata": {},
     "output_type": "execute_result"
    }
   ],
   "source": [
    "data.head()"
   ]
  },
  {
   "cell_type": "markdown",
   "id": "d7527e4d-f9fb-4d3b-ad19-3eb962797c63",
   "metadata": {},
   "source": [
    "#### How many people older than 50 have partipated in this study?"
   ]
  },
  {
   "cell_type": "code",
   "execution_count": 13,
   "id": "671278a3-9ab6-4090-984f-db8be7b056db",
   "metadata": {},
   "outputs": [
    {
     "data": {
      "text/plain": [
       "32561"
      ]
     },
     "execution_count": 13,
     "metadata": {},
     "output_type": "execute_result"
    }
   ],
   "source": [
    "len(data)"
   ]
  },
  {
   "cell_type": "code",
   "execution_count": 12,
   "id": "93d14326-49d5-43c6-8186-e7ace5934195",
   "metadata": {},
   "outputs": [
    {
     "data": {
      "text/plain": [
       "6460"
      ]
     },
     "execution_count": 12,
     "metadata": {},
     "output_type": "execute_result"
    }
   ],
   "source": [
    "len(data[data[\"age\"]>50])"
   ]
  },
  {
   "cell_type": "markdown",
   "id": "560889ff-90c1-4e0c-ac2a-7feee3152a94",
   "metadata": {},
   "source": [
    "#### How many Male and Female individuals have participated in this study? And the proportion?"
   ]
  },
  {
   "cell_type": "code",
   "execution_count": 15,
   "id": "2c72078f-22fb-4db4-8b2b-0c024be4d78f",
   "metadata": {},
   "outputs": [
    {
     "data": {
      "text/plain": [
       "sex\n",
       " Female    10771\n",
       " Male      21790\n",
       "dtype: int64"
      ]
     },
     "execution_count": 15,
     "metadata": {},
     "output_type": "execute_result"
    }
   ],
   "source": [
    "# absolute value - option 1\n",
    "data.groupby(\"sex\").size()"
   ]
  },
  {
   "cell_type": "code",
   "execution_count": 17,
   "id": "e4e5bd00-7069-4fc0-afdc-e385f8b91e26",
   "metadata": {},
   "outputs": [
    {
     "data": {
      "text/plain": [
       "sex\n",
       " Female    0.330795\n",
       " Male      0.669205\n",
       "dtype: float64"
      ]
     },
     "execution_count": 17,
     "metadata": {},
     "output_type": "execute_result"
    }
   ],
   "source": [
    "# proportion - option 1\n",
    "data.groupby(\"sex\").size() / len(data)"
   ]
  },
  {
   "cell_type": "code",
   "execution_count": 19,
   "id": "9c075aa7-8f8d-4e00-963b-664c1b4f4a22",
   "metadata": {},
   "outputs": [
    {
     "data": {
      "text/plain": [
       " Male      21790\n",
       " Female    10771\n",
       "Name: sex, dtype: int64"
      ]
     },
     "execution_count": 19,
     "metadata": {},
     "output_type": "execute_result"
    }
   ],
   "source": [
    "# absolute value - option 2\n",
    "data.sex.value_counts()"
   ]
  },
  {
   "cell_type": "code",
   "execution_count": 20,
   "id": "7d74869f-ea7c-45fd-9119-514f57603ad2",
   "metadata": {},
   "outputs": [
    {
     "data": {
      "text/plain": [
       " Male      0.669205\n",
       " Female    0.330795\n",
       "Name: sex, dtype: float64"
      ]
     },
     "execution_count": 20,
     "metadata": {},
     "output_type": "execute_result"
    }
   ],
   "source": [
    "# proportion - option 2\n",
    "data.sex.value_counts(normalize=True)"
   ]
  },
  {
   "cell_type": "markdown",
   "id": "013ed4a7-c0a3-45a6-a5ee-007285cbe3ce",
   "metadata": {},
   "source": [
    "#### What's the proportion of Male and Female that earn an income of  >50K? Is there disparity in terms of income between men and women?"
   ]
  },
  {
   "cell_type": "code",
   "execution_count": 27,
   "id": "6ba0870a-dd81-471d-8229-6adb9fe5db3e",
   "metadata": {},
   "outputs": [
    {
     "data": {
      "text/plain": [
       "' <=50K'"
      ]
     },
     "execution_count": 27,
     "metadata": {},
     "output_type": "execute_result"
    }
   ],
   "source": [
    "data.income[0]"
   ]
  },
  {
   "cell_type": "code",
   "execution_count": 28,
   "id": "c28fce95-78c7-4143-aa17-63d84565cc44",
   "metadata": {},
   "outputs": [],
   "source": [
    "aux = data[data[\"income\"]==\" >50K\"]"
   ]
  },
  {
   "cell_type": "code",
   "execution_count": 30,
   "id": "04af8986-a831-4a2b-aeb4-8e9e4d59eb89",
   "metadata": {},
   "outputs": [
    {
     "data": {
      "text/plain": [
       " Male      0.849637\n",
       " Female    0.150363\n",
       "Name: sex, dtype: float64"
      ]
     },
     "execution_count": 30,
     "metadata": {},
     "output_type": "execute_result"
    }
   ],
   "source": [
    "aux.sex.value_counts(normalize=True)"
   ]
  },
  {
   "cell_type": "code",
   "execution_count": 32,
   "id": "afbc6e38-c99f-4545-b29f-c07b497d3ceb",
   "metadata": {},
   "outputs": [
    {
     "data": {
      "text/plain": [
       " Male      0.849637\n",
       " Female    0.150363\n",
       "Name: sex, dtype: float64"
      ]
     },
     "execution_count": 32,
     "metadata": {},
     "output_type": "execute_result"
    }
   ],
   "source": [
    "data[data[\"income\"]==\" >50K\"].sex.value_counts(normalize=True)"
   ]
  },
  {
   "cell_type": "markdown",
   "id": "726bd80f-8fd8-4cc4-b9b0-32750065d445",
   "metadata": {},
   "source": [
    "#### What's the average age per ocuppation? What's the occupation with younger workers?"
   ]
  },
  {
   "cell_type": "code",
   "execution_count": 50,
   "id": "2df968a6-20ce-457c-8272-19b5789b6092",
   "metadata": {},
   "outputs": [],
   "source": [
    "aux = data.groupby(\"occupation\")[\"age\"].mean()"
   ]
  },
  {
   "cell_type": "code",
   "execution_count": 51,
   "id": "d5bf0d88-e523-49ca-887e-f1f30897b8eb",
   "metadata": {},
   "outputs": [
    {
     "data": {
      "text/plain": [
       "occupation\n",
       " ?                    40.882800\n",
       " Adm-clerical         36.964456\n",
       " Armed-Forces         30.222222\n",
       " Craft-repair         39.031471\n",
       " Exec-managerial      42.169208\n",
       " Farming-fishing      41.211268\n",
       " Handlers-cleaners    32.165693\n",
       " Machine-op-inspct    37.715285\n",
       " Other-service        34.949621\n",
       " Priv-house-serv      41.724832\n",
       " Prof-specialty       40.517633\n",
       " Protective-serv      38.953775\n",
       " Sales                37.353973\n",
       " Tech-support         37.022629\n",
       " Transport-moving     40.197871\n",
       "Name: age, dtype: float64"
      ]
     },
     "execution_count": 51,
     "metadata": {},
     "output_type": "execute_result"
    }
   ],
   "source": [
    "aux"
   ]
  },
  {
   "cell_type": "code",
   "execution_count": 54,
   "id": "d7efb935-9073-4b03-924f-8df7e338f296",
   "metadata": {},
   "outputs": [
    {
     "data": {
      "text/plain": [
       "occupation\n",
       " Armed-Forces    30.222222\n",
       "Name: age, dtype: float64"
      ]
     },
     "execution_count": 54,
     "metadata": {},
     "output_type": "execute_result"
    }
   ],
   "source": [
    "# What's the occupation with younger workers (op 1)\n",
    "aux[aux==aux.min()]"
   ]
  },
  {
   "cell_type": "code",
   "execution_count": 56,
   "id": "75888704-282f-471f-8898-f32bf7bcd9cc",
   "metadata": {},
   "outputs": [],
   "source": [
    "# What's the occupation with younger workers (op 2)\n",
    "aux = aux.sort_values()"
   ]
  },
  {
   "cell_type": "code",
   "execution_count": 57,
   "id": "c49594b0-6816-4a6e-a698-9455e79f42dd",
   "metadata": {},
   "outputs": [
    {
     "data": {
      "text/plain": [
       "30.22222222222222"
      ]
     },
     "execution_count": 57,
     "metadata": {},
     "output_type": "execute_result"
    }
   ],
   "source": [
    "aux.iloc[0]"
   ]
  },
  {
   "cell_type": "markdown",
   "id": "149a3d20-d122-44ab-b449-206acb8cfbe1",
   "metadata": {},
   "source": [
    "#### Calculate the distribution of the marital status given people with income `>50K`. What's the most common marital status among them?"
   ]
  },
  {
   "cell_type": "code",
   "execution_count": 59,
   "id": "0ca0e975-dc79-4318-9e1f-0bcff17bbecd",
   "metadata": {},
   "outputs": [
    {
     "data": {
      "text/plain": [
       " Married-civ-spouse       0.853463\n",
       " Never-married            0.062620\n",
       " Divorced                 0.059049\n",
       " Widowed                  0.010840\n",
       " Separated                0.008417\n",
       " Married-spouse-absent    0.004336\n",
       " Married-AF-spouse        0.001275\n",
       "Name: marital-status, dtype: float64"
      ]
     },
     "execution_count": 59,
     "metadata": {},
     "output_type": "execute_result"
    }
   ],
   "source": [
    "# let's calculate the conditional distribution\n",
    "data[data[\"income\"]==\" >50K\"][\"marital-status\"].value_counts(normalize=True)"
   ]
  }
 ],
 "metadata": {
  "kernelspec": {
   "display_name": "Python 3 (ipykernel)",
   "language": "python",
   "name": "python3"
  },
  "language_info": {
   "codemirror_mode": {
    "name": "ipython",
    "version": 3
   },
   "file_extension": ".py",
   "mimetype": "text/x-python",
   "name": "python",
   "nbconvert_exporter": "python",
   "pygments_lexer": "ipython3",
   "version": "3.10.11"
  },
  "toc-autonumbering": false,
  "toc-showmarkdowntxt": false
 },
 "nbformat": 4,
 "nbformat_minor": 5
}
