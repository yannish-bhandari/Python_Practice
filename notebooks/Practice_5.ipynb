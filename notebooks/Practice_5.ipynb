{
 "cells": [
  {
   "cell_type": "markdown",
   "id": "69b6ff9e-c093-42f3-93fc-292a2882f035",
   "metadata": {},
   "source": [
    "# ***Exercise 1***\n",
    "\n",
    "Write a program that uses a loop to sum all numbers from 1 to 10 and prints the result."
   ]
  },
  {
   "cell_type": "code",
   "execution_count": 2,
   "id": "26822e7d",
   "metadata": {},
   "outputs": [
    {
     "name": "stdout",
     "output_type": "stream",
     "text": [
      "55\n"
     ]
    }
   ],
   "source": [
    "sum = 0\n",
    "for i in range(1, 11):\n",
    "    sum += i\n",
    "print(sum)"
   ]
  },
  {
   "cell_type": "markdown",
   "id": "f7fe15b8-42b4-4bcb-bd71-97fa04ad6cd5",
   "metadata": {},
   "source": [
    "# ***Exercise 2***\n",
    "\n",
    "Use a loop to generate a list of the squares of numbers from 1 to 10 (i.e., 1, 4, 9, ..., 100)."
   ]
  },
  {
   "cell_type": "code",
   "execution_count": 3,
   "id": "263b6fe2",
   "metadata": {},
   "outputs": [
    {
     "name": "stdout",
     "output_type": "stream",
     "text": [
      "[1, 4, 9, 16, 25, 36, 49, 64, 81, 100]\n"
     ]
    }
   ],
   "source": [
    "squares = []\n",
    "for n in range(1, 11):\n",
    "    squares.append(n ** 2)\n",
    "print(squares)"
   ]
  },
  {
   "cell_type": "markdown",
   "id": "d4ef8b1c-9d06-46ab-9d38-ef4a096ee319",
   "metadata": {},
   "source": [
    "# ***Exercise 3***\n",
    "\n",
    "Write a program that counts down from 20 to 1, printing each number using a loop."
   ]
  },
  {
   "cell_type": "code",
   "execution_count": 4,
   "id": "0741b407",
   "metadata": {},
   "outputs": [
    {
     "name": "stdout",
     "output_type": "stream",
     "text": [
      "20\n",
      "19\n",
      "18\n",
      "17\n",
      "16\n",
      "15\n",
      "14\n",
      "13\n",
      "12\n",
      "11\n",
      "10\n",
      "9\n",
      "8\n",
      "7\n",
      "6\n",
      "5\n",
      "4\n",
      "3\n",
      "2\n",
      "1\n"
     ]
    }
   ],
   "source": [
    "for i in range(20, 0, -1):\n",
    "    print(i)"
   ]
  },
  {
   "cell_type": "markdown",
   "id": "e8c4216a-197a-414c-a742-e17555256712",
   "metadata": {},
   "source": [
    "# ***Exercise 4***\n",
    "\n",
    "Create a program that calculates the factorial of a number (n!) using a loop. Test it with n = 5."
   ]
  },
  {
   "cell_type": "code",
   "execution_count": 5,
   "id": "7d3fce20",
   "metadata": {},
   "outputs": [
    {
     "name": "stdout",
     "output_type": "stream",
     "text": [
      "120\n"
     ]
    }
   ],
   "source": [
    "n = 5\n",
    "factorial = 1\n",
    "for i in range(1, n + 1):\n",
    "    factorial *= i\n",
    "print(factorial)\n"
   ]
  },
  {
   "cell_type": "markdown",
   "id": "d6524cb6-69ce-4320-95e2-c68daf43e8af",
   "metadata": {},
   "source": [
    "# ***Exercise 5***\n",
    "\n",
    "Use a loop to print all odd numbers from 1 to 20.\n"
   ]
  },
  {
   "cell_type": "code",
   "execution_count": 6,
   "id": "024f8e98",
   "metadata": {},
   "outputs": [
    {
     "name": "stdout",
     "output_type": "stream",
     "text": [
      "1\n",
      "3\n",
      "5\n",
      "7\n",
      "9\n",
      "11\n",
      "13\n",
      "15\n",
      "17\n",
      "19\n"
     ]
    }
   ],
   "source": [
    "for i in range(1, 21, 2):\n",
    "    print(i)\n"
   ]
  },
  {
   "cell_type": "markdown",
   "id": "f3a28ddd",
   "metadata": {},
   "source": [
    "# ***Exercise 6***\n",
    "\n",
    "Write a program that prints the multiplication table (up to 10) of a given number using a loop."
   ]
  },
  {
   "cell_type": "code",
   "execution_count": 7,
   "id": "cf38d850",
   "metadata": {},
   "outputs": [
    {
     "name": "stdout",
     "output_type": "stream",
     "text": [
      "8 x 1 = 8\n",
      "8 x 2 = 16\n",
      "8 x 3 = 24\n",
      "8 x 4 = 32\n",
      "8 x 5 = 40\n",
      "8 x 6 = 48\n",
      "8 x 7 = 56\n",
      "8 x 8 = 64\n",
      "8 x 9 = 72\n",
      "8 x 10 = 80\n"
     ]
    }
   ],
   "source": [
    "num = 8\n",
    "for i in range(1, 11):\n",
    "    print(f\"{num} x {i} = {num * i}\")\n"
   ]
  },
  {
   "cell_type": "markdown",
   "id": "12d4eb67",
   "metadata": {},
   "source": [
    "# ***Exercise 7***\n",
    "\n",
    "Given a list of elements (e.g., [1, 2, 3, 1, 2, 3, 4, 5]), use a loop to count how many times each element appears."
   ]
  },
  {
   "cell_type": "code",
   "execution_count": 8,
   "id": "7fecc007",
   "metadata": {},
   "outputs": [
    {
     "name": "stdout",
     "output_type": "stream",
     "text": [
      "The number 1 appears 2 times\n",
      "The number 2 appears 2 times\n",
      "The number 3 appears 2 times\n",
      "The number 4 appears 1 times\n",
      "The number 5 appears 1 times\n"
     ]
    }
   ],
   "source": [
    "elements = [1, 2, 3, 1, 2, 3, 4, 5]\n",
    "for element in set(elements):\n",
    "    print(f\"The number {element} appears {elements.count(element)} times\")\n",
    "    \n"
   ]
  },
  {
   "cell_type": "markdown",
   "id": "46d32054",
   "metadata": {},
   "source": [
    "# ***Exercise 8***\n",
    "\n",
    "Use nested loops to print a number pattern. For example, for n=5, the output should be:\n",
    "```\n",
    "1\n",
    "12\n",
    "123\n",
    "1234\n",
    "12345\n",
    "```"
   ]
  },
  {
   "cell_type": "code",
   "execution_count": 9,
   "id": "b6207efe",
   "metadata": {},
   "outputs": [
    {
     "name": "stdout",
     "output_type": "stream",
     "text": [
      "1\n",
      "12\n",
      "123\n",
      "1234\n",
      "12345\n"
     ]
    }
   ],
   "source": [
    "n = 5\n",
    "for i in range(1, n + 1):\n",
    "    for j in range(1, i + 1):\n",
    "        print(j, end=\"\")\n",
    "    print()\n"
   ]
  },
  {
   "cell_type": "markdown",
   "id": "58d84651",
   "metadata": {},
   "source": [
    "# ***Exercise 9***\n",
    "\n",
    "Write a program that checks whether a number is prime or not using a loop. Test it with the number 29.\n",
    "\n",
    "***Note:*** A prime number is a natural number greater than 1 that is not a product of two smaller natural numbers."
   ]
  },
  {
   "cell_type": "code",
   "execution_count": 10,
   "id": "f3ea5644",
   "metadata": {},
   "outputs": [
    {
     "name": "stdout",
     "output_type": "stream",
     "text": [
      "29 is a prime number.\n"
     ]
    }
   ],
   "source": [
    "num = 29\n",
    "is_prime = True\n",
    "if num > 1:\n",
    "    for i in range(2, num):\n",
    "        if (num % i) == 0:\n",
    "            is_prime = False\n",
    "            break\n",
    "else:\n",
    "    is_prime = False\n",
    "\n",
    "if is_prime:\n",
    "    print(num, \"is a prime number.\")\n",
    "else:\n",
    "    print(num, \"is not a prime number.\")\n"
   ]
  }
 ],
 "metadata": {
  "kernelspec": {
   "display_name": "Python 3 (ipykernel)",
   "language": "python",
   "name": "python3"
  },
  "language_info": {
   "codemirror_mode": {
    "name": "ipython",
    "version": 3
   },
   "file_extension": ".py",
   "mimetype": "text/x-python",
   "name": "python",
   "nbconvert_exporter": "python",
   "pygments_lexer": "ipython3",
   "version": "3.11.7"
  },
  "toc-autonumbering": false,
  "toc-showmarkdowntxt": false
 },
 "nbformat": 4,
 "nbformat_minor": 5
}
