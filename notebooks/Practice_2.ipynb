{
 "cells": [
  {
   "cell_type": "markdown",
   "id": "8c464ca1",
   "metadata": {
    "vscode": {
     "languageId": "plaintext"
    }
   },
   "source": [
    "# *Exercise 1*\n",
    "\n",
    "Write a Python program to calculate the sum, difference, product, and quotient of two numbers provided by the user.\n",
    "\n",
    "*Hint: you can use `input` to ask for values to the user*"
   ]
  },
  {
   "cell_type": "code",
   "execution_count": 6,
   "id": "325059f1",
   "metadata": {},
   "outputs": [],
   "source": [
    "x = int(input('enter a number here'))\n",
    "y = int(input('enter a number here'))\n",
    "\n",
    "sum_result = x + y\n",
    "difference_result = x - y\n",
    "product_result = x * y\n",
    "quotient_result = x / y"
   ]
  },
  {
   "cell_type": "markdown",
   "id": "2688db94",
   "metadata": {},
   "source": [
    "the numbers given by user are; x = 5, y = 10"
   ]
  },
  {
   "cell_type": "code",
   "execution_count": 7,
   "id": "55f9d323",
   "metadata": {},
   "outputs": [
    {
     "name": "stdout",
     "output_type": "stream",
     "text": [
      "15\n",
      "-5\n",
      "50\n",
      "0.5\n"
     ]
    }
   ],
   "source": [
    "print(sum_result)\n",
    "print(difference_result)\n",
    "print(product_result)\n",
    "print(quotient_result)\n"
   ]
  },
  {
   "cell_type": "markdown",
   "id": "dfba21b9",
   "metadata": {},
   "source": [
    "# *Exercise 2*\n",
    "\n",
    "Write a Python script that takes two strings from the user and prints them concatenated together."
   ]
  },
  {
   "cell_type": "code",
   "execution_count": 9,
   "id": "5c3eda0b",
   "metadata": {},
   "outputs": [
    {
     "name": "stdout",
     "output_type": "stream",
     "text": [
      "hello friends  I am here\n"
     ]
    }
   ],
   "source": [
    "strng_1 = input('enter string 1 here')\n",
    "strng_2 = input('enter string 2 here')\n",
    "concatenated_strng = strng_1 + \" \" + strng_2\n",
    "print(concatenated_strng) "
   ]
  },
  {
   "cell_type": "markdown",
   "id": "16e2193c",
   "metadata": {},
   "source": [
    "the two strings given by user are; strng_1 = \"hello friends\" & strng_2 = \"I am here\""
   ]
  },
  {
   "cell_type": "markdown",
   "id": "44050b77",
   "metadata": {},
   "source": [
    "# *Exercise 3*\n",
    "\n",
    "Calculate the simple interest using the formula $SI = (P * R * T) / 100$ where P is principal amount, R is rate per annum, and T is time in years. Request these values from the user."
   ]
  },
  {
   "cell_type": "code",
   "execution_count": 11,
   "id": "b9f30dd2",
   "metadata": {},
   "outputs": [
    {
     "name": "stdout",
     "output_type": "stream",
     "text": [
      "112.0\n"
     ]
    }
   ],
   "source": [
    "P = int(input('enter the principal here'))\n",
    "R = float(input('enter the rate per annum here'))\n",
    "T = int(input('enter the time in years here'))\n",
    "SI = (P * R * T) / 100\n",
    "\n",
    "print(SI)"
   ]
  },
  {
   "cell_type": "markdown",
   "id": "15ac950e",
   "metadata": {},
   "source": [
    "Values given by the user were; P = 10000, R = 0.08 & T = 14"
   ]
  },
  {
   "cell_type": "markdown",
   "id": "1bd04a5d-bb48-47c0-91d6-0d808ab9eba4",
   "metadata": {
    "tags": []
   },
   "source": [
    "# *Exercise 4*\n",
    "Remember the factorial of a number $n$ is calculated as $n! = n \\times (n - 1) \\times \\dots \\times 2 \\times 1$.\n",
    "\n",
    "Compute $6!$, assigning the result to a variable called `factorial`."
   ]
  },
  {
   "cell_type": "code",
   "execution_count": 1,
   "id": "16be83eb",
   "metadata": {},
   "outputs": [
    {
     "name": "stdout",
     "output_type": "stream",
     "text": [
      "720\n"
     ]
    }
   ],
   "source": [
    "n = 6\n",
    "factorial = n * (n-1) * (n-2) * (n-3) * (n-4) * (n-5) \n",
    "print(factorial)"
   ]
  },
  {
   "cell_type": "markdown",
   "id": "b008ebb1-36be-4a05-8e48-25555bf456b0",
   "metadata": {},
   "source": [
    "# *Exercise 5*"
   ]
  },
  {
   "cell_type": "markdown",
   "id": "38463ec5-7bd6-42e5-8be6-d5c39c10c2dc",
   "metadata": {},
   "source": [
    "A Python module is contains additional functions that those provided in the Python core. Usually modules are organized in Python packages, and can be imported in our program with the `import` command\n",
    "\n",
    "The `math` module is included in Python by default (it is a built-in module) and contains a lot of math functions to perform more complex operations than those with the built-in operators. You can use the `math` module as follows:\n",
    "```python\n",
    "import math\n",
    "\n",
    "a = 100\n",
    "\n",
    "# compute the logarithm of \"a\"\n",
    "la = math.log(a) \n",
    "```\n",
    "\n",
    "Using the `math` module, check your result for $6!$. You can find the docs here: https://docs.python.org/3/library/math.html (*Hint: Look for the function `math.factorial`*)"
   ]
  },
  {
   "cell_type": "code",
   "execution_count": 2,
   "id": "bffcb42d",
   "metadata": {},
   "outputs": [
    {
     "name": "stdout",
     "output_type": "stream",
     "text": [
      "720\n"
     ]
    }
   ],
   "source": [
    "import math \n",
    "factorial_math = math.factorial(6)\n",
    "print(factorial_math)"
   ]
  },
  {
   "cell_type": "markdown",
   "id": "84e4b62e-9ab5-4d13-93bc-1e7547c90e79",
   "metadata": {},
   "source": [
    "# *Exercise 6*"
   ]
  },
  {
   "cell_type": "markdown",
   "id": "5c33a918-da5d-4f49-b99a-66f7c9c52ecf",
   "metadata": {},
   "source": [
    "Stirling’s approximation gives that, for large enough $n$\n",
    "\n",
    "$n! \\simeq \\sqrt{2 \\pi} n^{n + 1/2} e^{-n}$\n",
    "\n",
    " 1. Using functions and constants from the `math` library, get the results of $n!$ and Stirling’s approximation for `n = 5, 10, 15, 20`\n",
    " 2. For each $n$, calculate the ratio between the exact solution and the approximated one. Round the results to three decimals (*Hint: look for the `round` function*)"
   ]
  },
  {
   "cell_type": "code",
   "execution_count": 1,
   "id": "9257d1fb",
   "metadata": {},
   "outputs": [],
   "source": [
    "import math"
   ]
  },
  {
   "cell_type": "code",
   "execution_count": 3,
   "id": "d58f8a54",
   "metadata": {},
   "outputs": [
    {
     "name": "stdout",
     "output_type": "stream",
     "text": [
      "n1=5, f_math_5 = 120 f_stir_5 = 118.0191679575901 ratio 1.017\n",
      "n2=10, f_math_10 = 3628800 f_stir_10 = 3598695.6187410373 ratio 1.008\n",
      "n3=15, f_math_15 = 1307674368000 f_stir_15 = 1300430722199.467 ratio 1.006\n",
      "n4=20, f_math_20 = 2432902008176640000 f_stir_20 = 2.4227868467611356e+18 ratio 1.004\n"
     ]
    }
   ],
   "source": [
    "n1=5\n",
    "n2=10\n",
    "n3=15\n",
    "n4=20 \n",
    "f_math_5 = math.factorial(n1)\n",
    "f_math_10 = math.factorial(n2)\n",
    "f_math_15 = math.factorial(n3)\n",
    "f_math_20 = math.factorial(n4)\n",
    "f_stir_5 = math.sqrt(2*math.pi)*n1**(n1+1/2)*math.e**(-n1)\n",
    "f_stir_10 = math.sqrt(2*math.pi)*n2**(n2+1/2)*math.e**(-n2)\n",
    "f_stir_15 = math.sqrt(2*math.pi)*n3**(n3+1/2)*math.e**(-n3)\n",
    "f_stir_20 = math.sqrt(2*math.pi)*n4**(n4+1/2)*math.e**(-n4)\n",
    "print((\"n1=5, f_math_5 =\"), f_math_5, \"f_stir_5 =\", f_stir_5, \"ratio\", round(f_math_5/f_stir_5,3)) \n",
    "print((\"n2=10, f_math_10 =\"), f_math_10, \"f_stir_10 =\", f_stir_10, \"ratio\", round(f_math_10/f_stir_10,3)) \n",
    "print((\"n3=15, f_math_15 =\"), f_math_15, \"f_stir_15 =\", f_stir_15, \"ratio\", round(f_math_15/f_stir_15,3)) \n",
    "print((\"n4=20, f_math_20 =\"), f_math_20, \"f_stir_20 =\", f_stir_20, \"ratio\", round(f_math_20/f_stir_20,3)) "
   ]
  }
 ],
 "metadata": {
  "kernelspec": {
   "display_name": "Python 3 (ipykernel)",
   "language": "python",
   "name": "python3"
  },
  "language_info": {
   "codemirror_mode": {
    "name": "ipython",
    "version": 3
   },
   "file_extension": ".py",
   "mimetype": "text/x-python",
   "name": "python",
   "nbconvert_exporter": "python",
   "pygments_lexer": "ipython3",
   "version": "3.11.7"
  },
  "toc-autonumbering": false,
  "toc-showmarkdowntxt": false
 },
 "nbformat": 4,
 "nbformat_minor": 5
}
