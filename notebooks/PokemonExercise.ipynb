{
 "cells": [
  {
   "cell_type": "markdown",
   "id": "27fbb030-7f30-49a7-9cbc-14176019443d",
   "metadata": {},
   "source": [
    "# Gotta Catch 'Em All\n",
    "\n",
    "Load pokedex data provided in the JSON file. Answer the following questions\n",
    "\n",
    "1. How many Pokemon are there in the Pokedex?\n",
    "2. What's the tallest pokemon?\n",
    "3. What's the proportion of every type?\n",
    "   1. If some pokemon has more than one type, pick the first one\n",
    "   1. If some pokemonn has more than one type, both types will count in the proportion calculation\n",
    "4. What's the weightest pokemon?\n",
    "5. How many pokemon are with more than 1 evolution?\n",
    "6. Create a function to show the profile of a pokemon:\n",
    "\n",
    "   ```python\n",
    "   def show_pokemon_profile(pokemon: dict) -> None\n",
    "   ```\n",
    "\n",
    "   Take this as an example:\n",
    "   \n",
    "    ---\n",
    "   ![](https://www.serebii.net/pokemongo/pokemon/001.png)\n",
    "   ```\n",
    "   #001: Bulbasaur\n",
    "   Height: 0.71 m\n",
    "   Weight: 6.9 kg\n",
    "   Type:  🌱(Grass) ☠️(Poison)\n",
    "   Weaknesses:  🔥(Fire) ❄️(Ice) 🐦(Flying) 🔮(Psychic)\n",
    "   ```\n",
    "   ---"
   ]
  },
  {
   "cell_type": "markdown",
   "id": "fe31632b-6c1d-4b53-a68c-ed71399cd433",
   "metadata": {},
   "source": [
    "You can use the following functions as help for question 6\n",
    "```python\n",
    "from IPython.display import Image, display\n",
    "\n",
    "def show_img(pokemon):\n",
    "    display(Image(url=pokemon[\"img\"], width=100, unconfined=True))\n",
    "\n",
    "def type_to_emojii(t):\n",
    "    emojii = None\n",
    "    if t==\"Grass\":\n",
    "        emojii =  \"🌱\"\n",
    "    elif t==\"Poison\":\n",
    "        emojii = \"☠️\"\n",
    "    elif t==\"Water\":\n",
    "        emojii = \"🌊\"\n",
    "    elif t==\"Psychic\":\n",
    "        emojii = \"🔮\"\n",
    "    elif t==\"Ground\":\n",
    "        emojii = \"🌎\"\n",
    "    elif t==\"Fire\":\n",
    "        emojii = \"🔥\"\n",
    "    elif t==\"Bug\":\n",
    "        emojii = \"🐛\"\n",
    "    elif t==\"Rock\":\n",
    "        emojii = \"🪨\"\n",
    "    elif t==\"Electric\":\n",
    "        emojii = \"⚡\"\n",
    "    elif t==\"Fighting\":\n",
    "        emojii = \"👊\"\n",
    "    elif t==\"Ice\":\n",
    "        emojii = \"❄️\"\n",
    "    elif t==\"Dragon\":\n",
    "        emojii = \"🐲\"\n",
    "    elif t==\"Ghost\":\n",
    "        emojii = \"👻\"\n",
    "    elif t==\"Flying\":\n",
    "        emojii = \"🐦\"\n",
    "    elif t==\"Fairy\":\n",
    "        emojii = \"🧚\"\n",
    "    elif t==\"Dark\":\n",
    "        emojii = \"🕶️\"\n",
    "    else:\n",
    "        emojii = \"🤷\"\n",
    "\n",
    "    return f\"{emojii}({t})\"\n",
    "```"
   ]
  },
  {
   "cell_type": "code",
   "execution_count": 1,
   "id": "ce8454fc-3fea-498e-84ce-471364b516e8",
   "metadata": {},
   "outputs": [],
   "source": [
    "import json\n",
    "\n",
    "with open(\"data/pokedex.json\") as f:\n",
    "    pokedex = json.load(f)"
   ]
  },
  {
   "cell_type": "markdown",
   "id": "1571276d-5011-489c-9667-603867d56a9d",
   "metadata": {},
   "source": [
    "1. How many Pokemon are there in the Pokedex?"
   ]
  },
  {
   "cell_type": "code",
   "execution_count": 2,
   "id": "4601fdcb-23aa-4769-882f-a574fc25249a",
   "metadata": {},
   "outputs": [
    {
     "name": "stdout",
     "output_type": "stream",
     "text": [
      "There are 151 pokemon in the Pokédex\n"
     ]
    }
   ],
   "source": [
    "print(f\"There are {len(pokedex['pokemon'])} pokemon in the Pokédex\")"
   ]
  },
  {
   "cell_type": "markdown",
   "id": "b8e2b4d5-deb6-4c08-9f5f-dc55fb556716",
   "metadata": {},
   "source": [
    "2. What’s the tallest pokemon?"
   ]
  },
  {
   "cell_type": "code",
   "execution_count": 3,
   "id": "bf6c6dc7-f4d1-40bd-81d5-dc22692b6eb8",
   "metadata": {},
   "outputs": [
    {
     "name": "stdout",
     "output_type": "stream",
     "text": [
      "The tallest pokémon is Onix\n"
     ]
    }
   ],
   "source": [
    "print(f\"The tallest pokémon is {max(pokedex['pokemon'], key=lambda x: float(x['height'].split()[0]))['name']}\")"
   ]
  },
  {
   "cell_type": "markdown",
   "id": "1dd7cb9f-ef00-4935-9677-f69a63dc7fc3",
   "metadata": {},
   "source": [
    "3. What's the proportion of every type?\n",
    "   1. If some pokemon has more than one type, pick the first one\n",
    "   1. If some pokemonn has more than one type, both types will count in the proportion calculation"
   ]
  },
  {
   "cell_type": "code",
   "execution_count": 4,
   "id": "87635aea-e260-4215-99bd-ca34b4d5e02d",
   "metadata": {},
   "outputs": [],
   "source": [
    "unique_types = {pokemon[\"type\"][0] for pokemon in pokedex[\"pokemon\"]}\n",
    "types = [pokemon[\"type\"][0] for pokemon in pokedex[\"pokemon\"]]\n",
    "\n",
    "result = []\n",
    "for t in unique_types:\n",
    "    result.append((t, round(types.count(t) / len(types) * 100, 2)))\n",
    "    \n",
    "result = sorted(result, key=lambda x: x[1], reverse=True)"
   ]
  },
  {
   "cell_type": "code",
   "execution_count": 5,
   "id": "8ed6c5e7-422a-4075-860e-0ffa78250442",
   "metadata": {},
   "outputs": [
    {
     "data": {
      "text/plain": [
       "[('Water', 18.54),\n",
       " ('Normal', 15.89),\n",
       " ('Poison', 9.27),\n",
       " ('Bug', 7.95),\n",
       " ('Grass', 7.95),\n",
       " ('Fire', 7.95),\n",
       " ('Electric', 5.96),\n",
       " ('Rock', 5.96),\n",
       " ('Psychic', 5.3),\n",
       " ('Ground', 5.3),\n",
       " ('Fighting', 4.64),\n",
       " ('Ghost', 1.99),\n",
       " ('Dragon', 1.99),\n",
       " ('Ice', 1.32)]"
      ]
     },
     "execution_count": 5,
     "metadata": {},
     "output_type": "execute_result"
    }
   ],
   "source": [
    "result"
   ]
  },
  {
   "cell_type": "code",
   "execution_count": 6,
   "id": "2b7d6497-066f-4e77-a9cf-450256154565",
   "metadata": {},
   "outputs": [],
   "source": [
    "unique_types = {pokemon[\"type\"][0] for pokemon in pokedex[\"pokemon\"]}\n",
    "\n",
    "# get a list of types, not just the first one, but all of them for every pokemon\n",
    "types = []\n",
    "for pokemon in pokedex[\"pokemon\"]:\n",
    "    types.extend(pokemon[\"type\"])\n",
    "\n",
    "result = []\n",
    "for t in unique_types:\n",
    "    result.append((t, round(types.count(t) / len(types) * 100, 2)))\n",
    "    \n",
    "result = sorted(result, key=lambda x: x[1], reverse=True)"
   ]
  },
  {
   "cell_type": "code",
   "execution_count": 7,
   "id": "2131e093-9634-4517-833b-5ab0743b9ef0",
   "metadata": {},
   "outputs": [
    {
     "data": {
      "text/plain": [
       "[('Poison', 15.49),\n",
       " ('Water', 15.02),\n",
       " ('Normal', 11.27),\n",
       " ('Psychic', 6.57),\n",
       " ('Grass', 6.57),\n",
       " ('Ground', 6.57),\n",
       " ('Bug', 5.63),\n",
       " ('Fire', 5.63),\n",
       " ('Rock', 5.16),\n",
       " ('Electric', 4.23),\n",
       " ('Fighting', 3.76),\n",
       " ('Ice', 2.35),\n",
       " ('Ghost', 1.41),\n",
       " ('Dragon', 1.41)]"
      ]
     },
     "execution_count": 7,
     "metadata": {},
     "output_type": "execute_result"
    }
   ],
   "source": [
    "result"
   ]
  },
  {
   "cell_type": "markdown",
   "id": "7e164a9b-24da-4806-b54c-1a420366d484",
   "metadata": {},
   "source": [
    "4. What’s the weightest pokemon?"
   ]
  },
  {
   "cell_type": "code",
   "execution_count": 8,
   "id": "23812ca9-3409-4dd2-ab48-cb76ec35e425",
   "metadata": {},
   "outputs": [
    {
     "name": "stdout",
     "output_type": "stream",
     "text": [
      "The weightest pokémon is Snorlax\n"
     ]
    }
   ],
   "source": [
    "print(f\"The weightest pokémon is {max(pokedex['pokemon'], key=lambda x: float(x['weight'].split()[0]))['name']}\")"
   ]
  },
  {
   "cell_type": "markdown",
   "id": "852c9b52-b5fa-4810-a454-58976ec418fe",
   "metadata": {},
   "source": [
    "5. How many pokemon are with more than 1 evolution?"
   ]
  },
  {
   "cell_type": "code",
   "execution_count": 9,
   "id": "e704e72f-3039-4dab-b03c-9a85d9d99bee",
   "metadata": {},
   "outputs": [
    {
     "name": "stdout",
     "output_type": "stream",
     "text": [
      "There are 17 pokémon with more than 1 evolution: ['Bulbasaur', 'Charmander', 'Squirtle', 'Caterpie', 'Weedle', 'Pidgey', 'Nidoran â™€ (Female)', 'Nidoran â™‚ (Male)', 'Oddish', 'Poliwag', 'Abra', 'Machop', 'Bellsprout', 'Geodude', 'Gastly', 'Eevee', 'Dratini']\n"
     ]
    }
   ],
   "source": [
    "result = list(filter(lambda x: len(x[\"next_evolution\"]) > 1 if \"next_evolution\" in x else False, pokedex['pokemon']))\n",
    "print(f\"There are {len(result)} pokémon with more than 1 evolution: {[r['name'] for r in result]}\")"
   ]
  },
  {
   "cell_type": "markdown",
   "id": "e4c2850c-ca7c-4258-a371-1e6635efd2b9",
   "metadata": {},
   "source": [
    "6. Create a function to show the profile of a pokemon:"
   ]
  },
  {
   "cell_type": "code",
   "execution_count": 14,
   "id": "cc9be429-2214-4376-80dc-72a6d2127d23",
   "metadata": {},
   "outputs": [],
   "source": [
    "from IPython.display import Image, display\n",
    "\n",
    "def show_img(pokemon):\n",
    "    display(Image(url=pokemon[\"img\"], width=100, unconfined=True))\n",
    "    \n",
    "def type_to_emojii(t):\n",
    "    emojii = None\n",
    "    if t==\"Grass\":\n",
    "        emojii =  \"🌱\"\n",
    "    elif t==\"Poison\":\n",
    "        emojii = \"☠️\"\n",
    "    elif t==\"Water\":\n",
    "        emojii = \"🌊\"\n",
    "    elif t==\"Psychic\":\n",
    "        emojii = \"🔮\"\n",
    "    elif t==\"Ground\":\n",
    "        emojii = \"🌎\"\n",
    "    elif t==\"Fire\":\n",
    "        emojii = \"🔥\"\n",
    "    elif t==\"Bug\":\n",
    "        emojii = \"🐛\"\n",
    "    elif t==\"Rock\":\n",
    "        emojii = \"🪨\"\n",
    "    elif t==\"Electric\":\n",
    "        emojii = \"⚡\"\n",
    "    elif t==\"Fighting\":\n",
    "        emojii = \"👊\"\n",
    "    elif t==\"Ice\":\n",
    "        emojii = \"❄️\"\n",
    "    elif t==\"Dragon\":\n",
    "        emojii = \"🐲\"\n",
    "    elif t==\"Ghost\":\n",
    "        emojii = \"👻\"\n",
    "    elif t==\"Flying\":\n",
    "        emojii = \"🐦\"\n",
    "    elif t==\"Fairy\":\n",
    "        emojii = \"🧚\"\n",
    "    elif t==\"Dark\":\n",
    "        emojii = \"🕶️\"\n",
    "    else:\n",
    "        emojii = \"🤷\"\n",
    "        \n",
    "    return f\"{emojii}({t})\""
   ]
  },
  {
   "cell_type": "code",
   "execution_count": 15,
   "id": "119c1416-4723-4003-9953-9a699bf61bc1",
   "metadata": {},
   "outputs": [],
   "source": [
    "def show_pokemon_profile(pokemon):\n",
    "    show_img(pokemon)\n",
    "    \n",
    "    print(f\"#{pokemon['num']}: {pokemon['name']}\")\n",
    "    \n",
    "    print(f\"Height: {pokemon['height']}\")\n",
    "    print(f\"Weight: {pokemon['weight']}\")\n",
    "    \n",
    "    types = [type_to_emojii(t) for t in pokemon['type']]\n",
    "    print(\"Type: \", *types, sep=\" \")\n",
    "    \n",
    "    weaknesses = [type_to_emojii(t) for t in pokemon['weaknesses']]\n",
    "    print(\"Weaknesses: \", *weaknesses, sep=\" \")"
   ]
  },
  {
   "cell_type": "code",
   "execution_count": 16,
   "id": "1b40ea50-0b02-4c3e-bea3-f111c46fa2a6",
   "metadata": {},
   "outputs": [
    {
     "data": {
      "text/html": [
       "<img src=\"http://www.serebii.net/pokemongo/pokemon/001.png\" width=\"100\" class=\"unconfined\"/>"
      ],
      "text/plain": [
       "<IPython.core.display.Image object>"
      ]
     },
     "metadata": {},
     "output_type": "display_data"
    },
    {
     "name": "stdout",
     "output_type": "stream",
     "text": [
      "#001: Bulbasaur\n",
      "Height: 0.71 m\n",
      "Weight: 6.9 kg\n",
      "Type:  🌱(Grass) ☠️(Poison)\n",
      "Weaknesses:  🔥(Fire) ❄️(Ice) 🐦(Flying) 🔮(Psychic)\n"
     ]
    },
    {
     "data": {
      "text/html": [
       "<img src=\"http://www.serebii.net/pokemongo/pokemon/002.png\" width=\"100\" class=\"unconfined\"/>"
      ],
      "text/plain": [
       "<IPython.core.display.Image object>"
      ]
     },
     "metadata": {},
     "output_type": "display_data"
    },
    {
     "name": "stdout",
     "output_type": "stream",
     "text": [
      "#002: Ivysaur\n",
      "Height: 0.99 m\n",
      "Weight: 13.0 kg\n",
      "Type:  🌱(Grass) ☠️(Poison)\n",
      "Weaknesses:  🔥(Fire) ❄️(Ice) 🐦(Flying) 🔮(Psychic)\n"
     ]
    },
    {
     "data": {
      "text/html": [
       "<img src=\"http://www.serebii.net/pokemongo/pokemon/003.png\" width=\"100\" class=\"unconfined\"/>"
      ],
      "text/plain": [
       "<IPython.core.display.Image object>"
      ]
     },
     "metadata": {},
     "output_type": "display_data"
    },
    {
     "name": "stdout",
     "output_type": "stream",
     "text": [
      "#003: Venusaur\n",
      "Height: 2.01 m\n",
      "Weight: 100.0 kg\n",
      "Type:  🌱(Grass) ☠️(Poison)\n",
      "Weaknesses:  🔥(Fire) ❄️(Ice) 🐦(Flying) 🔮(Psychic)\n"
     ]
    },
    {
     "data": {
      "text/html": [
       "<img src=\"http://www.serebii.net/pokemongo/pokemon/004.png\" width=\"100\" class=\"unconfined\"/>"
      ],
      "text/plain": [
       "<IPython.core.display.Image object>"
      ]
     },
     "metadata": {},
     "output_type": "display_data"
    },
    {
     "name": "stdout",
     "output_type": "stream",
     "text": [
      "#004: Charmander\n",
      "Height: 0.61 m\n",
      "Weight: 8.5 kg\n",
      "Type:  🔥(Fire)\n",
      "Weaknesses:  🌊(Water) 🌎(Ground) 🪨(Rock)\n"
     ]
    },
    {
     "data": {
      "text/html": [
       "<img src=\"http://www.serebii.net/pokemongo/pokemon/005.png\" width=\"100\" class=\"unconfined\"/>"
      ],
      "text/plain": [
       "<IPython.core.display.Image object>"
      ]
     },
     "metadata": {},
     "output_type": "display_data"
    },
    {
     "name": "stdout",
     "output_type": "stream",
     "text": [
      "#005: Charmeleon\n",
      "Height: 1.09 m\n",
      "Weight: 19.0 kg\n",
      "Type:  🔥(Fire)\n",
      "Weaknesses:  🌊(Water) 🌎(Ground) 🪨(Rock)\n"
     ]
    },
    {
     "data": {
      "text/html": [
       "<img src=\"http://www.serebii.net/pokemongo/pokemon/006.png\" width=\"100\" class=\"unconfined\"/>"
      ],
      "text/plain": [
       "<IPython.core.display.Image object>"
      ]
     },
     "metadata": {},
     "output_type": "display_data"
    },
    {
     "name": "stdout",
     "output_type": "stream",
     "text": [
      "#006: Charizard\n",
      "Height: 1.70 m\n",
      "Weight: 90.5 kg\n",
      "Type:  🔥(Fire) 🐦(Flying)\n",
      "Weaknesses:  🌊(Water) ⚡(Electric) 🪨(Rock)\n"
     ]
    },
    {
     "data": {
      "text/html": [
       "<img src=\"http://www.serebii.net/pokemongo/pokemon/007.png\" width=\"100\" class=\"unconfined\"/>"
      ],
      "text/plain": [
       "<IPython.core.display.Image object>"
      ]
     },
     "metadata": {},
     "output_type": "display_data"
    },
    {
     "name": "stdout",
     "output_type": "stream",
     "text": [
      "#007: Squirtle\n",
      "Height: 0.51 m\n",
      "Weight: 9.0 kg\n",
      "Type:  🌊(Water)\n",
      "Weaknesses:  ⚡(Electric) 🌱(Grass)\n"
     ]
    },
    {
     "data": {
      "text/html": [
       "<img src=\"http://www.serebii.net/pokemongo/pokemon/008.png\" width=\"100\" class=\"unconfined\"/>"
      ],
      "text/plain": [
       "<IPython.core.display.Image object>"
      ]
     },
     "metadata": {},
     "output_type": "display_data"
    },
    {
     "name": "stdout",
     "output_type": "stream",
     "text": [
      "#008: Wartortle\n",
      "Height: 0.99 m\n",
      "Weight: 22.5 kg\n",
      "Type:  🌊(Water)\n",
      "Weaknesses:  ⚡(Electric) 🌱(Grass)\n"
     ]
    },
    {
     "data": {
      "text/html": [
       "<img src=\"http://www.serebii.net/pokemongo/pokemon/009.png\" width=\"100\" class=\"unconfined\"/>"
      ],
      "text/plain": [
       "<IPython.core.display.Image object>"
      ]
     },
     "metadata": {},
     "output_type": "display_data"
    },
    {
     "name": "stdout",
     "output_type": "stream",
     "text": [
      "#009: Blastoise\n",
      "Height: 1.60 m\n",
      "Weight: 85.5 kg\n",
      "Type:  🌊(Water)\n",
      "Weaknesses:  ⚡(Electric) 🌱(Grass)\n"
     ]
    },
    {
     "data": {
      "text/html": [
       "<img src=\"http://www.serebii.net/pokemongo/pokemon/010.png\" width=\"100\" class=\"unconfined\"/>"
      ],
      "text/plain": [
       "<IPython.core.display.Image object>"
      ]
     },
     "metadata": {},
     "output_type": "display_data"
    },
    {
     "name": "stdout",
     "output_type": "stream",
     "text": [
      "#010: Caterpie\n",
      "Height: 0.30 m\n",
      "Weight: 2.9 kg\n",
      "Type:  🐛(Bug)\n",
      "Weaknesses:  🔥(Fire) 🐦(Flying) 🪨(Rock)\n"
     ]
    },
    {
     "data": {
      "text/html": [
       "<img src=\"http://www.serebii.net/pokemongo/pokemon/011.png\" width=\"100\" class=\"unconfined\"/>"
      ],
      "text/plain": [
       "<IPython.core.display.Image object>"
      ]
     },
     "metadata": {},
     "output_type": "display_data"
    },
    {
     "name": "stdout",
     "output_type": "stream",
     "text": [
      "#011: Metapod\n",
      "Height: 0.71 m\n",
      "Weight: 9.9 kg\n",
      "Type:  🐛(Bug)\n",
      "Weaknesses:  🔥(Fire) 🐦(Flying) 🪨(Rock)\n"
     ]
    },
    {
     "data": {
      "text/html": [
       "<img src=\"http://www.serebii.net/pokemongo/pokemon/012.png\" width=\"100\" class=\"unconfined\"/>"
      ],
      "text/plain": [
       "<IPython.core.display.Image object>"
      ]
     },
     "metadata": {},
     "output_type": "display_data"
    },
    {
     "name": "stdout",
     "output_type": "stream",
     "text": [
      "#012: Butterfree\n",
      "Height: 1.09 m\n",
      "Weight: 32.0 kg\n",
      "Type:  🐛(Bug) 🐦(Flying)\n",
      "Weaknesses:  🔥(Fire) ⚡(Electric) ❄️(Ice) 🐦(Flying) 🪨(Rock)\n"
     ]
    },
    {
     "data": {
      "text/html": [
       "<img src=\"http://www.serebii.net/pokemongo/pokemon/013.png\" width=\"100\" class=\"unconfined\"/>"
      ],
      "text/plain": [
       "<IPython.core.display.Image object>"
      ]
     },
     "metadata": {},
     "output_type": "display_data"
    },
    {
     "name": "stdout",
     "output_type": "stream",
     "text": [
      "#013: Weedle\n",
      "Height: 0.30 m\n",
      "Weight: 3.2 kg\n",
      "Type:  🐛(Bug) ☠️(Poison)\n",
      "Weaknesses:  🔥(Fire) 🐦(Flying) 🔮(Psychic) 🪨(Rock)\n"
     ]
    },
    {
     "data": {
      "text/html": [
       "<img src=\"http://www.serebii.net/pokemongo/pokemon/014.png\" width=\"100\" class=\"unconfined\"/>"
      ],
      "text/plain": [
       "<IPython.core.display.Image object>"
      ]
     },
     "metadata": {},
     "output_type": "display_data"
    },
    {
     "name": "stdout",
     "output_type": "stream",
     "text": [
      "#014: Kakuna\n",
      "Height: 0.61 m\n",
      "Weight: 10.0 kg\n",
      "Type:  🐛(Bug) ☠️(Poison)\n",
      "Weaknesses:  🔥(Fire) 🐦(Flying) 🔮(Psychic) 🪨(Rock)\n"
     ]
    },
    {
     "data": {
      "text/html": [
       "<img src=\"http://www.serebii.net/pokemongo/pokemon/015.png\" width=\"100\" class=\"unconfined\"/>"
      ],
      "text/plain": [
       "<IPython.core.display.Image object>"
      ]
     },
     "metadata": {},
     "output_type": "display_data"
    },
    {
     "name": "stdout",
     "output_type": "stream",
     "text": [
      "#015: Beedrill\n",
      "Height: 0.99 m\n",
      "Weight: 29.5 kg\n",
      "Type:  🐛(Bug) ☠️(Poison)\n",
      "Weaknesses:  🔥(Fire) 🐦(Flying) 🔮(Psychic) 🪨(Rock)\n"
     ]
    },
    {
     "data": {
      "text/html": [
       "<img src=\"http://www.serebii.net/pokemongo/pokemon/016.png\" width=\"100\" class=\"unconfined\"/>"
      ],
      "text/plain": [
       "<IPython.core.display.Image object>"
      ]
     },
     "metadata": {},
     "output_type": "display_data"
    },
    {
     "name": "stdout",
     "output_type": "stream",
     "text": [
      "#016: Pidgey\n",
      "Height: 0.30 m\n",
      "Weight: 1.8 kg\n",
      "Type:  🤷(Normal) 🐦(Flying)\n",
      "Weaknesses:  ⚡(Electric) 🪨(Rock)\n"
     ]
    },
    {
     "data": {
      "text/html": [
       "<img src=\"http://www.serebii.net/pokemongo/pokemon/017.png\" width=\"100\" class=\"unconfined\"/>"
      ],
      "text/plain": [
       "<IPython.core.display.Image object>"
      ]
     },
     "metadata": {},
     "output_type": "display_data"
    },
    {
     "name": "stdout",
     "output_type": "stream",
     "text": [
      "#017: Pidgeotto\n",
      "Height: 1.09 m\n",
      "Weight: 30.0 kg\n",
      "Type:  🤷(Normal) 🐦(Flying)\n",
      "Weaknesses:  ⚡(Electric) 🪨(Rock)\n"
     ]
    },
    {
     "data": {
      "text/html": [
       "<img src=\"http://www.serebii.net/pokemongo/pokemon/018.png\" width=\"100\" class=\"unconfined\"/>"
      ],
      "text/plain": [
       "<IPython.core.display.Image object>"
      ]
     },
     "metadata": {},
     "output_type": "display_data"
    },
    {
     "name": "stdout",
     "output_type": "stream",
     "text": [
      "#018: Pidgeot\n",
      "Height: 1.50 m\n",
      "Weight: 39.5 kg\n",
      "Type:  🤷(Normal) 🐦(Flying)\n",
      "Weaknesses:  ⚡(Electric) 🪨(Rock)\n"
     ]
    },
    {
     "data": {
      "text/html": [
       "<img src=\"http://www.serebii.net/pokemongo/pokemon/019.png\" width=\"100\" class=\"unconfined\"/>"
      ],
      "text/plain": [
       "<IPython.core.display.Image object>"
      ]
     },
     "metadata": {},
     "output_type": "display_data"
    },
    {
     "name": "stdout",
     "output_type": "stream",
     "text": [
      "#019: Rattata\n",
      "Height: 0.30 m\n",
      "Weight: 3.5 kg\n",
      "Type:  🤷(Normal)\n",
      "Weaknesses:  👊(Fighting)\n"
     ]
    },
    {
     "data": {
      "text/html": [
       "<img src=\"http://www.serebii.net/pokemongo/pokemon/020.png\" width=\"100\" class=\"unconfined\"/>"
      ],
      "text/plain": [
       "<IPython.core.display.Image object>"
      ]
     },
     "metadata": {},
     "output_type": "display_data"
    },
    {
     "name": "stdout",
     "output_type": "stream",
     "text": [
      "#020: Raticate\n",
      "Height: 0.71 m\n",
      "Weight: 18.5 kg\n",
      "Type:  🤷(Normal)\n",
      "Weaknesses:  👊(Fighting)\n"
     ]
    },
    {
     "data": {
      "text/html": [
       "<img src=\"http://www.serebii.net/pokemongo/pokemon/021.png\" width=\"100\" class=\"unconfined\"/>"
      ],
      "text/plain": [
       "<IPython.core.display.Image object>"
      ]
     },
     "metadata": {},
     "output_type": "display_data"
    },
    {
     "name": "stdout",
     "output_type": "stream",
     "text": [
      "#021: Spearow\n",
      "Height: 0.30 m\n",
      "Weight: 2.0 kg\n",
      "Type:  🤷(Normal) 🐦(Flying)\n",
      "Weaknesses:  ⚡(Electric) 🪨(Rock)\n"
     ]
    },
    {
     "data": {
      "text/html": [
       "<img src=\"http://www.serebii.net/pokemongo/pokemon/022.png\" width=\"100\" class=\"unconfined\"/>"
      ],
      "text/plain": [
       "<IPython.core.display.Image object>"
      ]
     },
     "metadata": {},
     "output_type": "display_data"
    },
    {
     "name": "stdout",
     "output_type": "stream",
     "text": [
      "#022: Fearow\n",
      "Height: 1.19 m\n",
      "Weight: 38.0 kg\n",
      "Type:  🤷(Normal) 🐦(Flying)\n",
      "Weaknesses:  ⚡(Electric) 🪨(Rock)\n"
     ]
    },
    {
     "data": {
      "text/html": [
       "<img src=\"http://www.serebii.net/pokemongo/pokemon/023.png\" width=\"100\" class=\"unconfined\"/>"
      ],
      "text/plain": [
       "<IPython.core.display.Image object>"
      ]
     },
     "metadata": {},
     "output_type": "display_data"
    },
    {
     "name": "stdout",
     "output_type": "stream",
     "text": [
      "#023: Ekans\n",
      "Height: 2.01 m\n",
      "Weight: 6.9 kg\n",
      "Type:  ☠️(Poison)\n",
      "Weaknesses:  🌎(Ground) 🔮(Psychic)\n"
     ]
    },
    {
     "data": {
      "text/html": [
       "<img src=\"http://www.serebii.net/pokemongo/pokemon/024.png\" width=\"100\" class=\"unconfined\"/>"
      ],
      "text/plain": [
       "<IPython.core.display.Image object>"
      ]
     },
     "metadata": {},
     "output_type": "display_data"
    },
    {
     "name": "stdout",
     "output_type": "stream",
     "text": [
      "#024: Arbok\n",
      "Height: 3.51 m\n",
      "Weight: 65.0 kg\n",
      "Type:  ☠️(Poison)\n",
      "Weaknesses:  🌎(Ground) 🔮(Psychic)\n"
     ]
    },
    {
     "data": {
      "text/html": [
       "<img src=\"http://www.serebii.net/pokemongo/pokemon/025.png\" width=\"100\" class=\"unconfined\"/>"
      ],
      "text/plain": [
       "<IPython.core.display.Image object>"
      ]
     },
     "metadata": {},
     "output_type": "display_data"
    },
    {
     "name": "stdout",
     "output_type": "stream",
     "text": [
      "#025: Pikachu\n",
      "Height: 0.41 m\n",
      "Weight: 6.0 kg\n",
      "Type:  ⚡(Electric)\n",
      "Weaknesses:  🌎(Ground)\n"
     ]
    },
    {
     "data": {
      "text/html": [
       "<img src=\"http://www.serebii.net/pokemongo/pokemon/026.png\" width=\"100\" class=\"unconfined\"/>"
      ],
      "text/plain": [
       "<IPython.core.display.Image object>"
      ]
     },
     "metadata": {},
     "output_type": "display_data"
    },
    {
     "name": "stdout",
     "output_type": "stream",
     "text": [
      "#026: Raichu\n",
      "Height: 0.79 m\n",
      "Weight: 30.0 kg\n",
      "Type:  ⚡(Electric)\n",
      "Weaknesses:  🌎(Ground)\n"
     ]
    },
    {
     "data": {
      "text/html": [
       "<img src=\"http://www.serebii.net/pokemongo/pokemon/027.png\" width=\"100\" class=\"unconfined\"/>"
      ],
      "text/plain": [
       "<IPython.core.display.Image object>"
      ]
     },
     "metadata": {},
     "output_type": "display_data"
    },
    {
     "name": "stdout",
     "output_type": "stream",
     "text": [
      "#027: Sandshrew\n",
      "Height: 0.61 m\n",
      "Weight: 12.0 kg\n",
      "Type:  🌎(Ground)\n",
      "Weaknesses:  🌊(Water) 🌱(Grass) ❄️(Ice)\n"
     ]
    },
    {
     "data": {
      "text/html": [
       "<img src=\"http://www.serebii.net/pokemongo/pokemon/028.png\" width=\"100\" class=\"unconfined\"/>"
      ],
      "text/plain": [
       "<IPython.core.display.Image object>"
      ]
     },
     "metadata": {},
     "output_type": "display_data"
    },
    {
     "name": "stdout",
     "output_type": "stream",
     "text": [
      "#028: Sandslash\n",
      "Height: 0.99 m\n",
      "Weight: 29.5 kg\n",
      "Type:  🌎(Ground)\n",
      "Weaknesses:  🌊(Water) 🌱(Grass) ❄️(Ice)\n"
     ]
    },
    {
     "data": {
      "text/html": [
       "<img src=\"http://www.serebii.net/pokemongo/pokemon/029.png\" width=\"100\" class=\"unconfined\"/>"
      ],
      "text/plain": [
       "<IPython.core.display.Image object>"
      ]
     },
     "metadata": {},
     "output_type": "display_data"
    },
    {
     "name": "stdout",
     "output_type": "stream",
     "text": [
      "#029: Nidoran â™€ (Female)\n",
      "Height: 0.41 m\n",
      "Weight: 7.0 kg\n",
      "Type:  ☠️(Poison)\n",
      "Weaknesses:  🌎(Ground) 🔮(Psychic)\n"
     ]
    },
    {
     "data": {
      "text/html": [
       "<img src=\"http://www.serebii.net/pokemongo/pokemon/030.png\" width=\"100\" class=\"unconfined\"/>"
      ],
      "text/plain": [
       "<IPython.core.display.Image object>"
      ]
     },
     "metadata": {},
     "output_type": "display_data"
    },
    {
     "name": "stdout",
     "output_type": "stream",
     "text": [
      "#030: Nidorina\n",
      "Height: 0.79 m\n",
      "Weight: 20.0 kg\n",
      "Type:  ☠️(Poison)\n",
      "Weaknesses:  🌎(Ground) 🔮(Psychic)\n"
     ]
    },
    {
     "data": {
      "text/html": [
       "<img src=\"http://www.serebii.net/pokemongo/pokemon/031.png\" width=\"100\" class=\"unconfined\"/>"
      ],
      "text/plain": [
       "<IPython.core.display.Image object>"
      ]
     },
     "metadata": {},
     "output_type": "display_data"
    },
    {
     "name": "stdout",
     "output_type": "stream",
     "text": [
      "#031: Nidoqueen\n",
      "Height: 1.30 m\n",
      "Weight: 60.0 kg\n",
      "Type:  ☠️(Poison) 🌎(Ground)\n",
      "Weaknesses:  🌊(Water) ❄️(Ice) 🌎(Ground) 🔮(Psychic)\n"
     ]
    },
    {
     "data": {
      "text/html": [
       "<img src=\"http://www.serebii.net/pokemongo/pokemon/032.png\" width=\"100\" class=\"unconfined\"/>"
      ],
      "text/plain": [
       "<IPython.core.display.Image object>"
      ]
     },
     "metadata": {},
     "output_type": "display_data"
    },
    {
     "name": "stdout",
     "output_type": "stream",
     "text": [
      "#032: Nidoran â™‚ (Male)\n",
      "Height: 0.51 m\n",
      "Weight: 9.0 kg\n",
      "Type:  ☠️(Poison)\n",
      "Weaknesses:  🌎(Ground) 🔮(Psychic)\n"
     ]
    },
    {
     "data": {
      "text/html": [
       "<img src=\"http://www.serebii.net/pokemongo/pokemon/033.png\" width=\"100\" class=\"unconfined\"/>"
      ],
      "text/plain": [
       "<IPython.core.display.Image object>"
      ]
     },
     "metadata": {},
     "output_type": "display_data"
    },
    {
     "name": "stdout",
     "output_type": "stream",
     "text": [
      "#033: Nidorino\n",
      "Height: 0.89 m\n",
      "Weight: 19.5 kg\n",
      "Type:  ☠️(Poison)\n",
      "Weaknesses:  🌎(Ground) 🔮(Psychic)\n"
     ]
    },
    {
     "data": {
      "text/html": [
       "<img src=\"http://www.serebii.net/pokemongo/pokemon/034.png\" width=\"100\" class=\"unconfined\"/>"
      ],
      "text/plain": [
       "<IPython.core.display.Image object>"
      ]
     },
     "metadata": {},
     "output_type": "display_data"
    },
    {
     "name": "stdout",
     "output_type": "stream",
     "text": [
      "#034: Nidoking\n",
      "Height: 1.40 m\n",
      "Weight: 62.0 kg\n",
      "Type:  ☠️(Poison) 🌎(Ground)\n",
      "Weaknesses:  🌊(Water) ❄️(Ice) 🌎(Ground) 🔮(Psychic)\n"
     ]
    },
    {
     "data": {
      "text/html": [
       "<img src=\"http://www.serebii.net/pokemongo/pokemon/035.png\" width=\"100\" class=\"unconfined\"/>"
      ],
      "text/plain": [
       "<IPython.core.display.Image object>"
      ]
     },
     "metadata": {},
     "output_type": "display_data"
    },
    {
     "name": "stdout",
     "output_type": "stream",
     "text": [
      "#035: Clefairy\n",
      "Height: 0.61 m\n",
      "Weight: 7.5 kg\n",
      "Type:  🤷(Normal)\n",
      "Weaknesses:  👊(Fighting)\n"
     ]
    },
    {
     "data": {
      "text/html": [
       "<img src=\"http://www.serebii.net/pokemongo/pokemon/036.png\" width=\"100\" class=\"unconfined\"/>"
      ],
      "text/plain": [
       "<IPython.core.display.Image object>"
      ]
     },
     "metadata": {},
     "output_type": "display_data"
    },
    {
     "name": "stdout",
     "output_type": "stream",
     "text": [
      "#036: Clefable\n",
      "Height: 1.30 m\n",
      "Weight: 40.0 kg\n",
      "Type:  🤷(Normal)\n",
      "Weaknesses:  👊(Fighting)\n"
     ]
    },
    {
     "data": {
      "text/html": [
       "<img src=\"http://www.serebii.net/pokemongo/pokemon/037.png\" width=\"100\" class=\"unconfined\"/>"
      ],
      "text/plain": [
       "<IPython.core.display.Image object>"
      ]
     },
     "metadata": {},
     "output_type": "display_data"
    },
    {
     "name": "stdout",
     "output_type": "stream",
     "text": [
      "#037: Vulpix\n",
      "Height: 0.61 m\n",
      "Weight: 9.9 kg\n",
      "Type:  🔥(Fire)\n",
      "Weaknesses:  🌊(Water) 🌎(Ground) 🪨(Rock)\n"
     ]
    },
    {
     "data": {
      "text/html": [
       "<img src=\"http://www.serebii.net/pokemongo/pokemon/038.png\" width=\"100\" class=\"unconfined\"/>"
      ],
      "text/plain": [
       "<IPython.core.display.Image object>"
      ]
     },
     "metadata": {},
     "output_type": "display_data"
    },
    {
     "name": "stdout",
     "output_type": "stream",
     "text": [
      "#038: Ninetales\n",
      "Height: 1.09 m\n",
      "Weight: 19.9 kg\n",
      "Type:  🔥(Fire)\n",
      "Weaknesses:  🌊(Water) 🌎(Ground) 🪨(Rock)\n"
     ]
    },
    {
     "data": {
      "text/html": [
       "<img src=\"http://www.serebii.net/pokemongo/pokemon/039.png\" width=\"100\" class=\"unconfined\"/>"
      ],
      "text/plain": [
       "<IPython.core.display.Image object>"
      ]
     },
     "metadata": {},
     "output_type": "display_data"
    },
    {
     "name": "stdout",
     "output_type": "stream",
     "text": [
      "#039: Jigglypuff\n",
      "Height: 0.51 m\n",
      "Weight: 5.5 kg\n",
      "Type:  🤷(Normal)\n",
      "Weaknesses:  👊(Fighting)\n"
     ]
    },
    {
     "data": {
      "text/html": [
       "<img src=\"http://www.serebii.net/pokemongo/pokemon/040.png\" width=\"100\" class=\"unconfined\"/>"
      ],
      "text/plain": [
       "<IPython.core.display.Image object>"
      ]
     },
     "metadata": {},
     "output_type": "display_data"
    },
    {
     "name": "stdout",
     "output_type": "stream",
     "text": [
      "#040: Wigglytuff\n",
      "Height: 0.99 m\n",
      "Weight: 12.0 kg\n",
      "Type:  🤷(Normal)\n",
      "Weaknesses:  👊(Fighting)\n"
     ]
    },
    {
     "data": {
      "text/html": [
       "<img src=\"http://www.serebii.net/pokemongo/pokemon/041.png\" width=\"100\" class=\"unconfined\"/>"
      ],
      "text/plain": [
       "<IPython.core.display.Image object>"
      ]
     },
     "metadata": {},
     "output_type": "display_data"
    },
    {
     "name": "stdout",
     "output_type": "stream",
     "text": [
      "#041: Zubat\n",
      "Height: 0.79 m\n",
      "Weight: 7.5 kg\n",
      "Type:  ☠️(Poison) 🐦(Flying)\n",
      "Weaknesses:  ⚡(Electric) ❄️(Ice) 🔮(Psychic) 🪨(Rock)\n"
     ]
    },
    {
     "data": {
      "text/html": [
       "<img src=\"http://www.serebii.net/pokemongo/pokemon/042.png\" width=\"100\" class=\"unconfined\"/>"
      ],
      "text/plain": [
       "<IPython.core.display.Image object>"
      ]
     },
     "metadata": {},
     "output_type": "display_data"
    },
    {
     "name": "stdout",
     "output_type": "stream",
     "text": [
      "#042: Golbat\n",
      "Height: 1.60 m\n",
      "Weight: 55.0 kg\n",
      "Type:  ☠️(Poison) 🐦(Flying)\n",
      "Weaknesses:  ⚡(Electric) ❄️(Ice) 🔮(Psychic) 🪨(Rock)\n"
     ]
    },
    {
     "data": {
      "text/html": [
       "<img src=\"http://www.serebii.net/pokemongo/pokemon/043.png\" width=\"100\" class=\"unconfined\"/>"
      ],
      "text/plain": [
       "<IPython.core.display.Image object>"
      ]
     },
     "metadata": {},
     "output_type": "display_data"
    },
    {
     "name": "stdout",
     "output_type": "stream",
     "text": [
      "#043: Oddish\n",
      "Height: 0.51 m\n",
      "Weight: 5.4 kg\n",
      "Type:  🌱(Grass) ☠️(Poison)\n",
      "Weaknesses:  🔥(Fire) ❄️(Ice) 🐦(Flying) 🔮(Psychic)\n"
     ]
    },
    {
     "data": {
      "text/html": [
       "<img src=\"http://www.serebii.net/pokemongo/pokemon/044.png\" width=\"100\" class=\"unconfined\"/>"
      ],
      "text/plain": [
       "<IPython.core.display.Image object>"
      ]
     },
     "metadata": {},
     "output_type": "display_data"
    },
    {
     "name": "stdout",
     "output_type": "stream",
     "text": [
      "#044: Gloom\n",
      "Height: 0.79 m\n",
      "Weight: 8.6 kg\n",
      "Type:  🌱(Grass) ☠️(Poison)\n",
      "Weaknesses:  🔥(Fire) ❄️(Ice) 🐦(Flying) 🔮(Psychic)\n"
     ]
    },
    {
     "data": {
      "text/html": [
       "<img src=\"http://www.serebii.net/pokemongo/pokemon/045.png\" width=\"100\" class=\"unconfined\"/>"
      ],
      "text/plain": [
       "<IPython.core.display.Image object>"
      ]
     },
     "metadata": {},
     "output_type": "display_data"
    },
    {
     "name": "stdout",
     "output_type": "stream",
     "text": [
      "#045: Vileplume\n",
      "Height: 1.19 m\n",
      "Weight: 18.6 kg\n",
      "Type:  🌱(Grass) ☠️(Poison)\n",
      "Weaknesses:  🔥(Fire) ❄️(Ice) 🐦(Flying) 🔮(Psychic)\n"
     ]
    },
    {
     "data": {
      "text/html": [
       "<img src=\"http://www.serebii.net/pokemongo/pokemon/046.png\" width=\"100\" class=\"unconfined\"/>"
      ],
      "text/plain": [
       "<IPython.core.display.Image object>"
      ]
     },
     "metadata": {},
     "output_type": "display_data"
    },
    {
     "name": "stdout",
     "output_type": "stream",
     "text": [
      "#046: Paras\n",
      "Height: 0.30 m\n",
      "Weight: 5.4 kg\n",
      "Type:  🐛(Bug) 🌱(Grass)\n",
      "Weaknesses:  🔥(Fire) ❄️(Ice) ☠️(Poison) 🐦(Flying) 🐛(Bug) 🪨(Rock)\n"
     ]
    },
    {
     "data": {
      "text/html": [
       "<img src=\"http://www.serebii.net/pokemongo/pokemon/047.png\" width=\"100\" class=\"unconfined\"/>"
      ],
      "text/plain": [
       "<IPython.core.display.Image object>"
      ]
     },
     "metadata": {},
     "output_type": "display_data"
    },
    {
     "name": "stdout",
     "output_type": "stream",
     "text": [
      "#047: Parasect\n",
      "Height: 0.99 m\n",
      "Weight: 29.5 kg\n",
      "Type:  🐛(Bug) 🌱(Grass)\n",
      "Weaknesses:  🔥(Fire) ❄️(Ice) ☠️(Poison) 🐦(Flying) 🐛(Bug) 🪨(Rock)\n"
     ]
    },
    {
     "data": {
      "text/html": [
       "<img src=\"http://www.serebii.net/pokemongo/pokemon/048.png\" width=\"100\" class=\"unconfined\"/>"
      ],
      "text/plain": [
       "<IPython.core.display.Image object>"
      ]
     },
     "metadata": {},
     "output_type": "display_data"
    },
    {
     "name": "stdout",
     "output_type": "stream",
     "text": [
      "#048: Venonat\n",
      "Height: 0.99 m\n",
      "Weight: 30.0 kg\n",
      "Type:  🐛(Bug) ☠️(Poison)\n",
      "Weaknesses:  🔥(Fire) 🐦(Flying) 🔮(Psychic) 🪨(Rock)\n"
     ]
    },
    {
     "data": {
      "text/html": [
       "<img src=\"http://www.serebii.net/pokemongo/pokemon/049.png\" width=\"100\" class=\"unconfined\"/>"
      ],
      "text/plain": [
       "<IPython.core.display.Image object>"
      ]
     },
     "metadata": {},
     "output_type": "display_data"
    },
    {
     "name": "stdout",
     "output_type": "stream",
     "text": [
      "#049: Venomoth\n",
      "Height: 1.50 m\n",
      "Weight: 12.5 kg\n",
      "Type:  🐛(Bug) ☠️(Poison)\n",
      "Weaknesses:  🔥(Fire) 🐦(Flying) 🔮(Psychic) 🪨(Rock)\n"
     ]
    },
    {
     "data": {
      "text/html": [
       "<img src=\"http://www.serebii.net/pokemongo/pokemon/050.png\" width=\"100\" class=\"unconfined\"/>"
      ],
      "text/plain": [
       "<IPython.core.display.Image object>"
      ]
     },
     "metadata": {},
     "output_type": "display_data"
    },
    {
     "name": "stdout",
     "output_type": "stream",
     "text": [
      "#050: Diglett\n",
      "Height: 0.20 m\n",
      "Weight: 0.8 kg\n",
      "Type:  🌎(Ground)\n",
      "Weaknesses:  🌊(Water) 🌱(Grass) ❄️(Ice)\n"
     ]
    },
    {
     "data": {
      "text/html": [
       "<img src=\"http://www.serebii.net/pokemongo/pokemon/051.png\" width=\"100\" class=\"unconfined\"/>"
      ],
      "text/plain": [
       "<IPython.core.display.Image object>"
      ]
     },
     "metadata": {},
     "output_type": "display_data"
    },
    {
     "name": "stdout",
     "output_type": "stream",
     "text": [
      "#051: Dugtrio\n",
      "Height: 0.71 m\n",
      "Weight: 33.3 kg\n",
      "Type:  🌎(Ground)\n",
      "Weaknesses:  🌊(Water) 🌱(Grass) ❄️(Ice)\n"
     ]
    },
    {
     "data": {
      "text/html": [
       "<img src=\"http://www.serebii.net/pokemongo/pokemon/052.png\" width=\"100\" class=\"unconfined\"/>"
      ],
      "text/plain": [
       "<IPython.core.display.Image object>"
      ]
     },
     "metadata": {},
     "output_type": "display_data"
    },
    {
     "name": "stdout",
     "output_type": "stream",
     "text": [
      "#052: Meowth\n",
      "Height: 0.41 m\n",
      "Weight: 4.2 kg\n",
      "Type:  🤷(Normal)\n",
      "Weaknesses:  👊(Fighting)\n"
     ]
    },
    {
     "data": {
      "text/html": [
       "<img src=\"http://www.serebii.net/pokemongo/pokemon/053.png\" width=\"100\" class=\"unconfined\"/>"
      ],
      "text/plain": [
       "<IPython.core.display.Image object>"
      ]
     },
     "metadata": {},
     "output_type": "display_data"
    },
    {
     "name": "stdout",
     "output_type": "stream",
     "text": [
      "#053: Persian\n",
      "Height: 0.99 m\n",
      "Weight: 32.0 kg\n",
      "Type:  🤷(Normal)\n",
      "Weaknesses:  👊(Fighting)\n"
     ]
    },
    {
     "data": {
      "text/html": [
       "<img src=\"http://www.serebii.net/pokemongo/pokemon/054.png\" width=\"100\" class=\"unconfined\"/>"
      ],
      "text/plain": [
       "<IPython.core.display.Image object>"
      ]
     },
     "metadata": {},
     "output_type": "display_data"
    },
    {
     "name": "stdout",
     "output_type": "stream",
     "text": [
      "#054: Psyduck\n",
      "Height: 0.79 m\n",
      "Weight: 19.6 kg\n",
      "Type:  🌊(Water)\n",
      "Weaknesses:  ⚡(Electric) 🌱(Grass)\n"
     ]
    },
    {
     "data": {
      "text/html": [
       "<img src=\"http://www.serebii.net/pokemongo/pokemon/055.png\" width=\"100\" class=\"unconfined\"/>"
      ],
      "text/plain": [
       "<IPython.core.display.Image object>"
      ]
     },
     "metadata": {},
     "output_type": "display_data"
    },
    {
     "name": "stdout",
     "output_type": "stream",
     "text": [
      "#055: Golduck\n",
      "Height: 1.70 m\n",
      "Weight: 76.6 kg\n",
      "Type:  🌊(Water)\n",
      "Weaknesses:  ⚡(Electric) 🌱(Grass)\n"
     ]
    },
    {
     "data": {
      "text/html": [
       "<img src=\"http://www.serebii.net/pokemongo/pokemon/056.png\" width=\"100\" class=\"unconfined\"/>"
      ],
      "text/plain": [
       "<IPython.core.display.Image object>"
      ]
     },
     "metadata": {},
     "output_type": "display_data"
    },
    {
     "name": "stdout",
     "output_type": "stream",
     "text": [
      "#056: Mankey\n",
      "Height: 0.51 m\n",
      "Weight: 28.0 kg\n",
      "Type:  👊(Fighting)\n",
      "Weaknesses:  🐦(Flying) 🔮(Psychic) 🧚(Fairy)\n"
     ]
    },
    {
     "data": {
      "text/html": [
       "<img src=\"http://www.serebii.net/pokemongo/pokemon/057.png\" width=\"100\" class=\"unconfined\"/>"
      ],
      "text/plain": [
       "<IPython.core.display.Image object>"
      ]
     },
     "metadata": {},
     "output_type": "display_data"
    },
    {
     "name": "stdout",
     "output_type": "stream",
     "text": [
      "#057: Primeape\n",
      "Height: 0.99 m\n",
      "Weight: 32.0 kg\n",
      "Type:  👊(Fighting)\n",
      "Weaknesses:  🐦(Flying) 🔮(Psychic) 🧚(Fairy)\n"
     ]
    },
    {
     "data": {
      "text/html": [
       "<img src=\"http://www.serebii.net/pokemongo/pokemon/058.png\" width=\"100\" class=\"unconfined\"/>"
      ],
      "text/plain": [
       "<IPython.core.display.Image object>"
      ]
     },
     "metadata": {},
     "output_type": "display_data"
    },
    {
     "name": "stdout",
     "output_type": "stream",
     "text": [
      "#058: Growlithe\n",
      "Height: 0.71 m\n",
      "Weight: 19.0 kg\n",
      "Type:  🔥(Fire)\n",
      "Weaknesses:  🌊(Water) 🌎(Ground) 🪨(Rock)\n"
     ]
    },
    {
     "data": {
      "text/html": [
       "<img src=\"http://www.serebii.net/pokemongo/pokemon/059.png\" width=\"100\" class=\"unconfined\"/>"
      ],
      "text/plain": [
       "<IPython.core.display.Image object>"
      ]
     },
     "metadata": {},
     "output_type": "display_data"
    },
    {
     "name": "stdout",
     "output_type": "stream",
     "text": [
      "#059: Arcanine\n",
      "Height: 1.91 m\n",
      "Weight: 155.0 kg\n",
      "Type:  🔥(Fire)\n",
      "Weaknesses:  🌊(Water) 🌎(Ground) 🪨(Rock)\n"
     ]
    },
    {
     "data": {
      "text/html": [
       "<img src=\"http://www.serebii.net/pokemongo/pokemon/060.png\" width=\"100\" class=\"unconfined\"/>"
      ],
      "text/plain": [
       "<IPython.core.display.Image object>"
      ]
     },
     "metadata": {},
     "output_type": "display_data"
    },
    {
     "name": "stdout",
     "output_type": "stream",
     "text": [
      "#060: Poliwag\n",
      "Height: 0.61 m\n",
      "Weight: 12.4 kg\n",
      "Type:  🌊(Water)\n",
      "Weaknesses:  ⚡(Electric) 🌱(Grass)\n"
     ]
    },
    {
     "data": {
      "text/html": [
       "<img src=\"http://www.serebii.net/pokemongo/pokemon/061.png\" width=\"100\" class=\"unconfined\"/>"
      ],
      "text/plain": [
       "<IPython.core.display.Image object>"
      ]
     },
     "metadata": {},
     "output_type": "display_data"
    },
    {
     "name": "stdout",
     "output_type": "stream",
     "text": [
      "#061: Poliwhirl\n",
      "Height: 0.99 m\n",
      "Weight: 20.0 kg\n",
      "Type:  🌊(Water)\n",
      "Weaknesses:  ⚡(Electric) 🌱(Grass)\n"
     ]
    },
    {
     "data": {
      "text/html": [
       "<img src=\"http://www.serebii.net/pokemongo/pokemon/062.png\" width=\"100\" class=\"unconfined\"/>"
      ],
      "text/plain": [
       "<IPython.core.display.Image object>"
      ]
     },
     "metadata": {},
     "output_type": "display_data"
    },
    {
     "name": "stdout",
     "output_type": "stream",
     "text": [
      "#062: Poliwrath\n",
      "Height: 1.30 m\n",
      "Weight: 54.0 kg\n",
      "Type:  🌊(Water) 👊(Fighting)\n",
      "Weaknesses:  ⚡(Electric) 🌱(Grass) 🐦(Flying) 🔮(Psychic) 🧚(Fairy)\n"
     ]
    },
    {
     "data": {
      "text/html": [
       "<img src=\"http://www.serebii.net/pokemongo/pokemon/063.png\" width=\"100\" class=\"unconfined\"/>"
      ],
      "text/plain": [
       "<IPython.core.display.Image object>"
      ]
     },
     "metadata": {},
     "output_type": "display_data"
    },
    {
     "name": "stdout",
     "output_type": "stream",
     "text": [
      "#063: Abra\n",
      "Height: 0.89 m\n",
      "Weight: 19.5 kg\n",
      "Type:  🔮(Psychic)\n",
      "Weaknesses:  🐛(Bug) 👻(Ghost) 🕶️(Dark)\n"
     ]
    },
    {
     "data": {
      "text/html": [
       "<img src=\"http://www.serebii.net/pokemongo/pokemon/064.png\" width=\"100\" class=\"unconfined\"/>"
      ],
      "text/plain": [
       "<IPython.core.display.Image object>"
      ]
     },
     "metadata": {},
     "output_type": "display_data"
    },
    {
     "name": "stdout",
     "output_type": "stream",
     "text": [
      "#064: Kadabra\n",
      "Height: 1.30 m\n",
      "Weight: 56.5 kg\n",
      "Type:  🔮(Psychic)\n",
      "Weaknesses:  🐛(Bug) 👻(Ghost) 🕶️(Dark)\n"
     ]
    },
    {
     "data": {
      "text/html": [
       "<img src=\"http://www.serebii.net/pokemongo/pokemon/065.png\" width=\"100\" class=\"unconfined\"/>"
      ],
      "text/plain": [
       "<IPython.core.display.Image object>"
      ]
     },
     "metadata": {},
     "output_type": "display_data"
    },
    {
     "name": "stdout",
     "output_type": "stream",
     "text": [
      "#065: Alakazam\n",
      "Height: 1.50 m\n",
      "Weight: 48.0 kg\n",
      "Type:  🔮(Psychic)\n",
      "Weaknesses:  🐛(Bug) 👻(Ghost) 🕶️(Dark)\n"
     ]
    },
    {
     "data": {
      "text/html": [
       "<img src=\"http://www.serebii.net/pokemongo/pokemon/066.png\" width=\"100\" class=\"unconfined\"/>"
      ],
      "text/plain": [
       "<IPython.core.display.Image object>"
      ]
     },
     "metadata": {},
     "output_type": "display_data"
    },
    {
     "name": "stdout",
     "output_type": "stream",
     "text": [
      "#066: Machop\n",
      "Height: 0.79 m\n",
      "Weight: 19.5 kg\n",
      "Type:  👊(Fighting)\n",
      "Weaknesses:  🐦(Flying) 🔮(Psychic) 🧚(Fairy)\n"
     ]
    },
    {
     "data": {
      "text/html": [
       "<img src=\"http://www.serebii.net/pokemongo/pokemon/067.png\" width=\"100\" class=\"unconfined\"/>"
      ],
      "text/plain": [
       "<IPython.core.display.Image object>"
      ]
     },
     "metadata": {},
     "output_type": "display_data"
    },
    {
     "name": "stdout",
     "output_type": "stream",
     "text": [
      "#067: Machoke\n",
      "Height: 1.50 m\n",
      "Weight: 70.5 kg\n",
      "Type:  👊(Fighting)\n",
      "Weaknesses:  🐦(Flying) 🔮(Psychic) 🧚(Fairy)\n"
     ]
    },
    {
     "data": {
      "text/html": [
       "<img src=\"http://www.serebii.net/pokemongo/pokemon/068.png\" width=\"100\" class=\"unconfined\"/>"
      ],
      "text/plain": [
       "<IPython.core.display.Image object>"
      ]
     },
     "metadata": {},
     "output_type": "display_data"
    },
    {
     "name": "stdout",
     "output_type": "stream",
     "text": [
      "#068: Machamp\n",
      "Height: 1.60 m\n",
      "Weight: 130.0 kg\n",
      "Type:  👊(Fighting)\n",
      "Weaknesses:  🐦(Flying) 🔮(Psychic) 🧚(Fairy)\n"
     ]
    },
    {
     "data": {
      "text/html": [
       "<img src=\"http://www.serebii.net/pokemongo/pokemon/069.png\" width=\"100\" class=\"unconfined\"/>"
      ],
      "text/plain": [
       "<IPython.core.display.Image object>"
      ]
     },
     "metadata": {},
     "output_type": "display_data"
    },
    {
     "name": "stdout",
     "output_type": "stream",
     "text": [
      "#069: Bellsprout\n",
      "Height: 0.71 m\n",
      "Weight: 4.0 kg\n",
      "Type:  🌱(Grass) ☠️(Poison)\n",
      "Weaknesses:  🔥(Fire) ❄️(Ice) 🐦(Flying) 🔮(Psychic)\n"
     ]
    },
    {
     "data": {
      "text/html": [
       "<img src=\"http://www.serebii.net/pokemongo/pokemon/070.png\" width=\"100\" class=\"unconfined\"/>"
      ],
      "text/plain": [
       "<IPython.core.display.Image object>"
      ]
     },
     "metadata": {},
     "output_type": "display_data"
    },
    {
     "name": "stdout",
     "output_type": "stream",
     "text": [
      "#070: Weepinbell\n",
      "Height: 0.99 m\n",
      "Weight: 6.4 kg\n",
      "Type:  🌱(Grass) ☠️(Poison)\n",
      "Weaknesses:  🔥(Fire) ❄️(Ice) 🐦(Flying) 🔮(Psychic)\n"
     ]
    },
    {
     "data": {
      "text/html": [
       "<img src=\"http://www.serebii.net/pokemongo/pokemon/071.png\" width=\"100\" class=\"unconfined\"/>"
      ],
      "text/plain": [
       "<IPython.core.display.Image object>"
      ]
     },
     "metadata": {},
     "output_type": "display_data"
    },
    {
     "name": "stdout",
     "output_type": "stream",
     "text": [
      "#071: Victreebel\n",
      "Height: 1.70 m\n",
      "Weight: 15.5 kg\n",
      "Type:  🌱(Grass) ☠️(Poison)\n",
      "Weaknesses:  🔥(Fire) ❄️(Ice) 🐦(Flying) 🔮(Psychic)\n"
     ]
    },
    {
     "data": {
      "text/html": [
       "<img src=\"http://www.serebii.net/pokemongo/pokemon/072.png\" width=\"100\" class=\"unconfined\"/>"
      ],
      "text/plain": [
       "<IPython.core.display.Image object>"
      ]
     },
     "metadata": {},
     "output_type": "display_data"
    },
    {
     "name": "stdout",
     "output_type": "stream",
     "text": [
      "#072: Tentacool\n",
      "Height: 0.89 m\n",
      "Weight: 45.5 kg\n",
      "Type:  🌊(Water) ☠️(Poison)\n",
      "Weaknesses:  ⚡(Electric) 🌎(Ground) 🔮(Psychic)\n"
     ]
    },
    {
     "data": {
      "text/html": [
       "<img src=\"http://www.serebii.net/pokemongo/pokemon/073.png\" width=\"100\" class=\"unconfined\"/>"
      ],
      "text/plain": [
       "<IPython.core.display.Image object>"
      ]
     },
     "metadata": {},
     "output_type": "display_data"
    },
    {
     "name": "stdout",
     "output_type": "stream",
     "text": [
      "#073: Tentacruel\n",
      "Height: 1.60 m\n",
      "Weight: 55.0 kg\n",
      "Type:  🌊(Water) ☠️(Poison)\n",
      "Weaknesses:  ⚡(Electric) 🌎(Ground) 🔮(Psychic)\n"
     ]
    },
    {
     "data": {
      "text/html": [
       "<img src=\"http://www.serebii.net/pokemongo/pokemon/074.png\" width=\"100\" class=\"unconfined\"/>"
      ],
      "text/plain": [
       "<IPython.core.display.Image object>"
      ]
     },
     "metadata": {},
     "output_type": "display_data"
    },
    {
     "name": "stdout",
     "output_type": "stream",
     "text": [
      "#074: Geodude\n",
      "Height: 0.41 m\n",
      "Weight: 20.0 kg\n",
      "Type:  🪨(Rock) 🌎(Ground)\n",
      "Weaknesses:  🌊(Water) 🌱(Grass) ❄️(Ice) 👊(Fighting) 🌎(Ground) 🤷(Steel)\n"
     ]
    },
    {
     "data": {
      "text/html": [
       "<img src=\"http://www.serebii.net/pokemongo/pokemon/075.png\" width=\"100\" class=\"unconfined\"/>"
      ],
      "text/plain": [
       "<IPython.core.display.Image object>"
      ]
     },
     "metadata": {},
     "output_type": "display_data"
    },
    {
     "name": "stdout",
     "output_type": "stream",
     "text": [
      "#075: Graveler\n",
      "Height: 0.99 m\n",
      "Weight: 105.0 kg\n",
      "Type:  🪨(Rock) 🌎(Ground)\n",
      "Weaknesses:  🌊(Water) 🌱(Grass) ❄️(Ice) 👊(Fighting) 🌎(Ground) 🤷(Steel)\n"
     ]
    },
    {
     "data": {
      "text/html": [
       "<img src=\"http://www.serebii.net/pokemongo/pokemon/076.png\" width=\"100\" class=\"unconfined\"/>"
      ],
      "text/plain": [
       "<IPython.core.display.Image object>"
      ]
     },
     "metadata": {},
     "output_type": "display_data"
    },
    {
     "name": "stdout",
     "output_type": "stream",
     "text": [
      "#076: Golem\n",
      "Height: 1.40 m\n",
      "Weight: 300.0 kg\n",
      "Type:  🪨(Rock) 🌎(Ground)\n",
      "Weaknesses:  🌊(Water) 🌱(Grass) ❄️(Ice) 👊(Fighting) 🌎(Ground) 🤷(Steel)\n"
     ]
    },
    {
     "data": {
      "text/html": [
       "<img src=\"http://www.serebii.net/pokemongo/pokemon/077.png\" width=\"100\" class=\"unconfined\"/>"
      ],
      "text/plain": [
       "<IPython.core.display.Image object>"
      ]
     },
     "metadata": {},
     "output_type": "display_data"
    },
    {
     "name": "stdout",
     "output_type": "stream",
     "text": [
      "#077: Ponyta\n",
      "Height: 0.99 m\n",
      "Weight: 30.0 kg\n",
      "Type:  🔥(Fire)\n",
      "Weaknesses:  🌊(Water) 🌎(Ground) 🪨(Rock)\n"
     ]
    },
    {
     "data": {
      "text/html": [
       "<img src=\"http://www.serebii.net/pokemongo/pokemon/078.png\" width=\"100\" class=\"unconfined\"/>"
      ],
      "text/plain": [
       "<IPython.core.display.Image object>"
      ]
     },
     "metadata": {},
     "output_type": "display_data"
    },
    {
     "name": "stdout",
     "output_type": "stream",
     "text": [
      "#078: Rapidash\n",
      "Height: 1.70 m\n",
      "Weight: 95.0 kg\n",
      "Type:  🔥(Fire)\n",
      "Weaknesses:  🌊(Water) 🌎(Ground) 🪨(Rock)\n"
     ]
    },
    {
     "data": {
      "text/html": [
       "<img src=\"http://www.serebii.net/pokemongo/pokemon/079.png\" width=\"100\" class=\"unconfined\"/>"
      ],
      "text/plain": [
       "<IPython.core.display.Image object>"
      ]
     },
     "metadata": {},
     "output_type": "display_data"
    },
    {
     "name": "stdout",
     "output_type": "stream",
     "text": [
      "#079: Slowpoke\n",
      "Height: 1.19 m\n",
      "Weight: 36.0 kg\n",
      "Type:  🌊(Water) 🔮(Psychic)\n",
      "Weaknesses:  ⚡(Electric) 🌱(Grass) 🐛(Bug) 👻(Ghost) 🕶️(Dark)\n"
     ]
    },
    {
     "data": {
      "text/html": [
       "<img src=\"http://www.serebii.net/pokemongo/pokemon/080.png\" width=\"100\" class=\"unconfined\"/>"
      ],
      "text/plain": [
       "<IPython.core.display.Image object>"
      ]
     },
     "metadata": {},
     "output_type": "display_data"
    },
    {
     "name": "stdout",
     "output_type": "stream",
     "text": [
      "#080: Slowbro\n",
      "Height: 1.60 m\n",
      "Weight: 78.5 kg\n",
      "Type:  🌊(Water) 🔮(Psychic)\n",
      "Weaknesses:  ⚡(Electric) 🌱(Grass) 🐛(Bug) 👻(Ghost) 🕶️(Dark)\n"
     ]
    },
    {
     "data": {
      "text/html": [
       "<img src=\"http://www.serebii.net/pokemongo/pokemon/081.png\" width=\"100\" class=\"unconfined\"/>"
      ],
      "text/plain": [
       "<IPython.core.display.Image object>"
      ]
     },
     "metadata": {},
     "output_type": "display_data"
    },
    {
     "name": "stdout",
     "output_type": "stream",
     "text": [
      "#081: Magnemite\n",
      "Height: 0.30 m\n",
      "Weight: 6.0 kg\n",
      "Type:  ⚡(Electric)\n",
      "Weaknesses:  🔥(Fire) 🌊(Water) 🌎(Ground)\n"
     ]
    },
    {
     "data": {
      "text/html": [
       "<img src=\"http://www.serebii.net/pokemongo/pokemon/082.png\" width=\"100\" class=\"unconfined\"/>"
      ],
      "text/plain": [
       "<IPython.core.display.Image object>"
      ]
     },
     "metadata": {},
     "output_type": "display_data"
    },
    {
     "name": "stdout",
     "output_type": "stream",
     "text": [
      "#082: Magneton\n",
      "Height: 0.99 m\n",
      "Weight: 60.0 kg\n",
      "Type:  ⚡(Electric)\n",
      "Weaknesses:  🔥(Fire) 🌊(Water) 🌎(Ground)\n"
     ]
    },
    {
     "data": {
      "text/html": [
       "<img src=\"http://www.serebii.net/pokemongo/pokemon/083.png\" width=\"100\" class=\"unconfined\"/>"
      ],
      "text/plain": [
       "<IPython.core.display.Image object>"
      ]
     },
     "metadata": {},
     "output_type": "display_data"
    },
    {
     "name": "stdout",
     "output_type": "stream",
     "text": [
      "#083: Farfetch'd\n",
      "Height: 0.79 m\n",
      "Weight: 15.0 kg\n",
      "Type:  🤷(Normal) 🐦(Flying)\n",
      "Weaknesses:  ⚡(Electric) 🪨(Rock)\n"
     ]
    },
    {
     "data": {
      "text/html": [
       "<img src=\"http://www.serebii.net/pokemongo/pokemon/084.png\" width=\"100\" class=\"unconfined\"/>"
      ],
      "text/plain": [
       "<IPython.core.display.Image object>"
      ]
     },
     "metadata": {},
     "output_type": "display_data"
    },
    {
     "name": "stdout",
     "output_type": "stream",
     "text": [
      "#084: Doduo\n",
      "Height: 1.40 m\n",
      "Weight: 39.2 kg\n",
      "Type:  🤷(Normal) 🐦(Flying)\n",
      "Weaknesses:  ⚡(Electric) 🪨(Rock)\n"
     ]
    },
    {
     "data": {
      "text/html": [
       "<img src=\"http://www.serebii.net/pokemongo/pokemon/085.png\" width=\"100\" class=\"unconfined\"/>"
      ],
      "text/plain": [
       "<IPython.core.display.Image object>"
      ]
     },
     "metadata": {},
     "output_type": "display_data"
    },
    {
     "name": "stdout",
     "output_type": "stream",
     "text": [
      "#085: Dodrio\n",
      "Height: 1.80 m\n",
      "Weight: 85.2 kg\n",
      "Type:  🤷(Normal) 🐦(Flying)\n",
      "Weaknesses:  ⚡(Electric) 🪨(Rock)\n"
     ]
    },
    {
     "data": {
      "text/html": [
       "<img src=\"http://www.serebii.net/pokemongo/pokemon/086.png\" width=\"100\" class=\"unconfined\"/>"
      ],
      "text/plain": [
       "<IPython.core.display.Image object>"
      ]
     },
     "metadata": {},
     "output_type": "display_data"
    },
    {
     "name": "stdout",
     "output_type": "stream",
     "text": [
      "#086: Seel\n",
      "Height: 1.09 m\n",
      "Weight: 90.0 kg\n",
      "Type:  🌊(Water)\n",
      "Weaknesses:  ⚡(Electric) 🌱(Grass)\n"
     ]
    },
    {
     "data": {
      "text/html": [
       "<img src=\"http://www.serebii.net/pokemongo/pokemon/087.png\" width=\"100\" class=\"unconfined\"/>"
      ],
      "text/plain": [
       "<IPython.core.display.Image object>"
      ]
     },
     "metadata": {},
     "output_type": "display_data"
    },
    {
     "name": "stdout",
     "output_type": "stream",
     "text": [
      "#087: Dewgong\n",
      "Height: 1.70 m\n",
      "Weight: 120.0 kg\n",
      "Type:  🌊(Water) ❄️(Ice)\n",
      "Weaknesses:  ⚡(Electric) 🌱(Grass) 👊(Fighting) 🪨(Rock)\n"
     ]
    },
    {
     "data": {
      "text/html": [
       "<img src=\"http://www.serebii.net/pokemongo/pokemon/088.png\" width=\"100\" class=\"unconfined\"/>"
      ],
      "text/plain": [
       "<IPython.core.display.Image object>"
      ]
     },
     "metadata": {},
     "output_type": "display_data"
    },
    {
     "name": "stdout",
     "output_type": "stream",
     "text": [
      "#088: Grimer\n",
      "Height: 0.89 m\n",
      "Weight: 30.0 kg\n",
      "Type:  ☠️(Poison)\n",
      "Weaknesses:  🌎(Ground) 🔮(Psychic)\n"
     ]
    },
    {
     "data": {
      "text/html": [
       "<img src=\"http://www.serebii.net/pokemongo/pokemon/089.png\" width=\"100\" class=\"unconfined\"/>"
      ],
      "text/plain": [
       "<IPython.core.display.Image object>"
      ]
     },
     "metadata": {},
     "output_type": "display_data"
    },
    {
     "name": "stdout",
     "output_type": "stream",
     "text": [
      "#089: Muk\n",
      "Height: 1.19 m\n",
      "Weight: 30.0 kg\n",
      "Type:  ☠️(Poison)\n",
      "Weaknesses:  🌎(Ground) 🔮(Psychic)\n"
     ]
    },
    {
     "data": {
      "text/html": [
       "<img src=\"http://www.serebii.net/pokemongo/pokemon/090.png\" width=\"100\" class=\"unconfined\"/>"
      ],
      "text/plain": [
       "<IPython.core.display.Image object>"
      ]
     },
     "metadata": {},
     "output_type": "display_data"
    },
    {
     "name": "stdout",
     "output_type": "stream",
     "text": [
      "#090: Shellder\n",
      "Height: 0.30 m\n",
      "Weight: 4.0 kg\n",
      "Type:  🌊(Water)\n",
      "Weaknesses:  ⚡(Electric) 🌱(Grass)\n"
     ]
    },
    {
     "data": {
      "text/html": [
       "<img src=\"http://www.serebii.net/pokemongo/pokemon/091.png\" width=\"100\" class=\"unconfined\"/>"
      ],
      "text/plain": [
       "<IPython.core.display.Image object>"
      ]
     },
     "metadata": {},
     "output_type": "display_data"
    },
    {
     "name": "stdout",
     "output_type": "stream",
     "text": [
      "#091: Cloyster\n",
      "Height: 1.50 m\n",
      "Weight: 132.5 kg\n",
      "Type:  🌊(Water) ❄️(Ice)\n",
      "Weaknesses:  ⚡(Electric) 🌱(Grass) 👊(Fighting) 🪨(Rock)\n"
     ]
    },
    {
     "data": {
      "text/html": [
       "<img src=\"http://www.serebii.net/pokemongo/pokemon/092.png\" width=\"100\" class=\"unconfined\"/>"
      ],
      "text/plain": [
       "<IPython.core.display.Image object>"
      ]
     },
     "metadata": {},
     "output_type": "display_data"
    },
    {
     "name": "stdout",
     "output_type": "stream",
     "text": [
      "#092: Gastly\n",
      "Height: 1.30 m\n",
      "Weight: 0.1 kg\n",
      "Type:  👻(Ghost) ☠️(Poison)\n",
      "Weaknesses:  🌎(Ground) 🔮(Psychic) 👻(Ghost) 🕶️(Dark)\n"
     ]
    },
    {
     "data": {
      "text/html": [
       "<img src=\"http://www.serebii.net/pokemongo/pokemon/093.png\" width=\"100\" class=\"unconfined\"/>"
      ],
      "text/plain": [
       "<IPython.core.display.Image object>"
      ]
     },
     "metadata": {},
     "output_type": "display_data"
    },
    {
     "name": "stdout",
     "output_type": "stream",
     "text": [
      "#093: Haunter\n",
      "Height: 1.60 m\n",
      "Weight: 0.1 kg\n",
      "Type:  👻(Ghost) ☠️(Poison)\n",
      "Weaknesses:  🌎(Ground) 🔮(Psychic) 👻(Ghost) 🕶️(Dark)\n"
     ]
    },
    {
     "data": {
      "text/html": [
       "<img src=\"http://www.serebii.net/pokemongo/pokemon/094.png\" width=\"100\" class=\"unconfined\"/>"
      ],
      "text/plain": [
       "<IPython.core.display.Image object>"
      ]
     },
     "metadata": {},
     "output_type": "display_data"
    },
    {
     "name": "stdout",
     "output_type": "stream",
     "text": [
      "#094: Gengar\n",
      "Height: 1.50 m\n",
      "Weight: 40.5 kg\n",
      "Type:  👻(Ghost) ☠️(Poison)\n",
      "Weaknesses:  🌎(Ground) 🔮(Psychic) 👻(Ghost) 🕶️(Dark)\n"
     ]
    },
    {
     "data": {
      "text/html": [
       "<img src=\"http://www.serebii.net/pokemongo/pokemon/095.png\" width=\"100\" class=\"unconfined\"/>"
      ],
      "text/plain": [
       "<IPython.core.display.Image object>"
      ]
     },
     "metadata": {},
     "output_type": "display_data"
    },
    {
     "name": "stdout",
     "output_type": "stream",
     "text": [
      "#095: Onix\n",
      "Height: 8.79 m\n",
      "Weight: 210.0 kg\n",
      "Type:  🪨(Rock) 🌎(Ground)\n",
      "Weaknesses:  🌊(Water) 🌱(Grass) ❄️(Ice) 👊(Fighting) 🌎(Ground) 🤷(Steel)\n"
     ]
    },
    {
     "data": {
      "text/html": [
       "<img src=\"http://www.serebii.net/pokemongo/pokemon/096.png\" width=\"100\" class=\"unconfined\"/>"
      ],
      "text/plain": [
       "<IPython.core.display.Image object>"
      ]
     },
     "metadata": {},
     "output_type": "display_data"
    },
    {
     "name": "stdout",
     "output_type": "stream",
     "text": [
      "#096: Drowzee\n",
      "Height: 0.99 m\n",
      "Weight: 32.4 kg\n",
      "Type:  🔮(Psychic)\n",
      "Weaknesses:  🐛(Bug) 👻(Ghost) 🕶️(Dark)\n"
     ]
    },
    {
     "data": {
      "text/html": [
       "<img src=\"http://www.serebii.net/pokemongo/pokemon/097.png\" width=\"100\" class=\"unconfined\"/>"
      ],
      "text/plain": [
       "<IPython.core.display.Image object>"
      ]
     },
     "metadata": {},
     "output_type": "display_data"
    },
    {
     "name": "stdout",
     "output_type": "stream",
     "text": [
      "#097: Hypno\n",
      "Height: 1.60 m\n",
      "Weight: 75.6 kg\n",
      "Type:  🔮(Psychic)\n",
      "Weaknesses:  🐛(Bug) 👻(Ghost) 🕶️(Dark)\n"
     ]
    },
    {
     "data": {
      "text/html": [
       "<img src=\"http://www.serebii.net/pokemongo/pokemon/098.png\" width=\"100\" class=\"unconfined\"/>"
      ],
      "text/plain": [
       "<IPython.core.display.Image object>"
      ]
     },
     "metadata": {},
     "output_type": "display_data"
    },
    {
     "name": "stdout",
     "output_type": "stream",
     "text": [
      "#098: Krabby\n",
      "Height: 0.41 m\n",
      "Weight: 6.5 kg\n",
      "Type:  🌊(Water)\n",
      "Weaknesses:  ⚡(Electric) 🌱(Grass)\n"
     ]
    },
    {
     "data": {
      "text/html": [
       "<img src=\"http://www.serebii.net/pokemongo/pokemon/099.png\" width=\"100\" class=\"unconfined\"/>"
      ],
      "text/plain": [
       "<IPython.core.display.Image object>"
      ]
     },
     "metadata": {},
     "output_type": "display_data"
    },
    {
     "name": "stdout",
     "output_type": "stream",
     "text": [
      "#099: Kingler\n",
      "Height: 1.30 m\n",
      "Weight: 60.0 kg\n",
      "Type:  🌊(Water)\n",
      "Weaknesses:  ⚡(Electric) 🌱(Grass)\n"
     ]
    },
    {
     "data": {
      "text/html": [
       "<img src=\"http://www.serebii.net/pokemongo/pokemon/100.png\" width=\"100\" class=\"unconfined\"/>"
      ],
      "text/plain": [
       "<IPython.core.display.Image object>"
      ]
     },
     "metadata": {},
     "output_type": "display_data"
    },
    {
     "name": "stdout",
     "output_type": "stream",
     "text": [
      "#100: Voltorb\n",
      "Height: 0.51 m\n",
      "Weight: 10.4 kg\n",
      "Type:  ⚡(Electric)\n",
      "Weaknesses:  🌎(Ground)\n"
     ]
    },
    {
     "data": {
      "text/html": [
       "<img src=\"http://www.serebii.net/pokemongo/pokemon/101.png\" width=\"100\" class=\"unconfined\"/>"
      ],
      "text/plain": [
       "<IPython.core.display.Image object>"
      ]
     },
     "metadata": {},
     "output_type": "display_data"
    },
    {
     "name": "stdout",
     "output_type": "stream",
     "text": [
      "#101: Electrode\n",
      "Height: 1.19 m\n",
      "Weight: 66.6 kg\n",
      "Type:  ⚡(Electric)\n",
      "Weaknesses:  🌎(Ground)\n"
     ]
    },
    {
     "data": {
      "text/html": [
       "<img src=\"http://www.serebii.net/pokemongo/pokemon/102.png\" width=\"100\" class=\"unconfined\"/>"
      ],
      "text/plain": [
       "<IPython.core.display.Image object>"
      ]
     },
     "metadata": {},
     "output_type": "display_data"
    },
    {
     "name": "stdout",
     "output_type": "stream",
     "text": [
      "#102: Exeggcute\n",
      "Height: 0.41 m\n",
      "Weight: 2.5 kg\n",
      "Type:  🌱(Grass) 🔮(Psychic)\n",
      "Weaknesses:  🔥(Fire) ❄️(Ice) ☠️(Poison) 🐦(Flying) 🐛(Bug) 👻(Ghost) 🕶️(Dark)\n"
     ]
    },
    {
     "data": {
      "text/html": [
       "<img src=\"http://www.serebii.net/pokemongo/pokemon/103.png\" width=\"100\" class=\"unconfined\"/>"
      ],
      "text/plain": [
       "<IPython.core.display.Image object>"
      ]
     },
     "metadata": {},
     "output_type": "display_data"
    },
    {
     "name": "stdout",
     "output_type": "stream",
     "text": [
      "#103: Exeggutor\n",
      "Height: 2.01 m\n",
      "Weight: 120.0 kg\n",
      "Type:  🌱(Grass) 🔮(Psychic)\n",
      "Weaknesses:  🔥(Fire) ❄️(Ice) ☠️(Poison) 🐦(Flying) 🐛(Bug) 👻(Ghost) 🕶️(Dark)\n"
     ]
    },
    {
     "data": {
      "text/html": [
       "<img src=\"http://www.serebii.net/pokemongo/pokemon/104.png\" width=\"100\" class=\"unconfined\"/>"
      ],
      "text/plain": [
       "<IPython.core.display.Image object>"
      ]
     },
     "metadata": {},
     "output_type": "display_data"
    },
    {
     "name": "stdout",
     "output_type": "stream",
     "text": [
      "#104: Cubone\n",
      "Height: 0.41 m\n",
      "Weight: 6.5 kg\n",
      "Type:  🌎(Ground)\n",
      "Weaknesses:  🌊(Water) 🌱(Grass) ❄️(Ice)\n"
     ]
    },
    {
     "data": {
      "text/html": [
       "<img src=\"http://www.serebii.net/pokemongo/pokemon/105.png\" width=\"100\" class=\"unconfined\"/>"
      ],
      "text/plain": [
       "<IPython.core.display.Image object>"
      ]
     },
     "metadata": {},
     "output_type": "display_data"
    },
    {
     "name": "stdout",
     "output_type": "stream",
     "text": [
      "#105: Marowak\n",
      "Height: 0.99 m\n",
      "Weight: 45.0 kg\n",
      "Type:  🌎(Ground)\n",
      "Weaknesses:  🌊(Water) 🌱(Grass) ❄️(Ice)\n"
     ]
    },
    {
     "data": {
      "text/html": [
       "<img src=\"http://www.serebii.net/pokemongo/pokemon/106.png\" width=\"100\" class=\"unconfined\"/>"
      ],
      "text/plain": [
       "<IPython.core.display.Image object>"
      ]
     },
     "metadata": {},
     "output_type": "display_data"
    },
    {
     "name": "stdout",
     "output_type": "stream",
     "text": [
      "#106: Hitmonlee\n",
      "Height: 1.50 m\n",
      "Weight: 49.8 kg\n",
      "Type:  👊(Fighting)\n",
      "Weaknesses:  🐦(Flying) 🔮(Psychic) 🧚(Fairy)\n"
     ]
    },
    {
     "data": {
      "text/html": [
       "<img src=\"http://www.serebii.net/pokemongo/pokemon/107.png\" width=\"100\" class=\"unconfined\"/>"
      ],
      "text/plain": [
       "<IPython.core.display.Image object>"
      ]
     },
     "metadata": {},
     "output_type": "display_data"
    },
    {
     "name": "stdout",
     "output_type": "stream",
     "text": [
      "#107: Hitmonchan\n",
      "Height: 1.40 m\n",
      "Weight: 50.2 kg\n",
      "Type:  👊(Fighting)\n",
      "Weaknesses:  🐦(Flying) 🔮(Psychic) 🧚(Fairy)\n"
     ]
    },
    {
     "data": {
      "text/html": [
       "<img src=\"http://www.serebii.net/pokemongo/pokemon/108.png\" width=\"100\" class=\"unconfined\"/>"
      ],
      "text/plain": [
       "<IPython.core.display.Image object>"
      ]
     },
     "metadata": {},
     "output_type": "display_data"
    },
    {
     "name": "stdout",
     "output_type": "stream",
     "text": [
      "#108: Lickitung\n",
      "Height: 1.19 m\n",
      "Weight: 65.5 kg\n",
      "Type:  🤷(Normal)\n",
      "Weaknesses:  👊(Fighting)\n"
     ]
    },
    {
     "data": {
      "text/html": [
       "<img src=\"http://www.serebii.net/pokemongo/pokemon/109.png\" width=\"100\" class=\"unconfined\"/>"
      ],
      "text/plain": [
       "<IPython.core.display.Image object>"
      ]
     },
     "metadata": {},
     "output_type": "display_data"
    },
    {
     "name": "stdout",
     "output_type": "stream",
     "text": [
      "#109: Koffing\n",
      "Height: 0.61 m\n",
      "Weight: 1.0 kg\n",
      "Type:  ☠️(Poison)\n",
      "Weaknesses:  🌎(Ground) 🔮(Psychic)\n"
     ]
    },
    {
     "data": {
      "text/html": [
       "<img src=\"http://www.serebii.net/pokemongo/pokemon/110.png\" width=\"100\" class=\"unconfined\"/>"
      ],
      "text/plain": [
       "<IPython.core.display.Image object>"
      ]
     },
     "metadata": {},
     "output_type": "display_data"
    },
    {
     "name": "stdout",
     "output_type": "stream",
     "text": [
      "#110: Weezing\n",
      "Height: 1.19 m\n",
      "Weight: 9.5 kg\n",
      "Type:  ☠️(Poison)\n",
      "Weaknesses:  🌎(Ground) 🔮(Psychic)\n"
     ]
    },
    {
     "data": {
      "text/html": [
       "<img src=\"http://www.serebii.net/pokemongo/pokemon/111.png\" width=\"100\" class=\"unconfined\"/>"
      ],
      "text/plain": [
       "<IPython.core.display.Image object>"
      ]
     },
     "metadata": {},
     "output_type": "display_data"
    },
    {
     "name": "stdout",
     "output_type": "stream",
     "text": [
      "#111: Rhyhorn\n",
      "Height: 0.99 m\n",
      "Weight: 115.0 kg\n",
      "Type:  🌎(Ground) 🪨(Rock)\n",
      "Weaknesses:  🌊(Water) 🌱(Grass) ❄️(Ice) 👊(Fighting) 🌎(Ground) 🤷(Steel)\n"
     ]
    },
    {
     "data": {
      "text/html": [
       "<img src=\"http://www.serebii.net/pokemongo/pokemon/112.png\" width=\"100\" class=\"unconfined\"/>"
      ],
      "text/plain": [
       "<IPython.core.display.Image object>"
      ]
     },
     "metadata": {},
     "output_type": "display_data"
    },
    {
     "name": "stdout",
     "output_type": "stream",
     "text": [
      "#112: Rhydon\n",
      "Height: 1.91 m\n",
      "Weight: 120.0 kg\n",
      "Type:  🌎(Ground) 🪨(Rock)\n",
      "Weaknesses:  🌊(Water) 🌱(Grass) ❄️(Ice) 👊(Fighting) 🌎(Ground) 🤷(Steel)\n"
     ]
    },
    {
     "data": {
      "text/html": [
       "<img src=\"http://www.serebii.net/pokemongo/pokemon/113.png\" width=\"100\" class=\"unconfined\"/>"
      ],
      "text/plain": [
       "<IPython.core.display.Image object>"
      ]
     },
     "metadata": {},
     "output_type": "display_data"
    },
    {
     "name": "stdout",
     "output_type": "stream",
     "text": [
      "#113: Chansey\n",
      "Height: 1.09 m\n",
      "Weight: 34.6 kg\n",
      "Type:  🤷(Normal)\n",
      "Weaknesses:  👊(Fighting)\n"
     ]
    },
    {
     "data": {
      "text/html": [
       "<img src=\"http://www.serebii.net/pokemongo/pokemon/114.png\" width=\"100\" class=\"unconfined\"/>"
      ],
      "text/plain": [
       "<IPython.core.display.Image object>"
      ]
     },
     "metadata": {},
     "output_type": "display_data"
    },
    {
     "name": "stdout",
     "output_type": "stream",
     "text": [
      "#114: Tangela\n",
      "Height: 0.99 m\n",
      "Weight: 35.0 kg\n",
      "Type:  🌱(Grass)\n",
      "Weaknesses:  🔥(Fire) ❄️(Ice) ☠️(Poison) 🐦(Flying) 🐛(Bug)\n"
     ]
    },
    {
     "data": {
      "text/html": [
       "<img src=\"http://www.serebii.net/pokemongo/pokemon/115.png\" width=\"100\" class=\"unconfined\"/>"
      ],
      "text/plain": [
       "<IPython.core.display.Image object>"
      ]
     },
     "metadata": {},
     "output_type": "display_data"
    },
    {
     "name": "stdout",
     "output_type": "stream",
     "text": [
      "#115: Kangaskhan\n",
      "Height: 2.21 m\n",
      "Weight: 80.0 kg\n",
      "Type:  🤷(Normal)\n",
      "Weaknesses:  👊(Fighting)\n"
     ]
    },
    {
     "data": {
      "text/html": [
       "<img src=\"http://www.serebii.net/pokemongo/pokemon/116.png\" width=\"100\" class=\"unconfined\"/>"
      ],
      "text/plain": [
       "<IPython.core.display.Image object>"
      ]
     },
     "metadata": {},
     "output_type": "display_data"
    },
    {
     "name": "stdout",
     "output_type": "stream",
     "text": [
      "#116: Horsea\n",
      "Height: 0.41 m\n",
      "Weight: 8.0 kg\n",
      "Type:  🌊(Water)\n",
      "Weaknesses:  ⚡(Electric) 🌱(Grass)\n"
     ]
    },
    {
     "data": {
      "text/html": [
       "<img src=\"http://www.serebii.net/pokemongo/pokemon/117.png\" width=\"100\" class=\"unconfined\"/>"
      ],
      "text/plain": [
       "<IPython.core.display.Image object>"
      ]
     },
     "metadata": {},
     "output_type": "display_data"
    },
    {
     "name": "stdout",
     "output_type": "stream",
     "text": [
      "#117: Seadra\n",
      "Height: 1.19 m\n",
      "Weight: 25.0 kg\n",
      "Type:  🌊(Water)\n",
      "Weaknesses:  ⚡(Electric) 🌱(Grass)\n"
     ]
    },
    {
     "data": {
      "text/html": [
       "<img src=\"http://www.serebii.net/pokemongo/pokemon/118.png\" width=\"100\" class=\"unconfined\"/>"
      ],
      "text/plain": [
       "<IPython.core.display.Image object>"
      ]
     },
     "metadata": {},
     "output_type": "display_data"
    },
    {
     "name": "stdout",
     "output_type": "stream",
     "text": [
      "#118: Goldeen\n",
      "Height: 0.61 m\n",
      "Weight: 15.0 kg\n",
      "Type:  🌊(Water)\n",
      "Weaknesses:  ⚡(Electric) 🌱(Grass)\n"
     ]
    },
    {
     "data": {
      "text/html": [
       "<img src=\"http://www.serebii.net/pokemongo/pokemon/119.png\" width=\"100\" class=\"unconfined\"/>"
      ],
      "text/plain": [
       "<IPython.core.display.Image object>"
      ]
     },
     "metadata": {},
     "output_type": "display_data"
    },
    {
     "name": "stdout",
     "output_type": "stream",
     "text": [
      "#119: Seaking\n",
      "Height: 1.30 m\n",
      "Weight: 39.0 kg\n",
      "Type:  🌊(Water)\n",
      "Weaknesses:  ⚡(Electric) 🌱(Grass)\n"
     ]
    },
    {
     "data": {
      "text/html": [
       "<img src=\"http://www.serebii.net/pokemongo/pokemon/120.png\" width=\"100\" class=\"unconfined\"/>"
      ],
      "text/plain": [
       "<IPython.core.display.Image object>"
      ]
     },
     "metadata": {},
     "output_type": "display_data"
    },
    {
     "name": "stdout",
     "output_type": "stream",
     "text": [
      "#120: Staryu\n",
      "Height: 0.79 m\n",
      "Weight: 34.5 kg\n",
      "Type:  🌊(Water)\n",
      "Weaknesses:  ⚡(Electric) 🌱(Grass)\n"
     ]
    },
    {
     "data": {
      "text/html": [
       "<img src=\"http://www.serebii.net/pokemongo/pokemon/121.png\" width=\"100\" class=\"unconfined\"/>"
      ],
      "text/plain": [
       "<IPython.core.display.Image object>"
      ]
     },
     "metadata": {},
     "output_type": "display_data"
    },
    {
     "name": "stdout",
     "output_type": "stream",
     "text": [
      "#121: Starmie\n",
      "Height: 1.09 m\n",
      "Weight: 80.0 kg\n",
      "Type:  🌊(Water) 🔮(Psychic)\n",
      "Weaknesses:  ⚡(Electric) 🌱(Grass) 🐛(Bug) 👻(Ghost) 🕶️(Dark)\n"
     ]
    },
    {
     "data": {
      "text/html": [
       "<img src=\"http://www.serebii.net/pokemongo/pokemon/122.png\" width=\"100\" class=\"unconfined\"/>"
      ],
      "text/plain": [
       "<IPython.core.display.Image object>"
      ]
     },
     "metadata": {},
     "output_type": "display_data"
    },
    {
     "name": "stdout",
     "output_type": "stream",
     "text": [
      "#122: Mr. Mime\n",
      "Height: 1.30 m\n",
      "Weight: 54.5 kg\n",
      "Type:  🔮(Psychic)\n",
      "Weaknesses:  🐛(Bug) 👻(Ghost) 🕶️(Dark)\n"
     ]
    },
    {
     "data": {
      "text/html": [
       "<img src=\"http://www.serebii.net/pokemongo/pokemon/123.png\" width=\"100\" class=\"unconfined\"/>"
      ],
      "text/plain": [
       "<IPython.core.display.Image object>"
      ]
     },
     "metadata": {},
     "output_type": "display_data"
    },
    {
     "name": "stdout",
     "output_type": "stream",
     "text": [
      "#123: Scyther\n",
      "Height: 1.50 m\n",
      "Weight: 56.0 kg\n",
      "Type:  🐛(Bug) 🐦(Flying)\n",
      "Weaknesses:  🔥(Fire) ⚡(Electric) ❄️(Ice) 🐦(Flying) 🪨(Rock)\n"
     ]
    },
    {
     "data": {
      "text/html": [
       "<img src=\"http://www.serebii.net/pokemongo/pokemon/124.png\" width=\"100\" class=\"unconfined\"/>"
      ],
      "text/plain": [
       "<IPython.core.display.Image object>"
      ]
     },
     "metadata": {},
     "output_type": "display_data"
    },
    {
     "name": "stdout",
     "output_type": "stream",
     "text": [
      "#124: Jynx\n",
      "Height: 1.40 m\n",
      "Weight: 40.6 kg\n",
      "Type:  ❄️(Ice) 🔮(Psychic)\n",
      "Weaknesses:  🔥(Fire) 🐛(Bug) 🪨(Rock) 👻(Ghost) 🕶️(Dark) 🤷(Steel)\n"
     ]
    },
    {
     "data": {
      "text/html": [
       "<img src=\"http://www.serebii.net/pokemongo/pokemon/125.png\" width=\"100\" class=\"unconfined\"/>"
      ],
      "text/plain": [
       "<IPython.core.display.Image object>"
      ]
     },
     "metadata": {},
     "output_type": "display_data"
    },
    {
     "name": "stdout",
     "output_type": "stream",
     "text": [
      "#125: Electabuzz\n",
      "Height: 1.09 m\n",
      "Weight: 30.0 kg\n",
      "Type:  ⚡(Electric)\n",
      "Weaknesses:  🌎(Ground)\n"
     ]
    },
    {
     "data": {
      "text/html": [
       "<img src=\"http://www.serebii.net/pokemongo/pokemon/126.png\" width=\"100\" class=\"unconfined\"/>"
      ],
      "text/plain": [
       "<IPython.core.display.Image object>"
      ]
     },
     "metadata": {},
     "output_type": "display_data"
    },
    {
     "name": "stdout",
     "output_type": "stream",
     "text": [
      "#126: Magmar\n",
      "Height: 1.30 m\n",
      "Weight: 44.5 kg\n",
      "Type:  🔥(Fire)\n",
      "Weaknesses:  🌊(Water) 🌎(Ground) 🪨(Rock)\n"
     ]
    },
    {
     "data": {
      "text/html": [
       "<img src=\"http://www.serebii.net/pokemongo/pokemon/127.png\" width=\"100\" class=\"unconfined\"/>"
      ],
      "text/plain": [
       "<IPython.core.display.Image object>"
      ]
     },
     "metadata": {},
     "output_type": "display_data"
    },
    {
     "name": "stdout",
     "output_type": "stream",
     "text": [
      "#127: Pinsir\n",
      "Height: 1.50 m\n",
      "Weight: 55.0 kg\n",
      "Type:  🐛(Bug)\n",
      "Weaknesses:  🔥(Fire) 🐦(Flying) 🪨(Rock)\n"
     ]
    },
    {
     "data": {
      "text/html": [
       "<img src=\"http://www.serebii.net/pokemongo/pokemon/128.png\" width=\"100\" class=\"unconfined\"/>"
      ],
      "text/plain": [
       "<IPython.core.display.Image object>"
      ]
     },
     "metadata": {},
     "output_type": "display_data"
    },
    {
     "name": "stdout",
     "output_type": "stream",
     "text": [
      "#128: Tauros\n",
      "Height: 1.40 m\n",
      "Weight: 88.4 kg\n",
      "Type:  🤷(Normal)\n",
      "Weaknesses:  👊(Fighting)\n"
     ]
    },
    {
     "data": {
      "text/html": [
       "<img src=\"http://www.serebii.net/pokemongo/pokemon/129.png\" width=\"100\" class=\"unconfined\"/>"
      ],
      "text/plain": [
       "<IPython.core.display.Image object>"
      ]
     },
     "metadata": {},
     "output_type": "display_data"
    },
    {
     "name": "stdout",
     "output_type": "stream",
     "text": [
      "#129: Magikarp\n",
      "Height: 0.89 m\n",
      "Weight: 10.0 kg\n",
      "Type:  🌊(Water)\n",
      "Weaknesses:  ⚡(Electric) 🌱(Grass)\n"
     ]
    },
    {
     "data": {
      "text/html": [
       "<img src=\"http://www.serebii.net/pokemongo/pokemon/130.png\" width=\"100\" class=\"unconfined\"/>"
      ],
      "text/plain": [
       "<IPython.core.display.Image object>"
      ]
     },
     "metadata": {},
     "output_type": "display_data"
    },
    {
     "name": "stdout",
     "output_type": "stream",
     "text": [
      "#130: Gyarados\n",
      "Height: 6.50 m\n",
      "Weight: 235.0 kg\n",
      "Type:  🌊(Water) 🐦(Flying)\n",
      "Weaknesses:  ⚡(Electric) 🪨(Rock)\n"
     ]
    },
    {
     "data": {
      "text/html": [
       "<img src=\"http://www.serebii.net/pokemongo/pokemon/131.png\" width=\"100\" class=\"unconfined\"/>"
      ],
      "text/plain": [
       "<IPython.core.display.Image object>"
      ]
     },
     "metadata": {},
     "output_type": "display_data"
    },
    {
     "name": "stdout",
     "output_type": "stream",
     "text": [
      "#131: Lapras\n",
      "Height: 2.49 m\n",
      "Weight: 220.0 kg\n",
      "Type:  🌊(Water) ❄️(Ice)\n",
      "Weaknesses:  ⚡(Electric) 🌱(Grass) 👊(Fighting) 🪨(Rock)\n"
     ]
    },
    {
     "data": {
      "text/html": [
       "<img src=\"http://www.serebii.net/pokemongo/pokemon/132.png\" width=\"100\" class=\"unconfined\"/>"
      ],
      "text/plain": [
       "<IPython.core.display.Image object>"
      ]
     },
     "metadata": {},
     "output_type": "display_data"
    },
    {
     "name": "stdout",
     "output_type": "stream",
     "text": [
      "#132: Ditto\n",
      "Height: 0.30 m\n",
      "Weight: 4.0 kg\n",
      "Type:  🤷(Normal)\n",
      "Weaknesses:  👊(Fighting)\n"
     ]
    },
    {
     "data": {
      "text/html": [
       "<img src=\"http://www.serebii.net/pokemongo/pokemon/133.png\" width=\"100\" class=\"unconfined\"/>"
      ],
      "text/plain": [
       "<IPython.core.display.Image object>"
      ]
     },
     "metadata": {},
     "output_type": "display_data"
    },
    {
     "name": "stdout",
     "output_type": "stream",
     "text": [
      "#133: Eevee\n",
      "Height: 0.30 m\n",
      "Weight: 6.5 kg\n",
      "Type:  🤷(Normal)\n",
      "Weaknesses:  👊(Fighting)\n"
     ]
    },
    {
     "data": {
      "text/html": [
       "<img src=\"http://www.serebii.net/pokemongo/pokemon/134.png\" width=\"100\" class=\"unconfined\"/>"
      ],
      "text/plain": [
       "<IPython.core.display.Image object>"
      ]
     },
     "metadata": {},
     "output_type": "display_data"
    },
    {
     "name": "stdout",
     "output_type": "stream",
     "text": [
      "#134: Vaporeon\n",
      "Height: 0.99 m\n",
      "Weight: 29.0 kg\n",
      "Type:  🌊(Water)\n",
      "Weaknesses:  ⚡(Electric) 🌱(Grass)\n"
     ]
    },
    {
     "data": {
      "text/html": [
       "<img src=\"http://www.serebii.net/pokemongo/pokemon/135.png\" width=\"100\" class=\"unconfined\"/>"
      ],
      "text/plain": [
       "<IPython.core.display.Image object>"
      ]
     },
     "metadata": {},
     "output_type": "display_data"
    },
    {
     "name": "stdout",
     "output_type": "stream",
     "text": [
      "#135: Jolteon\n",
      "Height: 0.79 m\n",
      "Weight: 24.5 kg\n",
      "Type:  ⚡(Electric)\n",
      "Weaknesses:  🌎(Ground)\n"
     ]
    },
    {
     "data": {
      "text/html": [
       "<img src=\"http://www.serebii.net/pokemongo/pokemon/136.png\" width=\"100\" class=\"unconfined\"/>"
      ],
      "text/plain": [
       "<IPython.core.display.Image object>"
      ]
     },
     "metadata": {},
     "output_type": "display_data"
    },
    {
     "name": "stdout",
     "output_type": "stream",
     "text": [
      "#136: Flareon\n",
      "Height: 0.89 m\n",
      "Weight: 25.0 kg\n",
      "Type:  🔥(Fire)\n",
      "Weaknesses:  🌊(Water) 🌎(Ground) 🪨(Rock)\n"
     ]
    },
    {
     "data": {
      "text/html": [
       "<img src=\"http://www.serebii.net/pokemongo/pokemon/137.png\" width=\"100\" class=\"unconfined\"/>"
      ],
      "text/plain": [
       "<IPython.core.display.Image object>"
      ]
     },
     "metadata": {},
     "output_type": "display_data"
    },
    {
     "name": "stdout",
     "output_type": "stream",
     "text": [
      "#137: Porygon\n",
      "Height: 0.79 m\n",
      "Weight: 36.5 kg\n",
      "Type:  🤷(Normal)\n",
      "Weaknesses:  👊(Fighting)\n"
     ]
    },
    {
     "data": {
      "text/html": [
       "<img src=\"http://www.serebii.net/pokemongo/pokemon/138.png\" width=\"100\" class=\"unconfined\"/>"
      ],
      "text/plain": [
       "<IPython.core.display.Image object>"
      ]
     },
     "metadata": {},
     "output_type": "display_data"
    },
    {
     "name": "stdout",
     "output_type": "stream",
     "text": [
      "#138: Omanyte\n",
      "Height: 0.41 m\n",
      "Weight: 7.5 kg\n",
      "Type:  🪨(Rock) 🌊(Water)\n",
      "Weaknesses:  ⚡(Electric) 🌱(Grass) 👊(Fighting) 🌎(Ground)\n"
     ]
    },
    {
     "data": {
      "text/html": [
       "<img src=\"http://www.serebii.net/pokemongo/pokemon/139.png\" width=\"100\" class=\"unconfined\"/>"
      ],
      "text/plain": [
       "<IPython.core.display.Image object>"
      ]
     },
     "metadata": {},
     "output_type": "display_data"
    },
    {
     "name": "stdout",
     "output_type": "stream",
     "text": [
      "#139: Omastar\n",
      "Height: 0.99 m\n",
      "Weight: 35.0 kg\n",
      "Type:  🪨(Rock) 🌊(Water)\n",
      "Weaknesses:  ⚡(Electric) 🌱(Grass) 👊(Fighting) 🌎(Ground)\n"
     ]
    },
    {
     "data": {
      "text/html": [
       "<img src=\"http://www.serebii.net/pokemongo/pokemon/140.png\" width=\"100\" class=\"unconfined\"/>"
      ],
      "text/plain": [
       "<IPython.core.display.Image object>"
      ]
     },
     "metadata": {},
     "output_type": "display_data"
    },
    {
     "name": "stdout",
     "output_type": "stream",
     "text": [
      "#140: Kabuto\n",
      "Height: 0.51 m\n",
      "Weight: 11.5 kg\n",
      "Type:  🪨(Rock) 🌊(Water)\n",
      "Weaknesses:  ⚡(Electric) 🌱(Grass) 👊(Fighting) 🌎(Ground)\n"
     ]
    },
    {
     "data": {
      "text/html": [
       "<img src=\"http://www.serebii.net/pokemongo/pokemon/141.png\" width=\"100\" class=\"unconfined\"/>"
      ],
      "text/plain": [
       "<IPython.core.display.Image object>"
      ]
     },
     "metadata": {},
     "output_type": "display_data"
    },
    {
     "name": "stdout",
     "output_type": "stream",
     "text": [
      "#141: Kabutops\n",
      "Height: 1.30 m\n",
      "Weight: 40.5 kg\n",
      "Type:  🪨(Rock) 🌊(Water)\n",
      "Weaknesses:  ⚡(Electric) 🌱(Grass) 👊(Fighting) 🌎(Ground)\n"
     ]
    },
    {
     "data": {
      "text/html": [
       "<img src=\"http://www.serebii.net/pokemongo/pokemon/142.png\" width=\"100\" class=\"unconfined\"/>"
      ],
      "text/plain": [
       "<IPython.core.display.Image object>"
      ]
     },
     "metadata": {},
     "output_type": "display_data"
    },
    {
     "name": "stdout",
     "output_type": "stream",
     "text": [
      "#142: Aerodactyl\n",
      "Height: 1.80 m\n",
      "Weight: 59.0 kg\n",
      "Type:  🪨(Rock) 🐦(Flying)\n",
      "Weaknesses:  🌊(Water) ⚡(Electric) ❄️(Ice) 🪨(Rock) 🤷(Steel)\n"
     ]
    },
    {
     "data": {
      "text/html": [
       "<img src=\"http://www.serebii.net/pokemongo/pokemon/143.png\" width=\"100\" class=\"unconfined\"/>"
      ],
      "text/plain": [
       "<IPython.core.display.Image object>"
      ]
     },
     "metadata": {},
     "output_type": "display_data"
    },
    {
     "name": "stdout",
     "output_type": "stream",
     "text": [
      "#143: Snorlax\n",
      "Height: 2.11 m\n",
      "Weight: 460.0 kg\n",
      "Type:  🤷(Normal)\n",
      "Weaknesses:  👊(Fighting)\n"
     ]
    },
    {
     "data": {
      "text/html": [
       "<img src=\"http://www.serebii.net/pokemongo/pokemon/144.png\" width=\"100\" class=\"unconfined\"/>"
      ],
      "text/plain": [
       "<IPython.core.display.Image object>"
      ]
     },
     "metadata": {},
     "output_type": "display_data"
    },
    {
     "name": "stdout",
     "output_type": "stream",
     "text": [
      "#144: Articuno\n",
      "Height: 1.70 m\n",
      "Weight: 55.4 kg\n",
      "Type:  ❄️(Ice) 🐦(Flying)\n",
      "Weaknesses:  🔥(Fire) ⚡(Electric) 🪨(Rock) 🤷(Steel)\n"
     ]
    },
    {
     "data": {
      "text/html": [
       "<img src=\"http://www.serebii.net/pokemongo/pokemon/145.png\" width=\"100\" class=\"unconfined\"/>"
      ],
      "text/plain": [
       "<IPython.core.display.Image object>"
      ]
     },
     "metadata": {},
     "output_type": "display_data"
    },
    {
     "name": "stdout",
     "output_type": "stream",
     "text": [
      "#145: Zapdos\n",
      "Height: 1.60 m\n",
      "Weight: 52.6 kg\n",
      "Type:  ⚡(Electric) 🐦(Flying)\n",
      "Weaknesses:  ❄️(Ice) 🪨(Rock)\n"
     ]
    },
    {
     "data": {
      "text/html": [
       "<img src=\"http://www.serebii.net/pokemongo/pokemon/146.png\" width=\"100\" class=\"unconfined\"/>"
      ],
      "text/plain": [
       "<IPython.core.display.Image object>"
      ]
     },
     "metadata": {},
     "output_type": "display_data"
    },
    {
     "name": "stdout",
     "output_type": "stream",
     "text": [
      "#146: Moltres\n",
      "Height: 2.01 m\n",
      "Weight: 60.0 kg\n",
      "Type:  🔥(Fire) 🐦(Flying)\n",
      "Weaknesses:  🌊(Water) ⚡(Electric) 🪨(Rock)\n"
     ]
    },
    {
     "data": {
      "text/html": [
       "<img src=\"http://www.serebii.net/pokemongo/pokemon/147.png\" width=\"100\" class=\"unconfined\"/>"
      ],
      "text/plain": [
       "<IPython.core.display.Image object>"
      ]
     },
     "metadata": {},
     "output_type": "display_data"
    },
    {
     "name": "stdout",
     "output_type": "stream",
     "text": [
      "#147: Dratini\n",
      "Height: 1.80 m\n",
      "Weight: 3.3 kg\n",
      "Type:  🐲(Dragon)\n",
      "Weaknesses:  ❄️(Ice) 🐲(Dragon) 🧚(Fairy)\n"
     ]
    },
    {
     "data": {
      "text/html": [
       "<img src=\"http://www.serebii.net/pokemongo/pokemon/148.png\" width=\"100\" class=\"unconfined\"/>"
      ],
      "text/plain": [
       "<IPython.core.display.Image object>"
      ]
     },
     "metadata": {},
     "output_type": "display_data"
    },
    {
     "name": "stdout",
     "output_type": "stream",
     "text": [
      "#148: Dragonair\n",
      "Height: 3.99 m\n",
      "Weight: 16.5 kg\n",
      "Type:  🐲(Dragon)\n",
      "Weaknesses:  ❄️(Ice) 🐲(Dragon) 🧚(Fairy)\n"
     ]
    },
    {
     "data": {
      "text/html": [
       "<img src=\"http://www.serebii.net/pokemongo/pokemon/149.png\" width=\"100\" class=\"unconfined\"/>"
      ],
      "text/plain": [
       "<IPython.core.display.Image object>"
      ]
     },
     "metadata": {},
     "output_type": "display_data"
    },
    {
     "name": "stdout",
     "output_type": "stream",
     "text": [
      "#149: Dragonite\n",
      "Height: 2.21 m\n",
      "Weight: 210.0 kg\n",
      "Type:  🐲(Dragon) 🐦(Flying)\n",
      "Weaknesses:  ❄️(Ice) 🪨(Rock) 🐲(Dragon) 🧚(Fairy)\n"
     ]
    },
    {
     "data": {
      "text/html": [
       "<img src=\"http://www.serebii.net/pokemongo/pokemon/150.png\" width=\"100\" class=\"unconfined\"/>"
      ],
      "text/plain": [
       "<IPython.core.display.Image object>"
      ]
     },
     "metadata": {},
     "output_type": "display_data"
    },
    {
     "name": "stdout",
     "output_type": "stream",
     "text": [
      "#150: Mewtwo\n",
      "Height: 2.01 m\n",
      "Weight: 122.0 kg\n",
      "Type:  🔮(Psychic)\n",
      "Weaknesses:  🐛(Bug) 👻(Ghost) 🕶️(Dark)\n"
     ]
    },
    {
     "data": {
      "text/html": [
       "<img src=\"http://www.serebii.net/pokemongo/pokemon/151.png\" width=\"100\" class=\"unconfined\"/>"
      ],
      "text/plain": [
       "<IPython.core.display.Image object>"
      ]
     },
     "metadata": {},
     "output_type": "display_data"
    },
    {
     "name": "stdout",
     "output_type": "stream",
     "text": [
      "#151: Mew\n",
      "Height: 0.41 m\n",
      "Weight: 4.0 kg\n",
      "Type:  🔮(Psychic)\n",
      "Weaknesses:  🐛(Bug) 👻(Ghost) 🕶️(Dark)\n"
     ]
    }
   ],
   "source": [
    "for pokemon in pokedex[\"pokemon\"]:\n",
    "    show_pokemon_profile(pokemon)"
   ]
  },
  {
   "cell_type": "code",
   "execution_count": null,
   "id": "33915210-36ad-4134-86fb-171f1a248f73",
   "metadata": {},
   "outputs": [],
   "source": []
  }
 ],
 "metadata": {
  "kernelspec": {
   "display_name": "Python 3 (ipykernel)",
   "language": "python",
   "name": "python3"
  },
  "language_info": {
   "codemirror_mode": {
    "name": "ipython",
    "version": 3
   },
   "file_extension": ".py",
   "mimetype": "text/x-python",
   "name": "python",
   "nbconvert_exporter": "python",
   "pygments_lexer": "ipython3",
   "version": "3.10.11"
  }
 },
 "nbformat": 4,
 "nbformat_minor": 5
}
