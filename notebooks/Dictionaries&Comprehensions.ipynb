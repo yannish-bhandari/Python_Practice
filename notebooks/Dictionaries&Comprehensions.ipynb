{
 "cells": [
  {
   "cell_type": "markdown",
   "id": "bdc4a077-ca0b-4139-bf12-60134b537989",
   "metadata": {
    "tags": []
   },
   "source": [
    "# ***Exercise 1: Spotify Data***\n",
    "\n",
    "Let's use some of sample data from Spotify usage of an anonymous guy and analyze it!\n",
    "\n",
    "The original format is JSON, and it has the following structure.\n",
    "\n",
    "```python\n",
    "[ \n",
    "    {\n",
    "        \"endTime\": endTime,       # date and time the song ends\n",
    "        \"artistName\": artistName, # artist name\n",
    "        \"trackName\": trackName,   # song name\n",
    "        \"msPlayed\": msPlayed      # miliseconds the song was playing\n",
    "    },\n",
    "    {...}\n",
    "]\n",
    "```\n",
    "\n",
    "Load this JSON file into a dictionary with the following code\n",
    "```python\n",
    "import json\n",
    "with open(\"spotify.json\") as json_file:\n",
    "    json_data = json.load(json_file)\n",
    "```\n",
    "\n",
    "Answer the following questions\n",
    " 1. How many records have this file?\n",
    " 2. How many different artists can you find in this file? And songs?\n",
    " 4. How much time did this guy spend listening to music?\n",
    " 5. What's the most listened artist? And song? _Hint: create a new dict iterating over all artists and sum the milliseconds_"
   ]
  },
  {
   "cell_type": "code",
   "execution_count": 1,
   "id": "c6f7cf1d-7d6a-4c23-bc57-a1f1c8620dde",
   "metadata": {},
   "outputs": [],
   "source": [
    "import json\n",
    "with open(\"data/spotify.json\", encoding=\"utf-8\") as json_file:\n",
    "    json_data = json.load(json_file)"
   ]
  },
  {
   "cell_type": "markdown",
   "id": "e0991a6d-5f49-4d64-816c-1a4dcd9696e5",
   "metadata": {},
   "source": [
    "### How many records have this file?"
   ]
  },
  {
   "cell_type": "code",
   "execution_count": 2,
   "id": "a8a61d81-0428-4039-b9bf-082b706f1442",
   "metadata": {},
   "outputs": [
    {
     "name": "stdout",
     "output_type": "stream",
     "text": [
      "This file has 2895 records\n"
     ]
    }
   ],
   "source": [
    "# How many records have this file?\n",
    "print(f\"This file has {len(json_data)} records\")"
   ]
  },
  {
   "cell_type": "markdown",
   "id": "c084e5bc-c936-485c-aee9-7a4a8749f7d8",
   "metadata": {},
   "source": [
    "### How many different artists can you find in this file? And songs?"
   ]
  },
  {
   "cell_type": "code",
   "execution_count": 3,
   "id": "aad7eb6e-08df-41b3-8427-cbc6ce767718",
   "metadata": {},
   "outputs": [
    {
     "name": "stdout",
     "output_type": "stream",
     "text": [
      "Number of artists: 618\n"
     ]
    }
   ],
   "source": [
    "# How many different artists can you find in this file?\n",
    "artists = [record[\"artistName\"] for record in json_data]\n",
    "artists = set(artists)\n",
    "print(f\"Number of artists: {len(artists)}\")"
   ]
  },
  {
   "cell_type": "code",
   "execution_count": 4,
   "id": "f9780005-ca83-491d-ba6e-f325a54fde29",
   "metadata": {},
   "outputs": [
    {
     "name": "stdout",
     "output_type": "stream",
     "text": [
      "Number of songs: 1495\n"
     ]
    }
   ],
   "source": [
    "# And songs?\n",
    "songs = [record[\"trackName\"] for record in json_data]\n",
    "songs = set(songs)\n",
    "print(f\"Number of songs: {len(songs)}\")"
   ]
  },
  {
   "cell_type": "markdown",
   "id": "2b68a5f2-ca67-4d7a-a926-dd11303a9546",
   "metadata": {},
   "source": [
    "### How much time did this guy spend listening to music?"
   ]
  },
  {
   "cell_type": "code",
   "execution_count": 5,
   "id": "e77b9127-4fef-4963-a04c-028b49406ebc",
   "metadata": {},
   "outputs": [
    {
     "name": "stdout",
     "output_type": "stream",
     "text": [
      "Total miliseconds: 536676750\n"
     ]
    }
   ],
   "source": [
    "# How much time did this guy spend listening to music?\n",
    "ms = [record[\"msPlayed\"] for record in json_data]\n",
    "totalms = sum(ms)\n",
    "print(f\"Total miliseconds: {totalms}\")"
   ]
  },
  {
   "cell_type": "code",
   "execution_count": 6,
   "id": "56a906aa-8882-4600-b8ad-46dba58f1c42",
   "metadata": {},
   "outputs": [
    {
     "name": "stdout",
     "output_type": "stream",
     "text": [
      "Total time: 6 days, 5:04:36.750000\n"
     ]
    }
   ],
   "source": [
    "# Transform to a more readable format with the \"timedelta\" function\n",
    "\n",
    "from datetime import timedelta\n",
    "dt = timedelta(milliseconds=totalms)\n",
    "print(f\"Total time: {dt}\")"
   ]
  },
  {
   "cell_type": "markdown",
   "id": "76404827-c348-4c6b-ad93-65a01a0111dc",
   "metadata": {},
   "source": [
    "### What’s the most listened artist? And song?"
   ]
  },
  {
   "cell_type": "code",
   "execution_count": 11,
   "id": "61c1cbcc-a18e-476d-9d1e-94f5a75a2775",
   "metadata": {
    "tags": []
   },
   "outputs": [
    {
     "data": {
      "text/plain": [
       "(69056722, 'Tame Impala')"
      ]
     },
     "execution_count": 11,
     "metadata": {},
     "output_type": "execute_result"
    }
   ],
   "source": [
    "# Most listened artist\n",
    "artistsdict = {artist:0 for artist in artists}\n",
    "\n",
    "for record in json_data:\n",
    "    artistsdict[record[\"artistName\"]] += record[\"msPlayed\"]\n",
    "    \n",
    "# transform dict to a list of tuples and calculate the max value\n",
    "# we make this transformation because the \"max\" function always takes the first value to order the items\n",
    "max([(value, key) for key,value in artistsdict.items()])"
   ]
  },
  {
   "cell_type": "markdown",
   "id": "e5823ce6-b971-456d-a581-6948de7603b1",
   "metadata": {},
   "source": [
    "Note about the last line: `max([(value, key) for key,value in artistsdict.items()])`\n",
    "\n",
    "The `max` (and `min`, `sorted`, etc) function can order sequences of numbers, strings (alphabetically), and also other structures. If we apply the `max` function to a list of tuples, the ufnction will take the first element of each tuple to sort the list. So, in this case, as we want to order by value, we first build a new list with the value element in the first position."
   ]
  },
  {
   "cell_type": "code",
   "execution_count": 14,
   "id": "2f77d51a-062b-4be0-9ab2-20a143896f24",
   "metadata": {},
   "outputs": [
    {
     "data": {
      "text/plain": [
       "(5588921, 'Avant')"
      ]
     },
     "execution_count": 14,
     "metadata": {},
     "output_type": "execute_result"
    }
   ],
   "source": [
    "# Most listened song\n",
    "songsdict = {song:0 for song in songs}\n",
    "\n",
    "for record in json_data:\n",
    "    songsdict[record[\"trackName\"]] += record[\"msPlayed\"]\n",
    "    \n",
    "# transform dict to a list of tuples and calculate the max value\n",
    "max([(value, key) for key,value in songsdict.items()])"
   ]
  }
 ],
 "metadata": {
  "kernelspec": {
   "display_name": "Python 3 (ipykernel)",
   "language": "python",
   "name": "python3"
  },
  "language_info": {
   "codemirror_mode": {
    "name": "ipython",
    "version": 3
   },
   "file_extension": ".py",
   "mimetype": "text/x-python",
   "name": "python",
   "nbconvert_exporter": "python",
   "pygments_lexer": "ipython3",
   "version": "3.10.11"
  },
  "toc-autonumbering": false,
  "toc-showmarkdowntxt": false
 },
 "nbformat": 4,
 "nbformat_minor": 5
}
