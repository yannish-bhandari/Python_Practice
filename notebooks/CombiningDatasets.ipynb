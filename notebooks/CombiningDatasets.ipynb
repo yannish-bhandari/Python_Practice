{
 "cells": [
  {
   "cell_type": "code",
   "execution_count": 2,
   "id": "a815a873",
   "metadata": {},
   "outputs": [
    {
     "name": "stderr",
     "output_type": "stream",
     "text": [
      "c:\\Users\\dasir\\anaconda3\\envs\\pda-ie\\Lib\\site-packages\\pandas\\core\\arrays\\masked.py:60: UserWarning: Pandas requires version '1.3.6' or newer of 'bottleneck' (version '1.3.5' currently installed).\n",
      "  from pandas.core import (\n"
     ]
    }
   ],
   "source": [
    "import pandas as pd"
   ]
  },
  {
   "cell_type": "markdown",
   "id": "336e1848-f041-4dc9-9803-d3e062017280",
   "metadata": {},
   "source": [
    "# Exercise 1\n",
    "\n",
    "You are given four pandas DataFrames, `df_students`, `df_courses`, `df_grades`, and `df_schedule`, which contain information about students, courses, grades, and the course schedule. Your task is to perform exploratory data analysis by merging the DataFrames and answering a series of questions based on the data.\n",
    "\n",
    "1. Merge the DataFrames df_students, df_courses, and df_grades based on the appropriate columns.\n",
    "1. Determine the total number of students in each course.\n",
    "1. Calculate the average grade for each course.\n",
    "1. Find the student(s) with the highest grade in each course.\n",
    "1. Count the number of missing values in the resulting frame\n",
    "1. Determine the number of classes scheduled for each student.\n",
    "1. Identify any students who are not enrolled in any courses.\n",
    "1. Calculate the overall average grade for all students."
   ]
  },
  {
   "cell_type": "code",
   "execution_count": 2,
   "id": "31988998-7c54-4ea0-be53-be6fc43a06d3",
   "metadata": {},
   "outputs": [
    {
     "name": "stderr",
     "output_type": "stream",
     "text": [
      "c:\\Users\\dasir\\anaconda3\\envs\\pda-ie\\Lib\\site-packages\\pandas\\core\\arrays\\masked.py:60: UserWarning: Pandas requires version '1.3.6' or newer of 'bottleneck' (version '1.3.5' currently installed).\n",
      "  from pandas.core import (\n"
     ]
    }
   ],
   "source": [
    "df_students = pd.DataFrame(\n",
    "    {\n",
    "        \"student_id\": [1, 2, 3, 4],\n",
    "        \"name\": [\"Alice\", \"Bob\", \"Charlie\", \"David\"],\n",
    "        \"age\": [19, 20, 18, 19],\n",
    "    }\n",
    ")\n",
    "\n",
    "df_courses = pd.DataFrame(\n",
    "    {\n",
    "        \"course_id\": [1, 2, 3, 4],\n",
    "        \"course_name\": [\"Math\", \"Science\", \"History\", \"English\"],\n",
    "        \"teacher\": [\"Mr. Smith\", \"Mrs. Johnson\", \"Mr. Johnson\", \"Mr. Brown\"],\n",
    "    }\n",
    ")\n",
    "\n",
    "df_grades = pd.DataFrame(\n",
    "    {\n",
    "        \"student_id\": [1, 2, 3, 2, 4],\n",
    "        \"course_id\": [1, 2, 2, 3, 4],\n",
    "        \"grade\": [90, 85, 92, 88, 95],\n",
    "    }\n",
    ")\n",
    "\n",
    "df_schedule = pd.DataFrame(\n",
    "    {\n",
    "        \"student_id\": [1, 2, 3, 4, 2, 4],\n",
    "        \"course_id\": [1, 2, 3, 4, 4, 1],\n",
    "        \"day\": [\"Monday\", \"Tuesday\", \"Wednesday\", \"Thursday\", \"Friday\", \"Friday\"],\n",
    "        \"time\": [\"9:00 AM\", \"10:30 AM\", \"2:00 PM\", \"11:00 AM\", \"3:30 PM\", \"1:00 PM\"],\n",
    "    }\n",
    ")"
   ]
  },
  {
   "cell_type": "code",
   "execution_count": 3,
   "id": "28722076-eb05-4f7e-88c9-59fca2d8861a",
   "metadata": {},
   "outputs": [
    {
     "data": {
      "text/html": [
       "<div>\n",
       "<style scoped>\n",
       "    .dataframe tbody tr th:only-of-type {\n",
       "        vertical-align: middle;\n",
       "    }\n",
       "\n",
       "    .dataframe tbody tr th {\n",
       "        vertical-align: top;\n",
       "    }\n",
       "\n",
       "    .dataframe thead th {\n",
       "        text-align: right;\n",
       "    }\n",
       "</style>\n",
       "<table border=\"1\" class=\"dataframe\">\n",
       "  <thead>\n",
       "    <tr style=\"text-align: right;\">\n",
       "      <th></th>\n",
       "      <th>student_id</th>\n",
       "      <th>name</th>\n",
       "      <th>age</th>\n",
       "      <th>course_id</th>\n",
       "      <th>grade</th>\n",
       "      <th>course_name</th>\n",
       "      <th>teacher</th>\n",
       "      <th>day</th>\n",
       "      <th>time</th>\n",
       "    </tr>\n",
       "  </thead>\n",
       "  <tbody>\n",
       "    <tr>\n",
       "      <th>0</th>\n",
       "      <td>1</td>\n",
       "      <td>Alice</td>\n",
       "      <td>19</td>\n",
       "      <td>1</td>\n",
       "      <td>90</td>\n",
       "      <td>Math</td>\n",
       "      <td>Mr. Smith</td>\n",
       "      <td>Monday</td>\n",
       "      <td>9:00 AM</td>\n",
       "    </tr>\n",
       "    <tr>\n",
       "      <th>1</th>\n",
       "      <td>2</td>\n",
       "      <td>Bob</td>\n",
       "      <td>20</td>\n",
       "      <td>2</td>\n",
       "      <td>85</td>\n",
       "      <td>Science</td>\n",
       "      <td>Mrs. Johnson</td>\n",
       "      <td>Tuesday</td>\n",
       "      <td>10:30 AM</td>\n",
       "    </tr>\n",
       "    <tr>\n",
       "      <th>2</th>\n",
       "      <td>2</td>\n",
       "      <td>Bob</td>\n",
       "      <td>20</td>\n",
       "      <td>3</td>\n",
       "      <td>88</td>\n",
       "      <td>History</td>\n",
       "      <td>Mr. Johnson</td>\n",
       "      <td>NaN</td>\n",
       "      <td>NaN</td>\n",
       "    </tr>\n",
       "    <tr>\n",
       "      <th>3</th>\n",
       "      <td>3</td>\n",
       "      <td>Charlie</td>\n",
       "      <td>18</td>\n",
       "      <td>2</td>\n",
       "      <td>92</td>\n",
       "      <td>Science</td>\n",
       "      <td>Mrs. Johnson</td>\n",
       "      <td>NaN</td>\n",
       "      <td>NaN</td>\n",
       "    </tr>\n",
       "    <tr>\n",
       "      <th>4</th>\n",
       "      <td>4</td>\n",
       "      <td>David</td>\n",
       "      <td>19</td>\n",
       "      <td>4</td>\n",
       "      <td>95</td>\n",
       "      <td>English</td>\n",
       "      <td>Mr. Brown</td>\n",
       "      <td>Thursday</td>\n",
       "      <td>11:00 AM</td>\n",
       "    </tr>\n",
       "  </tbody>\n",
       "</table>\n",
       "</div>"
      ],
      "text/plain": [
       "   student_id     name  age  course_id  grade course_name       teacher  \\\n",
       "0           1    Alice   19          1     90        Math     Mr. Smith   \n",
       "1           2      Bob   20          2     85     Science  Mrs. Johnson   \n",
       "2           2      Bob   20          3     88     History   Mr. Johnson   \n",
       "3           3  Charlie   18          2     92     Science  Mrs. Johnson   \n",
       "4           4    David   19          4     95     English     Mr. Brown   \n",
       "\n",
       "        day      time  \n",
       "0    Monday   9:00 AM  \n",
       "1   Tuesday  10:30 AM  \n",
       "2       NaN       NaN  \n",
       "3       NaN       NaN  \n",
       "4  Thursday  11:00 AM  "
      ]
     },
     "execution_count": 3,
     "metadata": {},
     "output_type": "execute_result"
    }
   ],
   "source": [
    "# 1. Merge the DataFrames based on the appropriate columns\n",
    "merged_df = pd.merge(df_students, df_grades, on=\"student_id\", how=\"left\")\n",
    "merged_df = pd.merge(merged_df, df_courses, on=\"course_id\", how=\"left\")\n",
    "merged_df = pd.merge(merged_df, df_schedule, on=[\"student_id\", \"course_id\"], how=\"left\")\n",
    "merged_df"
   ]
  },
  {
   "cell_type": "code",
   "execution_count": 4,
   "id": "5df4f66f-c529-4fbd-bcfc-a8b7b34bbed3",
   "metadata": {},
   "outputs": [
    {
     "data": {
      "text/plain": [
       "course_name\n",
       "Science    2\n",
       "English    1\n",
       "History    1\n",
       "Math       1\n",
       "Name: count, dtype: int64"
      ]
     },
     "execution_count": 4,
     "metadata": {},
     "output_type": "execute_result"
    }
   ],
   "source": [
    "# 2. Determine the total number of students in each course.\n",
    "merged_df.value_counts(\"course_name\")"
   ]
  },
  {
   "cell_type": "code",
   "execution_count": 5,
   "id": "600a64cc-6828-4300-8768-cab78e9fe2bd",
   "metadata": {},
   "outputs": [
    {
     "data": {
      "text/plain": [
       "course_name\n",
       "English    95.0\n",
       "History    88.0\n",
       "Math       90.0\n",
       "Science    88.5\n",
       "Name: grade, dtype: float64"
      ]
     },
     "execution_count": 5,
     "metadata": {},
     "output_type": "execute_result"
    }
   ],
   "source": [
    "# 3. Calculate the average grade for each course.\n",
    "merged_df.groupby(\"course_name\")[\"grade\"].mean()"
   ]
  },
  {
   "cell_type": "code",
   "execution_count": 6,
   "id": "95352986-cbd5-4f3b-b103-abe2afa58725",
   "metadata": {},
   "outputs": [
    {
     "data": {
      "text/html": [
       "<div>\n",
       "<style scoped>\n",
       "    .dataframe tbody tr th:only-of-type {\n",
       "        vertical-align: middle;\n",
       "    }\n",
       "\n",
       "    .dataframe tbody tr th {\n",
       "        vertical-align: top;\n",
       "    }\n",
       "\n",
       "    .dataframe thead th {\n",
       "        text-align: right;\n",
       "    }\n",
       "</style>\n",
       "<table border=\"1\" class=\"dataframe\">\n",
       "  <thead>\n",
       "    <tr style=\"text-align: right;\">\n",
       "      <th></th>\n",
       "      <th>grade</th>\n",
       "      <th>name</th>\n",
       "    </tr>\n",
       "    <tr>\n",
       "      <th>course_name</th>\n",
       "      <th></th>\n",
       "      <th></th>\n",
       "    </tr>\n",
       "  </thead>\n",
       "  <tbody>\n",
       "    <tr>\n",
       "      <th>English</th>\n",
       "      <td>95</td>\n",
       "      <td>David</td>\n",
       "    </tr>\n",
       "    <tr>\n",
       "      <th>History</th>\n",
       "      <td>88</td>\n",
       "      <td>Bob</td>\n",
       "    </tr>\n",
       "    <tr>\n",
       "      <th>Math</th>\n",
       "      <td>90</td>\n",
       "      <td>Alice</td>\n",
       "    </tr>\n",
       "    <tr>\n",
       "      <th>Science</th>\n",
       "      <td>92</td>\n",
       "      <td>Charlie</td>\n",
       "    </tr>\n",
       "  </tbody>\n",
       "</table>\n",
       "</div>"
      ],
      "text/plain": [
       "             grade     name\n",
       "course_name                \n",
       "English         95    David\n",
       "History         88      Bob\n",
       "Math            90    Alice\n",
       "Science         92  Charlie"
      ]
     },
     "execution_count": 6,
     "metadata": {},
     "output_type": "execute_result"
    }
   ],
   "source": [
    "# 4. Find the student(s) with the highest grade in each course.\n",
    "sorted_df = merged_df.sort_values(\"grade\", ascending=False)\n",
    "sorted_df.groupby([\"course_name\"])[[\"grade\", \"name\"]].first()"
   ]
  },
  {
   "cell_type": "code",
   "execution_count": 7,
   "id": "71628e20-78b9-4c8d-a6e1-81613a300e11",
   "metadata": {},
   "outputs": [
    {
     "name": "stdout",
     "output_type": "stream",
     "text": [
      "<class 'pandas.core.frame.DataFrame'>\n",
      "RangeIndex: 5 entries, 0 to 4\n",
      "Data columns (total 9 columns):\n",
      " #   Column       Non-Null Count  Dtype \n",
      "---  ------       --------------  ----- \n",
      " 0   student_id   5 non-null      int64 \n",
      " 1   name         5 non-null      object\n",
      " 2   age          5 non-null      int64 \n",
      " 3   course_id    5 non-null      int64 \n",
      " 4   grade        5 non-null      int64 \n",
      " 5   course_name  5 non-null      object\n",
      " 6   teacher      5 non-null      object\n",
      " 7   day          3 non-null      object\n",
      " 8   time         3 non-null      object\n",
      "dtypes: int64(4), object(5)\n",
      "memory usage: 492.0+ bytes\n"
     ]
    }
   ],
   "source": [
    "# 5. Count the number of missing values in the resulting frame\n",
    "merged_df.info()"
   ]
  },
  {
   "cell_type": "code",
   "execution_count": 8,
   "id": "78383dc2-be4f-4ef4-9903-ede82dfdb3b3",
   "metadata": {},
   "outputs": [
    {
     "data": {
      "text/html": [
       "<div>\n",
       "<style scoped>\n",
       "    .dataframe tbody tr th:only-of-type {\n",
       "        vertical-align: middle;\n",
       "    }\n",
       "\n",
       "    .dataframe tbody tr th {\n",
       "        vertical-align: top;\n",
       "    }\n",
       "\n",
       "    .dataframe thead th {\n",
       "        text-align: right;\n",
       "    }\n",
       "</style>\n",
       "<table border=\"1\" class=\"dataframe\">\n",
       "  <thead>\n",
       "    <tr style=\"text-align: right;\">\n",
       "      <th></th>\n",
       "      <th>class</th>\n",
       "    </tr>\n",
       "    <tr>\n",
       "      <th>name</th>\n",
       "      <th></th>\n",
       "    </tr>\n",
       "  </thead>\n",
       "  <tbody>\n",
       "    <tr>\n",
       "      <th>Alice</th>\n",
       "      <td>1</td>\n",
       "    </tr>\n",
       "    <tr>\n",
       "      <th>Bob</th>\n",
       "      <td>1</td>\n",
       "    </tr>\n",
       "    <tr>\n",
       "      <th>Charlie</th>\n",
       "      <td>0</td>\n",
       "    </tr>\n",
       "    <tr>\n",
       "      <th>David</th>\n",
       "      <td>1</td>\n",
       "    </tr>\n",
       "  </tbody>\n",
       "</table>\n",
       "</div>"
      ],
      "text/plain": [
       "         class\n",
       "name          \n",
       "Alice        1\n",
       "Bob          1\n",
       "Charlie      0\n",
       "David        1"
      ]
     },
     "execution_count": 8,
     "metadata": {},
     "output_type": "execute_result"
    }
   ],
   "source": [
    "# 6. Determine the number of classes scheduled for each student.\n",
    "merged_df[\"class\"] = merged_df.day + merged_df.time\n",
    "merged_df.groupby(\"name\")[[\"class\"]].count()"
   ]
  },
  {
   "cell_type": "code",
   "execution_count": 15,
   "id": "4b1f01f8-1133-4cec-8445-7d7fadb666da",
   "metadata": {},
   "outputs": [
    {
     "data": {
      "text/plain": [
       "0"
      ]
     },
     "execution_count": 15,
     "metadata": {},
     "output_type": "execute_result"
    }
   ],
   "source": [
    "# 7. Identify any students who are not enrolled in any courses.\n",
    "number_courses_per_student = merged_df.groupby(\"name\")[\"course_id\"].count()\n",
    "(number_courses_per_student == 0).sum()"
   ]
  },
  {
   "cell_type": "code",
   "execution_count": 11,
   "id": "20cb1809-0d9f-4e7a-8311-c9e786c5ad47",
   "metadata": {},
   "outputs": [
    {
     "data": {
      "text/plain": [
       "90.875"
      ]
     },
     "execution_count": 11,
     "metadata": {},
     "output_type": "execute_result"
    }
   ],
   "source": [
    "# 8. Calculate the overall average grade for all students.\n",
    "merged_df.groupby(\"student_id\").grade.mean().mean()"
   ]
  },
  {
   "cell_type": "markdown",
   "id": "097843db-46e6-4d1e-8832-8799b90705cd",
   "metadata": {},
   "source": [
    "# Exercise 2\n",
    "\n",
    "You are given a pandas DataFrame `df_movies` that contains information about movie ratings. Your task is to perform exploratory data analysis and answer a series of questions.\n",
    "\n",
    "1. Calculate the average rating for each movie.\n",
    "1. Determine the number of ratings given to each movie.\n",
    "1. Identify the movie with the highest average rating.\n",
    "1. Calculate the average rating for each genre.\n",
    "1. Determine the number of movies in each genre.\n",
    "1. Identify the genre with the highest average rating.\n",
    "1. Calculate the correlation between movie ratings and movie budgets.\n",
    "1. Generate a bar plot of movie ratings."
   ]
  },
  {
   "cell_type": "code",
   "execution_count": 16,
   "id": "a315b190-8677-4b70-983e-09686ae4d73d",
   "metadata": {},
   "outputs": [],
   "source": [
    "df_movies = pd.DataFrame(\n",
    "    {\n",
    "        \"movie_id\": [1, 2, 3, 4, 5, 6, 7, 8, 9, 10],\n",
    "        \"title\": [\n",
    "            \"Movie A\",\n",
    "            \"Movie B\",\n",
    "            \"Movie C\",\n",
    "            \"Movie D\",\n",
    "            \"Movie E\",\n",
    "            \"Movie F\",\n",
    "            \"Movie G\",\n",
    "            \"Movie H\",\n",
    "            \"Movie I\",\n",
    "            \"Movie J\",\n",
    "        ],\n",
    "        \"genre\": [\n",
    "            \"Action\",\n",
    "            \"Comedy\",\n",
    "            \"Drama\",\n",
    "            \"Comedy\",\n",
    "            \"Action\",\n",
    "            \"Drama\",\n",
    "            \"Action\",\n",
    "            \"Comedy\",\n",
    "            \"Drama\",\n",
    "            \"Action\",\n",
    "        ],\n",
    "        \"rating\": [4.5, 3.8, 4.2, 4.1, 3.9, 4.6, 4.3, 3.7, 4.0, 4.4],\n",
    "        \"num_ratings\": [100, 75, 120, 95, 80, 110, 105, 70, 90, 115],\n",
    "        \"budget\": [\n",
    "            1000000,\n",
    "            500000,\n",
    "            800000,\n",
    "            600000,\n",
    "            700000,\n",
    "            900000,\n",
    "            750000,\n",
    "            550000,\n",
    "            650000,\n",
    "            850000,\n",
    "        ],\n",
    "    }\n",
    ")"
   ]
  },
  {
   "cell_type": "code",
   "execution_count": 17,
   "id": "317bbf23",
   "metadata": {},
   "outputs": [
    {
     "data": {
      "text/html": [
       "<div>\n",
       "<style scoped>\n",
       "    .dataframe tbody tr th:only-of-type {\n",
       "        vertical-align: middle;\n",
       "    }\n",
       "\n",
       "    .dataframe tbody tr th {\n",
       "        vertical-align: top;\n",
       "    }\n",
       "\n",
       "    .dataframe thead th {\n",
       "        text-align: right;\n",
       "    }\n",
       "</style>\n",
       "<table border=\"1\" class=\"dataframe\">\n",
       "  <thead>\n",
       "    <tr style=\"text-align: right;\">\n",
       "      <th></th>\n",
       "      <th>movie_id</th>\n",
       "      <th>title</th>\n",
       "      <th>genre</th>\n",
       "      <th>rating</th>\n",
       "      <th>num_ratings</th>\n",
       "      <th>budget</th>\n",
       "    </tr>\n",
       "  </thead>\n",
       "  <tbody>\n",
       "    <tr>\n",
       "      <th>0</th>\n",
       "      <td>1</td>\n",
       "      <td>Movie A</td>\n",
       "      <td>Action</td>\n",
       "      <td>4.5</td>\n",
       "      <td>100</td>\n",
       "      <td>1000000</td>\n",
       "    </tr>\n",
       "    <tr>\n",
       "      <th>1</th>\n",
       "      <td>2</td>\n",
       "      <td>Movie B</td>\n",
       "      <td>Comedy</td>\n",
       "      <td>3.8</td>\n",
       "      <td>75</td>\n",
       "      <td>500000</td>\n",
       "    </tr>\n",
       "    <tr>\n",
       "      <th>2</th>\n",
       "      <td>3</td>\n",
       "      <td>Movie C</td>\n",
       "      <td>Drama</td>\n",
       "      <td>4.2</td>\n",
       "      <td>120</td>\n",
       "      <td>800000</td>\n",
       "    </tr>\n",
       "    <tr>\n",
       "      <th>3</th>\n",
       "      <td>4</td>\n",
       "      <td>Movie D</td>\n",
       "      <td>Comedy</td>\n",
       "      <td>4.1</td>\n",
       "      <td>95</td>\n",
       "      <td>600000</td>\n",
       "    </tr>\n",
       "    <tr>\n",
       "      <th>4</th>\n",
       "      <td>5</td>\n",
       "      <td>Movie E</td>\n",
       "      <td>Action</td>\n",
       "      <td>3.9</td>\n",
       "      <td>80</td>\n",
       "      <td>700000</td>\n",
       "    </tr>\n",
       "    <tr>\n",
       "      <th>5</th>\n",
       "      <td>6</td>\n",
       "      <td>Movie F</td>\n",
       "      <td>Drama</td>\n",
       "      <td>4.6</td>\n",
       "      <td>110</td>\n",
       "      <td>900000</td>\n",
       "    </tr>\n",
       "    <tr>\n",
       "      <th>6</th>\n",
       "      <td>7</td>\n",
       "      <td>Movie G</td>\n",
       "      <td>Action</td>\n",
       "      <td>4.3</td>\n",
       "      <td>105</td>\n",
       "      <td>750000</td>\n",
       "    </tr>\n",
       "    <tr>\n",
       "      <th>7</th>\n",
       "      <td>8</td>\n",
       "      <td>Movie H</td>\n",
       "      <td>Comedy</td>\n",
       "      <td>3.7</td>\n",
       "      <td>70</td>\n",
       "      <td>550000</td>\n",
       "    </tr>\n",
       "    <tr>\n",
       "      <th>8</th>\n",
       "      <td>9</td>\n",
       "      <td>Movie I</td>\n",
       "      <td>Drama</td>\n",
       "      <td>4.0</td>\n",
       "      <td>90</td>\n",
       "      <td>650000</td>\n",
       "    </tr>\n",
       "    <tr>\n",
       "      <th>9</th>\n",
       "      <td>10</td>\n",
       "      <td>Movie J</td>\n",
       "      <td>Action</td>\n",
       "      <td>4.4</td>\n",
       "      <td>115</td>\n",
       "      <td>850000</td>\n",
       "    </tr>\n",
       "  </tbody>\n",
       "</table>\n",
       "</div>"
      ],
      "text/plain": [
       "   movie_id    title   genre  rating  num_ratings   budget\n",
       "0         1  Movie A  Action     4.5          100  1000000\n",
       "1         2  Movie B  Comedy     3.8           75   500000\n",
       "2         3  Movie C   Drama     4.2          120   800000\n",
       "3         4  Movie D  Comedy     4.1           95   600000\n",
       "4         5  Movie E  Action     3.9           80   700000\n",
       "5         6  Movie F   Drama     4.6          110   900000\n",
       "6         7  Movie G  Action     4.3          105   750000\n",
       "7         8  Movie H  Comedy     3.7           70   550000\n",
       "8         9  Movie I   Drama     4.0           90   650000\n",
       "9        10  Movie J  Action     4.4          115   850000"
      ]
     },
     "execution_count": 17,
     "metadata": {},
     "output_type": "execute_result"
    }
   ],
   "source": [
    "df_movies"
   ]
  },
  {
   "cell_type": "code",
   "execution_count": 22,
   "id": "faa1fe26",
   "metadata": {},
   "outputs": [
    {
     "data": {
      "text/plain": [
       "title\n",
       "Movie A    4.5\n",
       "Movie B    3.8\n",
       "Movie C    4.2\n",
       "Movie D    4.1\n",
       "Movie E    3.9\n",
       "Movie F    4.6\n",
       "Movie G    4.3\n",
       "Movie H    3.7\n",
       "Movie I    4.0\n",
       "Movie J    4.4\n",
       "Name: rating, dtype: float64"
      ]
     },
     "execution_count": 22,
     "metadata": {},
     "output_type": "execute_result"
    }
   ],
   "source": [
    "df_movies.groupby(\"title\")[\"rating\"].mean()"
   ]
  },
  {
   "cell_type": "code",
   "execution_count": 23,
   "id": "65289503-8530-4c7d-879e-0faa5f4a6f41",
   "metadata": {},
   "outputs": [],
   "source": [
    "# 1. Average rating for each movie\n",
    "average_rating_per_movie = df_movies.rating\n",
    "\n",
    "# 2. Number of ratings given to each movie\n",
    "number_of_ratings_per_movie = df_movies.num_ratings\n",
    "\n",
    "# 3. Movie with the highest average rating\n",
    "movie_with_highest_rating = df_movies.loc[df_movies[\"rating\"].idxmax(), \"title\"]\n",
    "\n",
    "# 4. Average rating for each genre\n",
    "average_rating_per_genre = df_movies.groupby(\"genre\")[\"rating\"].mean()\n",
    "\n",
    "# 5. Number of movies in each genre\n",
    "number_of_movies_per_genre = df_movies.groupby(\"genre\").size()\n",
    "\n",
    "# 6. Genre with the highest average rating\n",
    "genre_with_highest_rating = average_rating_per_genre.idxmax()\n",
    "\n",
    "# 7. Correlation between movie ratings and movie budgets\n",
    "correlation_rating_budget = df_movies[\"rating\"].corr(df_movies[\"budget\"])"
   ]
  },
  {
   "cell_type": "code",
   "execution_count": 28,
   "id": "25c7c23d",
   "metadata": {},
   "outputs": [
    {
     "data": {
      "text/plain": [
       "<Axes: xlabel='title'>"
      ]
     },
     "execution_count": 28,
     "metadata": {},
     "output_type": "execute_result"
    },
    {
     "data": {
      "image/png": "[encoded data removed]",
      "text/plain": [
       "<Figure size 640x480 with 1 Axes>"
      ]
     },
     "metadata": {},
     "output_type": "display_data"
    }
   ],
   "source": [
    "import matplotlib.pyplot as plt\n",
    "\n",
    "# 8. Histogram of movie ratings\n",
    "df_movies[[\"title\", \"rating\"]].set_index(\"title\").plot(kind=\"bar\", rot=45)"
   ]
  },
  {
   "cell_type": "markdown",
   "id": "cbb07b91-b169-4cd3-b04f-2003c6d83cd2",
   "metadata": {},
   "source": [
    "# Exercise 3\n",
    "\n",
    "You are given four pandas DataFrames: `df_customers`, `df_purchases`, `df_returns`, and `df_products`. These DataFrames contain information about customers, their purchases, returns, and product details in an online retail store. Your task is to merge and manipulate the DataFrames to answer a series of questions.\n",
    "\n",
    "1. Merge the DataFrames df_customers, df_purchases, df_returns, and df_products based on the appropriate columns.\n",
    "1. Calculate the total revenue generated by each customer, taking into account both purchases and returns.\n",
    "1. Determine the number of purchases made by each customer.\n",
    "1. Identify the most frequently returned product.\n",
    "1. Concatenate the df_purchases and df_returns DataFrames vertically to create a single DataFrame containing all transactions.\n",
    "1. Calculate the average unit price of each product across all transactions."
   ]
  },
  {
   "cell_type": "code",
   "execution_count": 84,
   "id": "bdff0fb9-0285-442b-9b6c-e0896cda4c63",
   "metadata": {},
   "outputs": [],
   "source": [
    "df_customers = pd.DataFrame(\n",
    "    {\n",
    "        \"customer_id\": [1, 2, 3, 4, 5, 6, 7, 8, 9, 10],\n",
    "        \"name\": [\n",
    "            \"Alice\",\n",
    "            \"Bob\",\n",
    "            \"Charlie\",\n",
    "            \"David\",\n",
    "            \"Eve\",\n",
    "            \"Frank\",\n",
    "            \"Grace\",\n",
    "            \"Henry\",\n",
    "            \"Isabella\",\n",
    "            \"Jack\",\n",
    "        ],\n",
    "        \"email\": [\n",
    "            \"alice@example.com\",\n",
    "            \"bob@example.com\",\n",
    "            \"charlie@example.com\",\n",
    "            \"david@example.com\",\n",
    "            \"eve@example.com\",\n",
    "            \"frank@example.com\",\n",
    "            \"grace@example.com\",\n",
    "            \"henry@example.com\",\n",
    "            \"isabella@example.com\",\n",
    "            \"jack@example.com\",\n",
    "        ],\n",
    "    }\n",
    ")\n",
    "\n",
    "df_purchases = pd.DataFrame(\n",
    "    {\n",
    "        \"customer_id\": [1, 2, 3, 2, 4, 5, 1, 6, 7, 8],\n",
    "        \"product_id\": [1, 2, 3, 2, 1, 4, 1, 3, 2, 4],\n",
    "        \"quantity\": [2, 3, 1, 4, 2, 1, 3, 2, 1, 2],\n",
    "        \"unit_price\": [\n",
    "            10.99,\n",
    "            19.99,\n",
    "            9.99,\n",
    "            15.99,\n",
    "            12.99,\n",
    "            8.99,\n",
    "            14.99,\n",
    "            11.99,\n",
    "            10.99,\n",
    "            13.99,\n",
    "        ],\n",
    "    }\n",
    ")\n",
    "\n",
    "df_returns = pd.DataFrame(\n",
    "    {\n",
    "        \"customer_id\": [2, 3, 4, 1, 5, 6, 9],\n",
    "        \"product_id\": [2, 3, 1, 4, 1, 3, 2],\n",
    "        \"quantity\": [1, 1, 2, 1, 2, 1, 1],\n",
    "    }\n",
    ")\n",
    "\n",
    "df_products = pd.DataFrame(\n",
    "    {\n",
    "        \"product_id\": [1, 2, 3, 4],\n",
    "        \"product_name\": [\"Widget A\", \"Widget B\", \"Widget C\", \"Widget D\"],\n",
    "        \"category\": [\"Electronics\", \"Electronics\", \"Home\", \"Home\"],\n",
    "    }\n",
    ")"
   ]
  },
  {
   "cell_type": "markdown",
   "id": "79c1abd7",
   "metadata": {},
   "source": [
    "**1. Merge the tables**\n",
    "In this case I will merge all the tables"
   ]
  },
  {
   "cell_type": "code",
   "execution_count": 85,
   "id": "2dc2880f",
   "metadata": {},
   "outputs": [
    {
     "data": {
      "text/html": [
       "<div>\n",
       "<style scoped>\n",
       "    .dataframe tbody tr th:only-of-type {\n",
       "        vertical-align: middle;\n",
       "    }\n",
       "\n",
       "    .dataframe tbody tr th {\n",
       "        vertical-align: top;\n",
       "    }\n",
       "\n",
       "    .dataframe thead th {\n",
       "        text-align: right;\n",
       "    }\n",
       "</style>\n",
       "<table border=\"1\" class=\"dataframe\">\n",
       "  <thead>\n",
       "    <tr style=\"text-align: right;\">\n",
       "      <th></th>\n",
       "      <th>customer_id</th>\n",
       "      <th>name</th>\n",
       "      <th>email</th>\n",
       "      <th>product_id</th>\n",
       "      <th>product_name</th>\n",
       "      <th>category</th>\n",
       "      <th>units_bougth</th>\n",
       "      <th>unit_price</th>\n",
       "      <th>units_returned</th>\n",
       "    </tr>\n",
       "  </thead>\n",
       "  <tbody>\n",
       "    <tr>\n",
       "      <th>0</th>\n",
       "      <td>1</td>\n",
       "      <td>Alice</td>\n",
       "      <td>alice@example.com</td>\n",
       "      <td>1.0</td>\n",
       "      <td>Widget A</td>\n",
       "      <td>Electronics</td>\n",
       "      <td>2.0</td>\n",
       "      <td>10.99</td>\n",
       "      <td>NaN</td>\n",
       "    </tr>\n",
       "    <tr>\n",
       "      <th>1</th>\n",
       "      <td>1</td>\n",
       "      <td>Alice</td>\n",
       "      <td>alice@example.com</td>\n",
       "      <td>1.0</td>\n",
       "      <td>Widget A</td>\n",
       "      <td>Electronics</td>\n",
       "      <td>3.0</td>\n",
       "      <td>14.99</td>\n",
       "      <td>NaN</td>\n",
       "    </tr>\n",
       "    <tr>\n",
       "      <th>2</th>\n",
       "      <td>1</td>\n",
       "      <td>Alice</td>\n",
       "      <td>alice@example.com</td>\n",
       "      <td>4.0</td>\n",
       "      <td>Widget D</td>\n",
       "      <td>Home</td>\n",
       "      <td>NaN</td>\n",
       "      <td>NaN</td>\n",
       "      <td>1.0</td>\n",
       "    </tr>\n",
       "    <tr>\n",
       "      <th>3</th>\n",
       "      <td>2</td>\n",
       "      <td>Bob</td>\n",
       "      <td>bob@example.com</td>\n",
       "      <td>2.0</td>\n",
       "      <td>Widget B</td>\n",
       "      <td>Electronics</td>\n",
       "      <td>3.0</td>\n",
       "      <td>19.99</td>\n",
       "      <td>1.0</td>\n",
       "    </tr>\n",
       "    <tr>\n",
       "      <th>4</th>\n",
       "      <td>2</td>\n",
       "      <td>Bob</td>\n",
       "      <td>bob@example.com</td>\n",
       "      <td>2.0</td>\n",
       "      <td>Widget B</td>\n",
       "      <td>Electronics</td>\n",
       "      <td>4.0</td>\n",
       "      <td>15.99</td>\n",
       "      <td>1.0</td>\n",
       "    </tr>\n",
       "  </tbody>\n",
       "</table>\n",
       "</div>"
      ],
      "text/plain": [
       "   customer_id   name              email  product_id product_name  \\\n",
       "0            1  Alice  alice@example.com         1.0     Widget A   \n",
       "1            1  Alice  alice@example.com         1.0     Widget A   \n",
       "2            1  Alice  alice@example.com         4.0     Widget D   \n",
       "3            2    Bob    bob@example.com         2.0     Widget B   \n",
       "4            2    Bob    bob@example.com         2.0     Widget B   \n",
       "\n",
       "      category  units_bougth  unit_price  units_returned  \n",
       "0  Electronics           2.0       10.99             NaN  \n",
       "1  Electronics           3.0       14.99             NaN  \n",
       "2         Home           NaN         NaN             1.0  \n",
       "3  Electronics           3.0       19.99             1.0  \n",
       "4  Electronics           4.0       15.99             1.0  "
      ]
     },
     "execution_count": 85,
     "metadata": {},
     "output_type": "execute_result"
    }
   ],
   "source": [
    "# 1. Merge the DataFrames df_customers, df_purchases, df_returns, and df_products based on the appropriate columns.\n",
    "\n",
    "# Merge purchases and returns to get the total quantity of each product bought and returned by each customer\n",
    "# Then change the column names to reflect the units bought and returned. (quantuty_x -> units_bought, quantity_y -> units_returned)\n",
    "merged = pd.merge(\n",
    "    df_purchases, df_returns, on=[\"customer_id\", \"product_id\"], how=\"outer\"\n",
    ")\n",
    "merged = merged.rename(\n",
    "    columns={\"quantity_x\": \"units_bougth\", \"quantity_y\": \"units_returned\"}\n",
    ")\n",
    "\n",
    "# Merge the products DataFrame to get the product name and category for each product\n",
    "merged = pd.merge(df_products, merged, on=\"product_id\", how=\"left\")\n",
    "\n",
    "# Merge the customers DataFrame to get the customer name and email for each customer\n",
    "merged = pd.merge(df_customers, merged, on=\"customer_id\", how=\"left\")\n",
    "\n",
    "merged.head()"
   ]
  },
  {
   "cell_type": "code",
   "execution_count": 86,
   "id": "1b600154",
   "metadata": {},
   "outputs": [],
   "source": [
    "# 2. Total revenue generated by each customer, considering both purchases and returns\n",
    "\n",
    "# Set all the NaN values in the units returned column to 0. This means that the product weren't returned\n",
    "merged[\"units_returned\"] = merged[\"units_returned\"].fillna(0.0)\n",
    "\n",
    "# Drop all rows where the units bought are NaN. This means that the product were returned without being bought.\n",
    "# Maybe the product were bought in a previous transaction and then returned in a different transaction.\n",
    "# But, in this case, we are only interested in the transactions where the product were bought and returned in this dataset\n",
    "merged = merged.dropna(subset=[\"units_bougth\"])\n",
    "\n",
    "# Calculate the net units bought by subtracting the units returned from the units bought\n",
    "merged[\"net_units\"] = merged[\"units_bougth\"] - merged[\"units_returned\"]\n",
    "\n",
    "# Calculate the revenue generated by each customer by multiplying the net units bought by the unit price\n",
    "merged[\"revenue\"] = merged[\"net_units\"] * merged[\"unit_price\"]\n",
    "\n",
    "# Calculate the total revenue generated by each customer\n",
    "total_revenue_per_customer = merged_df.groupby(\"customer_id\")[\"revenue\"].sum()"
   ]
  },
  {
   "cell_type": "code",
   "execution_count": 87,
   "id": "b55cae06",
   "metadata": {},
   "outputs": [
    {
     "data": {
      "text/plain": [
       "customer_id\n",
       "1     66.95\n",
       "2    123.93\n",
       "3      9.99\n",
       "4     25.98\n",
       "5      8.99\n",
       "6     23.98\n",
       "7     10.99\n",
       "8     27.98\n",
       "Name: revenue, dtype: float64"
      ]
     },
     "execution_count": 87,
     "metadata": {},
     "output_type": "execute_result"
    }
   ],
   "source": [
    "total_revenue_per_customer"
   ]
  },
  {
   "cell_type": "code",
   "execution_count": 88,
   "id": "2650fe16",
   "metadata": {},
   "outputs": [],
   "source": [
    "# 3. Number of purchases made by each customer\n",
    "number_of_purchases_per_customer = merged_df.groupby(\"customer_id\").size()"
   ]
  },
  {
   "cell_type": "code",
   "execution_count": 89,
   "id": "53ae9533",
   "metadata": {},
   "outputs": [
    {
     "data": {
      "text/plain": [
       "customer_id\n",
       "1    2\n",
       "2    2\n",
       "3    1\n",
       "4    1\n",
       "5    1\n",
       "6    1\n",
       "7    1\n",
       "8    1\n",
       "dtype: int64"
      ]
     },
     "execution_count": 89,
     "metadata": {},
     "output_type": "execute_result"
    }
   ],
   "source": [
    "number_of_purchases_per_customer"
   ]
  },
  {
   "cell_type": "code",
   "execution_count": 90,
   "id": "6f095b27",
   "metadata": {},
   "outputs": [
    {
     "data": {
      "text/plain": [
       "product_name\n",
       "Widget A    2.0\n",
       "Widget B    2.0\n",
       "Widget C    2.0\n",
       "Widget D    0.0\n",
       "Name: units_returned, dtype: float64"
      ]
     },
     "execution_count": 90,
     "metadata": {},
     "output_type": "execute_result"
    }
   ],
   "source": [
    "# 4. Most frequently returned product\n",
    "merged.groupby(\"product_name\")[\"units_returned\"].sum()\n",
    "\n",
    "# Answer: Widget A, B, C"
   ]
  },
  {
   "cell_type": "code",
   "execution_count": 96,
   "id": "3bacfcf4",
   "metadata": {},
   "outputs": [],
   "source": [
    "# 5. Concatenate the `df_purchases` and `df_returns` DataFrames vertically\n",
    "\n",
    "transactions_df = pd.concat([df_purchases, df_returns], ignore_index=True)"
   ]
  },
  {
   "cell_type": "code",
   "execution_count": 97,
   "id": "d5c1c94c",
   "metadata": {},
   "outputs": [
    {
     "data": {
      "text/html": [
       "<div>\n",
       "<style scoped>\n",
       "    .dataframe tbody tr th:only-of-type {\n",
       "        vertical-align: middle;\n",
       "    }\n",
       "\n",
       "    .dataframe tbody tr th {\n",
       "        vertical-align: top;\n",
       "    }\n",
       "\n",
       "    .dataframe thead th {\n",
       "        text-align: right;\n",
       "    }\n",
       "</style>\n",
       "<table border=\"1\" class=\"dataframe\">\n",
       "  <thead>\n",
       "    <tr style=\"text-align: right;\">\n",
       "      <th></th>\n",
       "      <th>customer_id</th>\n",
       "      <th>product_id</th>\n",
       "      <th>quantity</th>\n",
       "      <th>unit_price</th>\n",
       "    </tr>\n",
       "  </thead>\n",
       "  <tbody>\n",
       "    <tr>\n",
       "      <th>0</th>\n",
       "      <td>1</td>\n",
       "      <td>1</td>\n",
       "      <td>2</td>\n",
       "      <td>10.99</td>\n",
       "    </tr>\n",
       "    <tr>\n",
       "      <th>1</th>\n",
       "      <td>2</td>\n",
       "      <td>2</td>\n",
       "      <td>3</td>\n",
       "      <td>19.99</td>\n",
       "    </tr>\n",
       "    <tr>\n",
       "      <th>2</th>\n",
       "      <td>3</td>\n",
       "      <td>3</td>\n",
       "      <td>1</td>\n",
       "      <td>9.99</td>\n",
       "    </tr>\n",
       "    <tr>\n",
       "      <th>3</th>\n",
       "      <td>2</td>\n",
       "      <td>2</td>\n",
       "      <td>4</td>\n",
       "      <td>15.99</td>\n",
       "    </tr>\n",
       "    <tr>\n",
       "      <th>4</th>\n",
       "      <td>4</td>\n",
       "      <td>1</td>\n",
       "      <td>2</td>\n",
       "      <td>12.99</td>\n",
       "    </tr>\n",
       "    <tr>\n",
       "      <th>5</th>\n",
       "      <td>5</td>\n",
       "      <td>4</td>\n",
       "      <td>1</td>\n",
       "      <td>8.99</td>\n",
       "    </tr>\n",
       "    <tr>\n",
       "      <th>6</th>\n",
       "      <td>1</td>\n",
       "      <td>1</td>\n",
       "      <td>3</td>\n",
       "      <td>14.99</td>\n",
       "    </tr>\n",
       "    <tr>\n",
       "      <th>7</th>\n",
       "      <td>6</td>\n",
       "      <td>3</td>\n",
       "      <td>2</td>\n",
       "      <td>11.99</td>\n",
       "    </tr>\n",
       "    <tr>\n",
       "      <th>8</th>\n",
       "      <td>7</td>\n",
       "      <td>2</td>\n",
       "      <td>1</td>\n",
       "      <td>10.99</td>\n",
       "    </tr>\n",
       "    <tr>\n",
       "      <th>9</th>\n",
       "      <td>8</td>\n",
       "      <td>4</td>\n",
       "      <td>2</td>\n",
       "      <td>13.99</td>\n",
       "    </tr>\n",
       "    <tr>\n",
       "      <th>10</th>\n",
       "      <td>2</td>\n",
       "      <td>2</td>\n",
       "      <td>1</td>\n",
       "      <td>NaN</td>\n",
       "    </tr>\n",
       "    <tr>\n",
       "      <th>11</th>\n",
       "      <td>3</td>\n",
       "      <td>3</td>\n",
       "      <td>1</td>\n",
       "      <td>NaN</td>\n",
       "    </tr>\n",
       "    <tr>\n",
       "      <th>12</th>\n",
       "      <td>4</td>\n",
       "      <td>1</td>\n",
       "      <td>2</td>\n",
       "      <td>NaN</td>\n",
       "    </tr>\n",
       "    <tr>\n",
       "      <th>13</th>\n",
       "      <td>1</td>\n",
       "      <td>4</td>\n",
       "      <td>1</td>\n",
       "      <td>NaN</td>\n",
       "    </tr>\n",
       "    <tr>\n",
       "      <th>14</th>\n",
       "      <td>5</td>\n",
       "      <td>1</td>\n",
       "      <td>2</td>\n",
       "      <td>NaN</td>\n",
       "    </tr>\n",
       "    <tr>\n",
       "      <th>15</th>\n",
       "      <td>6</td>\n",
       "      <td>3</td>\n",
       "      <td>1</td>\n",
       "      <td>NaN</td>\n",
       "    </tr>\n",
       "    <tr>\n",
       "      <th>16</th>\n",
       "      <td>9</td>\n",
       "      <td>2</td>\n",
       "      <td>1</td>\n",
       "      <td>NaN</td>\n",
       "    </tr>\n",
       "  </tbody>\n",
       "</table>\n",
       "</div>"
      ],
      "text/plain": [
       "    customer_id  product_id  quantity  unit_price\n",
       "0             1           1         2       10.99\n",
       "1             2           2         3       19.99\n",
       "2             3           3         1        9.99\n",
       "3             2           2         4       15.99\n",
       "4             4           1         2       12.99\n",
       "5             5           4         1        8.99\n",
       "6             1           1         3       14.99\n",
       "7             6           3         2       11.99\n",
       "8             7           2         1       10.99\n",
       "9             8           4         2       13.99\n",
       "10            2           2         1         NaN\n",
       "11            3           3         1         NaN\n",
       "12            4           1         2         NaN\n",
       "13            1           4         1         NaN\n",
       "14            5           1         2         NaN\n",
       "15            6           3         1         NaN\n",
       "16            9           2         1         NaN"
      ]
     },
     "execution_count": 97,
     "metadata": {},
     "output_type": "execute_result"
    }
   ],
   "source": [
    "transactions_df"
   ]
  },
  {
   "cell_type": "code",
   "execution_count": 98,
   "id": "258a73a6-f876-415e-9398-30e9bd2a25e7",
   "metadata": {},
   "outputs": [
    {
     "data": {
      "text/plain": [
       "product_id\n",
       "1    12.990000\n",
       "2    15.656667\n",
       "3    10.990000\n",
       "4    11.490000\n",
       "Name: unit_price, dtype: float64"
      ]
     },
     "execution_count": 98,
     "metadata": {},
     "output_type": "execute_result"
    }
   ],
   "source": [
    "# 6. Average unit price of each product across all purchases\n",
    "df_purchases.groupby(\"product_id\")[\"unit_price\"].mean()"
   ]
  }
 ],
 "metadata": {
  "kernelspec": {
   "display_name": "Python 3 (ipykernel)",
   "language": "python",
   "name": "python3"
  },
  "language_info": {
   "codemirror_mode": {
    "name": "ipython",
    "version": 3
   },
   "file_extension": ".py",
   "mimetype": "text/x-python",
   "name": "python",
   "nbconvert_exporter": "python",
   "pygments_lexer": "ipython3",
   "version": "3.11.5"
  }
 },
 "nbformat": 4,
 "nbformat_minor": 5
}
