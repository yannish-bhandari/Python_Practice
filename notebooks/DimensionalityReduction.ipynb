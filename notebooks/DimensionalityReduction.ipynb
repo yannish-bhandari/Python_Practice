{
 "cells": [
  {
   "cell_type": "markdown",
   "id": "e9baf951",
   "metadata": {},
   "source": [
    "# **EXERCISES**"
   ]
  },
  {
   "cell_type": "markdown",
   "id": "c812b6c8-9089-4252-b00f-ecf1e2e7d392",
   "metadata": {},
   "source": [
    "# Exercise 01\n",
    "\n",
    "Build a machine learning algorithm with the `Wines` dataset (predict Red or White wine) and using following feature selection methods:\n",
    "- No feature selection\n",
    "- Filter: Implement a `SelectKBest` method with `f_classif` as scoring function. Select the top 5 features.\n",
    "- Wrapper: Implement a `RFE` method with a `LogisticRegression` as estimator. Select the top 5 features. NOTE: Use StandardScaler first.\n",
    "- Intrinsic: Get the Top 5 features from a `DecisionTreeClassifier` model. NOTE: You can also use `SelectFromModel` with `DecisionTreeClassifier` as estimator.\n",
    "- Use mRMR to select the top 5 features.\n",
    "\n",
    "Then train a `RandomForestClassifier` with the selected features and evaluate the model using a 5-fold cross-validation."
   ]
  },
  {
   "cell_type": "code",
   "execution_count": 1,
   "id": "70e9e353",
   "metadata": {},
   "outputs": [
    {
     "name": "stderr",
     "output_type": "stream",
     "text": [
      "c:\\Users\\dasir\\anaconda3\\envs\\pda-ie\\Lib\\site-packages\\pandas\\core\\arrays\\masked.py:60: UserWarning: Pandas requires version '1.3.6' or newer of 'bottleneck' (version '1.3.5' currently installed).\n",
      "  from pandas.core import (\n"
     ]
    }
   ],
   "source": [
    "import pandas as pd"
   ]
  },
  {
   "cell_type": "code",
   "execution_count": 2,
   "id": "200e5dbb",
   "metadata": {},
   "outputs": [
    {
     "data": {
      "text/html": [
       "<div>\n",
       "<style scoped>\n",
       "    .dataframe tbody tr th:only-of-type {\n",
       "        vertical-align: middle;\n",
       "    }\n",
       "\n",
       "    .dataframe tbody tr th {\n",
       "        vertical-align: top;\n",
       "    }\n",
       "\n",
       "    .dataframe thead th {\n",
       "        text-align: right;\n",
       "    }\n",
       "</style>\n",
       "<table border=\"1\" class=\"dataframe\">\n",
       "  <thead>\n",
       "    <tr style=\"text-align: right;\">\n",
       "      <th></th>\n",
       "      <th>fixed_acidity</th>\n",
       "      <th>volatile_acidity</th>\n",
       "      <th>citric_acid</th>\n",
       "      <th>residual_sugar</th>\n",
       "      <th>chlorides</th>\n",
       "      <th>free_sulfur_dioxide</th>\n",
       "      <th>total_sulfur_dioxide</th>\n",
       "      <th>density</th>\n",
       "      <th>pH</th>\n",
       "      <th>sulphates</th>\n",
       "      <th>alcohol</th>\n",
       "      <th>quality</th>\n",
       "      <th>style</th>\n",
       "    </tr>\n",
       "  </thead>\n",
       "  <tbody>\n",
       "    <tr>\n",
       "      <th>0</th>\n",
       "      <td>7.4</td>\n",
       "      <td>0.70</td>\n",
       "      <td>0.00</td>\n",
       "      <td>1.9</td>\n",
       "      <td>0.076</td>\n",
       "      <td>11.0</td>\n",
       "      <td>34.0</td>\n",
       "      <td>0.9978</td>\n",
       "      <td>3.51</td>\n",
       "      <td>0.56</td>\n",
       "      <td>9.4</td>\n",
       "      <td>5</td>\n",
       "      <td>red</td>\n",
       "    </tr>\n",
       "    <tr>\n",
       "      <th>1</th>\n",
       "      <td>7.8</td>\n",
       "      <td>0.88</td>\n",
       "      <td>0.00</td>\n",
       "      <td>2.6</td>\n",
       "      <td>0.098</td>\n",
       "      <td>25.0</td>\n",
       "      <td>67.0</td>\n",
       "      <td>0.9968</td>\n",
       "      <td>3.20</td>\n",
       "      <td>0.68</td>\n",
       "      <td>9.8</td>\n",
       "      <td>5</td>\n",
       "      <td>red</td>\n",
       "    </tr>\n",
       "    <tr>\n",
       "      <th>2</th>\n",
       "      <td>7.8</td>\n",
       "      <td>0.76</td>\n",
       "      <td>0.04</td>\n",
       "      <td>2.3</td>\n",
       "      <td>0.092</td>\n",
       "      <td>15.0</td>\n",
       "      <td>54.0</td>\n",
       "      <td>0.9970</td>\n",
       "      <td>3.26</td>\n",
       "      <td>0.65</td>\n",
       "      <td>9.8</td>\n",
       "      <td>5</td>\n",
       "      <td>red</td>\n",
       "    </tr>\n",
       "    <tr>\n",
       "      <th>3</th>\n",
       "      <td>11.2</td>\n",
       "      <td>0.28</td>\n",
       "      <td>0.56</td>\n",
       "      <td>1.9</td>\n",
       "      <td>0.075</td>\n",
       "      <td>17.0</td>\n",
       "      <td>60.0</td>\n",
       "      <td>0.9980</td>\n",
       "      <td>3.16</td>\n",
       "      <td>0.58</td>\n",
       "      <td>9.8</td>\n",
       "      <td>6</td>\n",
       "      <td>red</td>\n",
       "    </tr>\n",
       "    <tr>\n",
       "      <th>4</th>\n",
       "      <td>7.4</td>\n",
       "      <td>0.70</td>\n",
       "      <td>0.00</td>\n",
       "      <td>1.9</td>\n",
       "      <td>0.076</td>\n",
       "      <td>11.0</td>\n",
       "      <td>34.0</td>\n",
       "      <td>0.9978</td>\n",
       "      <td>3.51</td>\n",
       "      <td>0.56</td>\n",
       "      <td>9.4</td>\n",
       "      <td>5</td>\n",
       "      <td>red</td>\n",
       "    </tr>\n",
       "  </tbody>\n",
       "</table>\n",
       "</div>"
      ],
      "text/plain": [
       "   fixed_acidity  volatile_acidity  citric_acid  residual_sugar  chlorides  \\\n",
       "0            7.4              0.70         0.00             1.9      0.076   \n",
       "1            7.8              0.88         0.00             2.6      0.098   \n",
       "2            7.8              0.76         0.04             2.3      0.092   \n",
       "3           11.2              0.28         0.56             1.9      0.075   \n",
       "4            7.4              0.70         0.00             1.9      0.076   \n",
       "\n",
       "   free_sulfur_dioxide  total_sulfur_dioxide  density    pH  sulphates  \\\n",
       "0                 11.0                  34.0   0.9978  3.51       0.56   \n",
       "1                 25.0                  67.0   0.9968  3.20       0.68   \n",
       "2                 15.0                  54.0   0.9970  3.26       0.65   \n",
       "3                 17.0                  60.0   0.9980  3.16       0.58   \n",
       "4                 11.0                  34.0   0.9978  3.51       0.56   \n",
       "\n",
       "   alcohol  quality style  \n",
       "0      9.4        5   red  \n",
       "1      9.8        5   red  \n",
       "2      9.8        5   red  \n",
       "3      9.8        6   red  \n",
       "4      9.4        5   red  "
      ]
     },
     "execution_count": 2,
     "metadata": {},
     "output_type": "execute_result"
    }
   ],
   "source": [
    "data = pd.read_csv(\"data/wine_dataset.csv\")\n",
    "data.head()"
   ]
  },
  {
   "cell_type": "code",
   "execution_count": 39,
   "id": "7a14339f",
   "metadata": {},
   "outputs": [],
   "source": [
    "from sklearn.model_selection import cross_val_score\n",
    "from sklearn.ensemble import RandomForestClassifier\n",
    "from sklearn.feature_selection import SelectKBest, f_classif\n",
    "from sklearn.preprocessing import LabelEncoder\n",
    "from sklearn.model_selection import train_test_split\n",
    "from sklearn.preprocessing import StandardScaler\n",
    "from sklearn.linear_model import LogisticRegression\n",
    "from sklearn.feature_selection import RFE\n",
    "from sklearn.tree import DecisionTreeClassifier\n",
    "from sklearn.feature_selection import SelectFromModel\n",
    "import matplotlib.pyplot as plt\n"
   ]
  },
  {
   "cell_type": "code",
   "execution_count": 26,
   "id": "16de5d05",
   "metadata": {},
   "outputs": [],
   "source": [
    "X = data.drop(['style'], axis=1)\n",
    "y = data['style']\n",
    "\n",
    "# apply train test split\n",
    "X_train, X_test, y_train, y_test = train_test_split(X, y, test_size=0.2, random_state=42)\n",
    "\n",
    "# Standardize data\n",
    "scaler = StandardScaler()\n",
    "X_train_scaled = scaler.fit_transform(X_train)\n",
    "X_test_scaled = scaler.transform(X_test)\n",
    "X_train_scaled = pd.DataFrame(X_train_scaled, columns=X_train.columns)\n",
    "X_test_scaled = pd.DataFrame(X_test_scaled, columns=X_test.columns)\n"
   ]
  },
  {
   "cell_type": "markdown",
   "id": "eeb25bd7",
   "metadata": {},
   "source": [
    "**Don't apply any dimensionality reduction technique**"
   ]
  },
  {
   "cell_type": "code",
   "execution_count": 31,
   "id": "ca8daf31",
   "metadata": {},
   "outputs": [
    {
     "name": "stdout",
     "output_type": "stream",
     "text": [
      "No feature selection\n",
      "Features: Index(['fixed_acidity', 'volatile_acidity', 'citric_acid', 'residual_sugar',\n",
      "       'chlorides', 'free_sulfur_dioxide', 'total_sulfur_dioxide', 'density',\n",
      "       'pH', 'sulphates', 'alcohol', 'quality'],\n",
      "      dtype='object')\n",
      "Cross-validation scores: [0.99134615 0.99423077 0.99422522 0.99230029 0.99518768]\n",
      "Average CV score: 0.9934580217664915\n"
     ]
    }
   ],
   "source": [
    "# No feature selection - use original features\n",
    "rf = LogisticRegression(max_iter=1000)\n",
    "scores = cross_val_score(rf, X_train_scaled, y_train, cv=5, scoring='accuracy')\n",
    "\n",
    "print(\"No feature selection\")\n",
    "print(\"Features:\", X_train_scaled.columns)\n",
    "print(\"Cross-validation scores:\", scores)\n",
    "print(\"Average CV score:\", scores.mean())"
   ]
  },
  {
   "cell_type": "markdown",
   "id": "a71bea5c",
   "metadata": {},
   "source": [
    "**1. Apply `SelectKBest` with `f_classif` (ANOVA)**"
   ]
  },
  {
   "cell_type": "code",
   "execution_count": 43,
   "id": "ebdfb4b6",
   "metadata": {},
   "outputs": [
    {
     "name": "stdout",
     "output_type": "stream",
     "text": [
      "Filter: SelectKBest with f_classif\n",
      "Selected features: ['fixed_acidity' 'volatile_acidity' 'chlorides' 'total_sulfur_dioxide'\n",
      " 'sulphates']\n",
      "Cross-validation scores: [0.98365385 0.98557692 0.98556304 0.97786333 0.97882579]\n",
      "Average CV score: 0.9822965869549123\n"
     ]
    }
   ],
   "source": [
    "# Apply SelectKBest with f_classif to select top 5 features\n",
    "selector = SelectKBest(score_func=f_classif, k=5)\n",
    "X_selected = selector.fit_transform(X_train_scaled, y_train)\n",
    "\n",
    "# Transform to DataFrame\n",
    "X_selected = pd.DataFrame(X_selected, columns=selector.get_feature_names_out())\n",
    "\n",
    "# Train RandomForestClassifier and evaluate with 5-fold cross-validation\n",
    "rf = LogisticRegression(max_iter=1000)\n",
    "scores = cross_val_score(rf, X_selected, y_train, cv=5, scoring='accuracy')\n",
    "\n",
    "print(\"Filter: SelectKBest with f_classif\")\n",
    "print(\"Selected features:\", selector.get_feature_names_out())\n",
    "print(\"Cross-validation scores:\", scores)\n",
    "print(\"Average CV score:\", scores.mean())"
   ]
  },
  {
   "cell_type": "markdown",
   "id": "887d7449",
   "metadata": {},
   "source": [
    "**Apply `RFE` with `LogisticRegression`**   \n"
   ]
  },
  {
   "cell_type": "code",
   "execution_count": 30,
   "id": "ad317607",
   "metadata": {},
   "outputs": [
    {
     "name": "stdout",
     "output_type": "stream",
     "text": [
      "Wrapper: RFE with LogisticRegression\n",
      "Selected features: Index(['volatile_acidity', 'residual_sugar', 'total_sulfur_dioxide', 'density',\n",
      "       'alcohol'],\n",
      "      dtype='object')\n",
      "Cross-validation scores: [0.99326923 0.99519231 0.99615014 0.99230029 0.99422522]\n",
      "Average CV score: 0.9942274376249353\n"
     ]
    }
   ],
   "source": [
    "# Initialize LogisticRegression and RFE to select top 5 features\n",
    "lr = LogisticRegression(random_state=42)\n",
    "rfe = RFE(estimator=lr, n_features_to_select=5)\n",
    "\n",
    "# Fit RFE\n",
    "X_selected = rfe.fit_transform(X_train_scaled, y_train)\n",
    "\n",
    "# Get selected feature names\n",
    "selected_features = X_train.columns[rfe.support_]\n",
    "X_selected = pd.DataFrame(X_selected, columns=selected_features)\n",
    "\n",
    "# Train RandomForestClassifier and evaluate with 5-fold cross-validation\n",
    "rf = LogisticRegression(max_iter=1000)\n",
    "scores = cross_val_score(rf, X_selected, y_train, cv=5, scoring='accuracy')\n",
    "\n",
    "print(\"Wrapper: RFE with LogisticRegression\")\n",
    "print(\"Selected features:\", selected_features)\n",
    "print(\"Cross-validation scores:\", scores)\n",
    "print(\"Average CV score:\", scores.mean())"
   ]
  },
  {
   "cell_type": "markdown",
   "id": "5d609e2c",
   "metadata": {},
   "source": [
    "**Apply a `DecisionTreeClassifier`**"
   ]
  },
  {
   "cell_type": "code",
   "execution_count": 42,
   "id": "a41a112c",
   "metadata": {},
   "outputs": [
    {
     "data": {
      "text/html": [
       "<style>#sk-container-id-2 {color: black;}#sk-container-id-2 pre{padding: 0;}#sk-container-id-2 div.sk-toggleable {background-color: white;}#sk-container-id-2 label.sk-toggleable__label {cursor: pointer;display: block;width: 100%;margin-bottom: 0;padding: 0.3em;box-sizing: border-box;text-align: center;}#sk-container-id-2 label.sk-toggleable__label-arrow:before {content: \"▸\";float: left;margin-right: 0.25em;color: #696969;}#sk-container-id-2 label.sk-toggleable__label-arrow:hover:before {color: black;}#sk-container-id-2 div.sk-estimator:hover label.sk-toggleable__label-arrow:before {color: black;}#sk-container-id-2 div.sk-toggleable__content {max-height: 0;max-width: 0;overflow: hidden;text-align: left;background-color: #f0f8ff;}#sk-container-id-2 div.sk-toggleable__content pre {margin: 0.2em;color: black;border-radius: 0.25em;background-color: #f0f8ff;}#sk-container-id-2 input.sk-toggleable__control:checked~div.sk-toggleable__content {max-height: 200px;max-width: 100%;overflow: auto;}#sk-container-id-2 input.sk-toggleable__control:checked~label.sk-toggleable__label-arrow:before {content: \"▾\";}#sk-container-id-2 div.sk-estimator input.sk-toggleable__control:checked~label.sk-toggleable__label {background-color: #d4ebff;}#sk-container-id-2 div.sk-label input.sk-toggleable__control:checked~label.sk-toggleable__label {background-color: #d4ebff;}#sk-container-id-2 input.sk-hidden--visually {border: 0;clip: rect(1px 1px 1px 1px);clip: rect(1px, 1px, 1px, 1px);height: 1px;margin: -1px;overflow: hidden;padding: 0;position: absolute;width: 1px;}#sk-container-id-2 div.sk-estimator {font-family: monospace;background-color: #f0f8ff;border: 1px dotted black;border-radius: 0.25em;box-sizing: border-box;margin-bottom: 0.5em;}#sk-container-id-2 div.sk-estimator:hover {background-color: #d4ebff;}#sk-container-id-2 div.sk-parallel-item::after {content: \"\";width: 100%;border-bottom: 1px solid gray;flex-grow: 1;}#sk-container-id-2 div.sk-label:hover label.sk-toggleable__label {background-color: #d4ebff;}#sk-container-id-2 div.sk-serial::before {content: \"\";position: absolute;border-left: 1px solid gray;box-sizing: border-box;top: 0;bottom: 0;left: 50%;z-index: 0;}#sk-container-id-2 div.sk-serial {display: flex;flex-direction: column;align-items: center;background-color: white;padding-right: 0.2em;padding-left: 0.2em;position: relative;}#sk-container-id-2 div.sk-item {position: relative;z-index: 1;}#sk-container-id-2 div.sk-parallel {display: flex;align-items: stretch;justify-content: center;background-color: white;position: relative;}#sk-container-id-2 div.sk-item::before, #sk-container-id-2 div.sk-parallel-item::before {content: \"\";position: absolute;border-left: 1px solid gray;box-sizing: border-box;top: 0;bottom: 0;left: 50%;z-index: -1;}#sk-container-id-2 div.sk-parallel-item {display: flex;flex-direction: column;z-index: 1;position: relative;background-color: white;}#sk-container-id-2 div.sk-parallel-item:first-child::after {align-self: flex-end;width: 50%;}#sk-container-id-2 div.sk-parallel-item:last-child::after {align-self: flex-start;width: 50%;}#sk-container-id-2 div.sk-parallel-item:only-child::after {width: 0;}#sk-container-id-2 div.sk-dashed-wrapped {border: 1px dashed gray;margin: 0 0.4em 0.5em 0.4em;box-sizing: border-box;padding-bottom: 0.4em;background-color: white;}#sk-container-id-2 div.sk-label label {font-family: monospace;font-weight: bold;display: inline-block;line-height: 1.2em;}#sk-container-id-2 div.sk-label-container {text-align: center;}#sk-container-id-2 div.sk-container {/* jupyter's `normalize.less` sets `[hidden] { display: none; }` but bootstrap.min.css set `[hidden] { display: none !important; }` so we also need the `!important` here to be able to override the default hidden behavior on the sphinx rendered scikit-learn.org. See: https://github.com/scikit-learn/scikit-learn/issues/21755 */display: inline-block !important;position: relative;}#sk-container-id-2 div.sk-text-repr-fallback {display: none;}</style><div id=\"sk-container-id-2\" class=\"sk-top-container\"><div class=\"sk-text-repr-fallback\"><pre>DecisionTreeClassifier(random_state=42)</pre><b>In a Jupyter environment, please rerun this cell to show the HTML representation or trust the notebook. <br />On GitHub, the HTML representation is unable to render, please try loading this page with nbviewer.org.</b></div><div class=\"sk-container\" hidden><div class=\"sk-item\"><div class=\"sk-estimator sk-toggleable\"><input class=\"sk-toggleable__control sk-hidden--visually\" id=\"sk-estimator-id-2\" type=\"checkbox\" checked><label for=\"sk-estimator-id-2\" class=\"sk-toggleable__label sk-toggleable__label-arrow\">DecisionTreeClassifier</label><div class=\"sk-toggleable__content\"><pre>DecisionTreeClassifier(random_state=42)</pre></div></div></div></div></div>"
      ],
      "text/plain": [
       "DecisionTreeClassifier(random_state=42)"
      ]
     },
     "execution_count": 42,
     "metadata": {},
     "output_type": "execute_result"
    }
   ],
   "source": [
    "# Initialize DecisionTreeClassifier and SelectFromModel\n",
    "dt = DecisionTreeClassifier(random_state=42)\n",
    "\n",
    "# Fit and transform the data\n",
    "dt.fit(X_train, y_train)"
   ]
  },
  {
   "cell_type": "code",
   "execution_count": 41,
   "id": "2b068fe1",
   "metadata": {},
   "outputs": [
    {
     "data": {
      "image/png": "[encoded data removed]",
      "text/plain": [
       "<Figure size 1000x400 with 1 Axes>"
      ]
     },
     "metadata": {},
     "output_type": "display_data"
    }
   ],
   "source": [
    "# plot feature importances\n",
    "plt.figure(figsize=(10, 4))\n",
    "plt.bar(X_train.columns, dt.feature_importances_)\n",
    "plt.xticks(rotation=90)\n",
    "plt.show()\n",
    "    "
   ]
  },
  {
   "cell_type": "code",
   "execution_count": 45,
   "id": "32ae6d2f",
   "metadata": {},
   "outputs": [
    {
     "name": "stdout",
     "output_type": "stream",
     "text": [
      "Embedded: DecisionTreeClassifier\n",
      "Selected features: Index(['sulphates', 'pH', 'volatile_acidity', 'chlorides',\n",
      "       'total_sulfur_dioxide'],\n",
      "      dtype='object')\n",
      "Cross-validation scores: [0.97692308 0.97692308 0.97401347 0.9653513  0.96920115]\n",
      "Average CV score: 0.9724824165247649\n"
     ]
    }
   ],
   "source": [
    "# select top 5 features\n",
    "selected_features = X_train.columns[dt.feature_importances_.argsort()[-5:]]\n",
    "X_selected = X_train[selected_features]\n",
    "\n",
    "# train and evaluate\n",
    "rf = LogisticRegression(max_iter=1000)\n",
    "scores = cross_val_score(rf, X_selected, y_train, cv=5, scoring='accuracy')\n",
    "\n",
    "print(\"Embedded: DecisionTreeClassifier\")\n",
    "print(\"Selected features:\", selected_features)\n",
    "print(\"Cross-validation scores:\", scores)\n",
    "print(\"Average CV score:\", scores.mean())\n"
   ]
  }
 ],
 "metadata": {
  "kernelspec": {
   "display_name": "pda-ie",
   "language": "python",
   "name": "python3"
  },
  "language_info": {
   "codemirror_mode": {
    "name": "ipython",
    "version": 3
   },
   "file_extension": ".py",
   "mimetype": "text/x-python",
   "name": "python",
   "nbconvert_exporter": "python",
   "pygments_lexer": "ipython3",
   "version": "3.11.5"
  }
 },
 "nbformat": 4,
 "nbformat_minor": 5
}
